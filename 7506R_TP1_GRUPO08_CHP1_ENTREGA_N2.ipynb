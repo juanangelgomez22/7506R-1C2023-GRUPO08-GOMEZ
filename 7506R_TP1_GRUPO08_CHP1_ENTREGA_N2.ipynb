{
  "nbformat": 4,
  "nbformat_minor": 0,
  "metadata": {
    "colab": {
      "provenance": [],
      "collapsed_sections": [
        "qXu3RlXVQ9vQ"
      ]
    },
    "kernelspec": {
      "name": "python3",
      "display_name": "Python 3"
    },
    "language_info": {
      "name": "python"
    }
  },
  "cells": [
    {
      "cell_type": "markdown",
      "source": [
        "#primero vinculo el drive y leo el dataset e imprimo caracteristicas"
      ],
      "metadata": {
        "id": "xOvjvs4fBx8c"
      }
    },
    {
      "cell_type": "code",
      "execution_count": 1,
      "metadata": {
        "colab": {
          "base_uri": "https://localhost:8080/"
        },
        "id": "YQL389NX_Pd0",
        "outputId": "78fc6087-551f-4c82-aba1-58e85f06d310"
      },
      "outputs": [
        {
          "output_type": "stream",
          "name": "stdout",
          "text": [
            "Mounted at /content/drive\n",
            "              hotel  lead_time  arrival_date_year arrival_date_month  \\\n",
            "0        City Hotel         49               2016          September   \n",
            "1      Resort Hotel          4               2015            October   \n",
            "2        City Hotel         25               2016            October   \n",
            "3        City Hotel         26               2016           December   \n",
            "4        City Hotel        104               2017              March   \n",
            "...             ...        ...                ...                ...   \n",
            "61908  Resort Hotel         24               2017            January   \n",
            "61909    City Hotel          0               2016          September   \n",
            "61910    City Hotel         10               2017                May   \n",
            "61911  Resort Hotel        143               2015            October   \n",
            "61912    City Hotel         57               2016              April   \n",
            "\n",
            "       arrival_date_week_number  arrival_date_day_of_month  \\\n",
            "0                            37                          5   \n",
            "1                            44                         31   \n",
            "2                            42                         13   \n",
            "3                            51                         12   \n",
            "4                            12                         19   \n",
            "...                         ...                        ...   \n",
            "61908                         4                         27   \n",
            "61909                        36                          2   \n",
            "61910                        19                          8   \n",
            "61911                        41                         10   \n",
            "61912                        17                         17   \n",
            "\n",
            "       stays_in_weekend_nights  stays_in_week_nights  adults  children  ...  \\\n",
            "0                            1                     2       1       0.0  ...   \n",
            "1                            0                     1       2       0.0  ...   \n",
            "2                            0                     1       2       2.0  ...   \n",
            "3                            2                     5       2       0.0  ...   \n",
            "4                            2                     5       2       0.0  ...   \n",
            "...                        ...                   ...     ...       ...  ...   \n",
            "61908                        0                     2       2       0.0  ...   \n",
            "61909                        0                     1       1       0.0  ...   \n",
            "61910                        1                     2       1       0.0  ...   \n",
            "61911                        2                     5       2       0.0  ...   \n",
            "61912                        2                     5       2       0.0  ...   \n",
            "\n",
            "       agent company days_in_waiting_list    customer_type     adr  \\\n",
            "0        9.0     NaN                    0        Transient  115.50   \n",
            "1        NaN     NaN                    0        Transient   42.00   \n",
            "2        9.0     NaN                    0        Transient  229.00   \n",
            "3      154.0     NaN                    0        Transient   75.00   \n",
            "4       20.0     NaN                    0  Transient-Party   75.00   \n",
            "...      ...     ...                  ...              ...     ...   \n",
            "61908  240.0     NaN                    0        Transient   48.00   \n",
            "61909    NaN     NaN                    0        Transient  149.00   \n",
            "61910    NaN   153.0                    0        Transient   95.00   \n",
            "61911   96.0     NaN                    0        Transient   36.05   \n",
            "61912    9.0     NaN                    0        Transient  143.29   \n",
            "\n",
            "       required_car_parking_spaces  total_of_special_requests  \\\n",
            "0                                0                          1   \n",
            "1                                1                          0   \n",
            "2                                0                          2   \n",
            "3                                0                          0   \n",
            "4                                0                          1   \n",
            "...                            ...                        ...   \n",
            "61908                            0                          1   \n",
            "61909                            0                          0   \n",
            "61910                            0                          0   \n",
            "61911                            0                          0   \n",
            "61912                            0                          0   \n",
            "\n",
            "       reservation_status_date                                    id  \\\n",
            "0                   2016-08-25  7aa4cc6b-b92c-4061-b21d-4f9e0cac4689   \n",
            "1                   2015-11-01  b1428f80-c56c-4ae4-91a9-6962edae08b1   \n",
            "2                   2016-10-14  2226c018-ea20-4c4e-8f71-ea66aee70d7c   \n",
            "3                   2016-11-29  314f56dc-2e4d-4298-9bdd-27bb008bffff   \n",
            "4                   2017-03-26  28c75445-c603-413a-babf-ad377018b592   \n",
            "...                        ...                                   ...   \n",
            "61908               2017-01-23  32bffef5-5404-4e86-9f39-fd2282e1ad7f   \n",
            "61909               2016-09-03  cc922a1c-356e-42a5-a984-0b1af03c2f5c   \n",
            "61910               2017-05-11  76fb0e83-59df-43ee-9c33-aec51030ed45   \n",
            "61911               2015-07-08  01906859-1094-4e37-b13e-b015b594d159   \n",
            "61912               2016-04-09  7137e599-4442-41fb-b147-4aba9f344e38   \n",
            "\n",
            "      is_canceled  \n",
            "0               1  \n",
            "1               0  \n",
            "2               0  \n",
            "3               1  \n",
            "4               0  \n",
            "...           ...  \n",
            "61908           1  \n",
            "61909           0  \n",
            "61910           0  \n",
            "61911           1  \n",
            "61912           1  \n",
            "\n",
            "[61913 rows x 32 columns]\n"
          ]
        }
      ],
      "source": [
        "import pandas as pd\n",
        "import numpy as np\n",
        "from google.colab import drive\n",
        "drive.mount('/content/drive')\n",
        "df = pd.read_csv(\"/content/drive/MyDrive/TP 1 Datos/data/hotels_train.csv\")\n",
        "print(df)"
      ]
    },
    {
      "cell_type": "markdown",
      "source": [
        "#Exploracion inicial del dataset\n",
        "agarro 2 registros iniciales cualesquiera"
      ],
      "metadata": {
        "id": "b87CZEn8B_qi"
      }
    },
    {
      "cell_type": "code",
      "source": [
        "df.sample(2)"
      ],
      "metadata": {
        "colab": {
          "base_uri": "https://localhost:8080/",
          "height": 309
        },
        "id": "vTrvo4tBCKqe",
        "outputId": "3002d110-21d8-4f5a-b429-1310cdb021cb"
      },
      "execution_count": 2,
      "outputs": [
        {
          "output_type": "execute_result",
          "data": {
            "text/plain": [
              "              hotel  lead_time  arrival_date_year arrival_date_month  \\\n",
              "40577    City Hotel         15               2016           December   \n",
              "40591  Resort Hotel         95               2017               June   \n",
              "\n",
              "       arrival_date_week_number  arrival_date_day_of_month  \\\n",
              "40577                        52                         20   \n",
              "40591                        23                          9   \n",
              "\n",
              "       stays_in_weekend_nights  stays_in_week_nights  adults  children  ...  \\\n",
              "40577                        2                     5       2       0.0  ...   \n",
              "40591                        2                     5       2       0.0  ...   \n",
              "\n",
              "       agent company days_in_waiting_list customer_type    adr  \\\n",
              "40577    9.0     NaN                    0     Transient   88.4   \n",
              "40591  241.0     NaN                    0     Transient  136.0   \n",
              "\n",
              "       required_car_parking_spaces  total_of_special_requests  \\\n",
              "40577                            0                          0   \n",
              "40591                            0                          1   \n",
              "\n",
              "       reservation_status_date                                    id  \\\n",
              "40577               2016-12-05  f5de7d9e-418d-409a-ac97-050081d03a6e   \n",
              "40591               2017-05-23  6b069cdf-8359-42c1-9e6f-b2006c7127b5   \n",
              "\n",
              "      is_canceled  \n",
              "40577           1  \n",
              "40591           1  \n",
              "\n",
              "[2 rows x 32 columns]"
            ],
            "text/html": [
              "\n",
              "  <div id=\"df-1a361c87-3873-46ca-8da0-320418c567ea\">\n",
              "    <div class=\"colab-df-container\">\n",
              "      <div>\n",
              "<style scoped>\n",
              "    .dataframe tbody tr th:only-of-type {\n",
              "        vertical-align: middle;\n",
              "    }\n",
              "\n",
              "    .dataframe tbody tr th {\n",
              "        vertical-align: top;\n",
              "    }\n",
              "\n",
              "    .dataframe thead th {\n",
              "        text-align: right;\n",
              "    }\n",
              "</style>\n",
              "<table border=\"1\" class=\"dataframe\">\n",
              "  <thead>\n",
              "    <tr style=\"text-align: right;\">\n",
              "      <th></th>\n",
              "      <th>hotel</th>\n",
              "      <th>lead_time</th>\n",
              "      <th>arrival_date_year</th>\n",
              "      <th>arrival_date_month</th>\n",
              "      <th>arrival_date_week_number</th>\n",
              "      <th>arrival_date_day_of_month</th>\n",
              "      <th>stays_in_weekend_nights</th>\n",
              "      <th>stays_in_week_nights</th>\n",
              "      <th>adults</th>\n",
              "      <th>children</th>\n",
              "      <th>...</th>\n",
              "      <th>agent</th>\n",
              "      <th>company</th>\n",
              "      <th>days_in_waiting_list</th>\n",
              "      <th>customer_type</th>\n",
              "      <th>adr</th>\n",
              "      <th>required_car_parking_spaces</th>\n",
              "      <th>total_of_special_requests</th>\n",
              "      <th>reservation_status_date</th>\n",
              "      <th>id</th>\n",
              "      <th>is_canceled</th>\n",
              "    </tr>\n",
              "  </thead>\n",
              "  <tbody>\n",
              "    <tr>\n",
              "      <th>40577</th>\n",
              "      <td>City Hotel</td>\n",
              "      <td>15</td>\n",
              "      <td>2016</td>\n",
              "      <td>December</td>\n",
              "      <td>52</td>\n",
              "      <td>20</td>\n",
              "      <td>2</td>\n",
              "      <td>5</td>\n",
              "      <td>2</td>\n",
              "      <td>0.0</td>\n",
              "      <td>...</td>\n",
              "      <td>9.0</td>\n",
              "      <td>NaN</td>\n",
              "      <td>0</td>\n",
              "      <td>Transient</td>\n",
              "      <td>88.4</td>\n",
              "      <td>0</td>\n",
              "      <td>0</td>\n",
              "      <td>2016-12-05</td>\n",
              "      <td>f5de7d9e-418d-409a-ac97-050081d03a6e</td>\n",
              "      <td>1</td>\n",
              "    </tr>\n",
              "    <tr>\n",
              "      <th>40591</th>\n",
              "      <td>Resort Hotel</td>\n",
              "      <td>95</td>\n",
              "      <td>2017</td>\n",
              "      <td>June</td>\n",
              "      <td>23</td>\n",
              "      <td>9</td>\n",
              "      <td>2</td>\n",
              "      <td>5</td>\n",
              "      <td>2</td>\n",
              "      <td>0.0</td>\n",
              "      <td>...</td>\n",
              "      <td>241.0</td>\n",
              "      <td>NaN</td>\n",
              "      <td>0</td>\n",
              "      <td>Transient</td>\n",
              "      <td>136.0</td>\n",
              "      <td>0</td>\n",
              "      <td>1</td>\n",
              "      <td>2017-05-23</td>\n",
              "      <td>6b069cdf-8359-42c1-9e6f-b2006c7127b5</td>\n",
              "      <td>1</td>\n",
              "    </tr>\n",
              "  </tbody>\n",
              "</table>\n",
              "<p>2 rows × 32 columns</p>\n",
              "</div>\n",
              "      <button class=\"colab-df-convert\" onclick=\"convertToInteractive('df-1a361c87-3873-46ca-8da0-320418c567ea')\"\n",
              "              title=\"Convert this dataframe to an interactive table.\"\n",
              "              style=\"display:none;\">\n",
              "        \n",
              "  <svg xmlns=\"http://www.w3.org/2000/svg\" height=\"24px\"viewBox=\"0 0 24 24\"\n",
              "       width=\"24px\">\n",
              "    <path d=\"M0 0h24v24H0V0z\" fill=\"none\"/>\n",
              "    <path d=\"M18.56 5.44l.94 2.06.94-2.06 2.06-.94-2.06-.94-.94-2.06-.94 2.06-2.06.94zm-11 1L8.5 8.5l.94-2.06 2.06-.94-2.06-.94L8.5 2.5l-.94 2.06-2.06.94zm10 10l.94 2.06.94-2.06 2.06-.94-2.06-.94-.94-2.06-.94 2.06-2.06.94z\"/><path d=\"M17.41 7.96l-1.37-1.37c-.4-.4-.92-.59-1.43-.59-.52 0-1.04.2-1.43.59L10.3 9.45l-7.72 7.72c-.78.78-.78 2.05 0 2.83L4 21.41c.39.39.9.59 1.41.59.51 0 1.02-.2 1.41-.59l7.78-7.78 2.81-2.81c.8-.78.8-2.07 0-2.86zM5.41 20L4 18.59l7.72-7.72 1.47 1.35L5.41 20z\"/>\n",
              "  </svg>\n",
              "      </button>\n",
              "      \n",
              "  <style>\n",
              "    .colab-df-container {\n",
              "      display:flex;\n",
              "      flex-wrap:wrap;\n",
              "      gap: 12px;\n",
              "    }\n",
              "\n",
              "    .colab-df-convert {\n",
              "      background-color: #E8F0FE;\n",
              "      border: none;\n",
              "      border-radius: 50%;\n",
              "      cursor: pointer;\n",
              "      display: none;\n",
              "      fill: #1967D2;\n",
              "      height: 32px;\n",
              "      padding: 0 0 0 0;\n",
              "      width: 32px;\n",
              "    }\n",
              "\n",
              "    .colab-df-convert:hover {\n",
              "      background-color: #E2EBFA;\n",
              "      box-shadow: 0px 1px 2px rgba(60, 64, 67, 0.3), 0px 1px 3px 1px rgba(60, 64, 67, 0.15);\n",
              "      fill: #174EA6;\n",
              "    }\n",
              "\n",
              "    [theme=dark] .colab-df-convert {\n",
              "      background-color: #3B4455;\n",
              "      fill: #D2E3FC;\n",
              "    }\n",
              "\n",
              "    [theme=dark] .colab-df-convert:hover {\n",
              "      background-color: #434B5C;\n",
              "      box-shadow: 0px 1px 3px 1px rgba(0, 0, 0, 0.15);\n",
              "      filter: drop-shadow(0px 1px 2px rgba(0, 0, 0, 0.3));\n",
              "      fill: #FFFFFF;\n",
              "    }\n",
              "  </style>\n",
              "\n",
              "      <script>\n",
              "        const buttonEl =\n",
              "          document.querySelector('#df-1a361c87-3873-46ca-8da0-320418c567ea button.colab-df-convert');\n",
              "        buttonEl.style.display =\n",
              "          google.colab.kernel.accessAllowed ? 'block' : 'none';\n",
              "\n",
              "        async function convertToInteractive(key) {\n",
              "          const element = document.querySelector('#df-1a361c87-3873-46ca-8da0-320418c567ea');\n",
              "          const dataTable =\n",
              "            await google.colab.kernel.invokeFunction('convertToInteractive',\n",
              "                                                     [key], {});\n",
              "          if (!dataTable) return;\n",
              "\n",
              "          const docLinkHtml = 'Like what you see? Visit the ' +\n",
              "            '<a target=\"_blank\" href=https://colab.research.google.com/notebooks/data_table.ipynb>data table notebook</a>'\n",
              "            + ' to learn more about interactive tables.';\n",
              "          element.innerHTML = '';\n",
              "          dataTable['output_type'] = 'display_data';\n",
              "          await google.colab.output.renderOutput(dataTable, element);\n",
              "          const docLink = document.createElement('div');\n",
              "          docLink.innerHTML = docLinkHtml;\n",
              "          element.appendChild(docLink);\n",
              "        }\n",
              "      </script>\n",
              "    </div>\n",
              "  </div>\n",
              "  "
            ]
          },
          "metadata": {},
          "execution_count": 2
        }
      ]
    },
    {
      "cell_type": "markdown",
      "source": [
        "* veo cuantas columnas nulas tiene y de que tipo son cada una"
      ],
      "metadata": {
        "id": "jPFtEsJmCaJh"
      }
    },
    {
      "cell_type": "code",
      "source": [
        "df.info()"
      ],
      "metadata": {
        "id": "QFjh0Urq1PFR",
        "colab": {
          "base_uri": "https://localhost:8080/"
        },
        "outputId": "dc86ed09-8ef0-41be-e851-deaf17a46f22"
      },
      "execution_count": 3,
      "outputs": [
        {
          "output_type": "stream",
          "name": "stdout",
          "text": [
            "<class 'pandas.core.frame.DataFrame'>\n",
            "RangeIndex: 61913 entries, 0 to 61912\n",
            "Data columns (total 32 columns):\n",
            " #   Column                          Non-Null Count  Dtype  \n",
            "---  ------                          --------------  -----  \n",
            " 0   hotel                           61913 non-null  object \n",
            " 1   lead_time                       61913 non-null  int64  \n",
            " 2   arrival_date_year               61913 non-null  int64  \n",
            " 3   arrival_date_month              61913 non-null  object \n",
            " 4   arrival_date_week_number        61913 non-null  int64  \n",
            " 5   arrival_date_day_of_month       61913 non-null  int64  \n",
            " 6   stays_in_weekend_nights         61913 non-null  int64  \n",
            " 7   stays_in_week_nights            61913 non-null  int64  \n",
            " 8   adults                          61913 non-null  int64  \n",
            " 9   children                        61909 non-null  float64\n",
            " 10  babies                          61913 non-null  int64  \n",
            " 11  meal                            61913 non-null  object \n",
            " 12  country                         61692 non-null  object \n",
            " 13  market_segment                  61913 non-null  object \n",
            " 14  distribution_channel            61913 non-null  object \n",
            " 15  is_repeated_guest               61913 non-null  int64  \n",
            " 16  previous_cancellations          61913 non-null  int64  \n",
            " 17  previous_bookings_not_canceled  61913 non-null  int64  \n",
            " 18  reserved_room_type              61913 non-null  object \n",
            " 19  assigned_room_type              61913 non-null  object \n",
            " 20  booking_changes                 61913 non-null  int64  \n",
            " 21  deposit_type                    61913 non-null  object \n",
            " 22  agent                           54023 non-null  float64\n",
            " 23  company                         3152 non-null   float64\n",
            " 24  days_in_waiting_list            61913 non-null  int64  \n",
            " 25  customer_type                   61913 non-null  object \n",
            " 26  adr                             61913 non-null  float64\n",
            " 27  required_car_parking_spaces     61913 non-null  int64  \n",
            " 28  total_of_special_requests       61913 non-null  int64  \n",
            " 29  reservation_status_date         61913 non-null  object \n",
            " 30  id                              61913 non-null  object \n",
            " 31  is_canceled                     61913 non-null  int64  \n",
            "dtypes: float64(4), int64(16), object(12)\n",
            "memory usage: 15.1+ MB\n"
          ]
        }
      ]
    },
    {
      "cell_type": "markdown",
      "source": [
        "#conclusion inicial de la exploracion de los datos"
      ],
      "metadata": {
        "id": "GDiXXQwGCutx"
      }
    },
    {
      "cell_type": "markdown",
      "source": [
        "* se podria asumir que si agent es nulo, implicaria que no utilizo una agencia para hacer la reserva, los nulos son el 12,74% del dataset, se podria cambiar el nulo por 0.\n",
        "* respecto de company, el 95% de las filas dataset tiene filas nulas, lo elimino\n"
      ],
      "metadata": {
        "id": "GW6e1zZ7C2Tp"
      }
    },
    {
      "cell_type": "code",
      "source": [
        "df.drop(columns = ['company'])\n"
      ],
      "metadata": {
        "colab": {
          "base_uri": "https://localhost:8080/",
          "height": 991
        },
        "id": "S6UtCTmgCgT6",
        "outputId": "a1f8a3d5-4c1d-4ebe-c19e-a279faa89232"
      },
      "execution_count": 4,
      "outputs": [
        {
          "output_type": "execute_result",
          "data": {
            "text/plain": [
              "              hotel  lead_time  arrival_date_year arrival_date_month  \\\n",
              "0        City Hotel         49               2016          September   \n",
              "1      Resort Hotel          4               2015            October   \n",
              "2        City Hotel         25               2016            October   \n",
              "3        City Hotel         26               2016           December   \n",
              "4        City Hotel        104               2017              March   \n",
              "...             ...        ...                ...                ...   \n",
              "61908  Resort Hotel         24               2017            January   \n",
              "61909    City Hotel          0               2016          September   \n",
              "61910    City Hotel         10               2017                May   \n",
              "61911  Resort Hotel        143               2015            October   \n",
              "61912    City Hotel         57               2016              April   \n",
              "\n",
              "       arrival_date_week_number  arrival_date_day_of_month  \\\n",
              "0                            37                          5   \n",
              "1                            44                         31   \n",
              "2                            42                         13   \n",
              "3                            51                         12   \n",
              "4                            12                         19   \n",
              "...                         ...                        ...   \n",
              "61908                         4                         27   \n",
              "61909                        36                          2   \n",
              "61910                        19                          8   \n",
              "61911                        41                         10   \n",
              "61912                        17                         17   \n",
              "\n",
              "       stays_in_weekend_nights  stays_in_week_nights  adults  children  ...  \\\n",
              "0                            1                     2       1       0.0  ...   \n",
              "1                            0                     1       2       0.0  ...   \n",
              "2                            0                     1       2       2.0  ...   \n",
              "3                            2                     5       2       0.0  ...   \n",
              "4                            2                     5       2       0.0  ...   \n",
              "...                        ...                   ...     ...       ...  ...   \n",
              "61908                        0                     2       2       0.0  ...   \n",
              "61909                        0                     1       1       0.0  ...   \n",
              "61910                        1                     2       1       0.0  ...   \n",
              "61911                        2                     5       2       0.0  ...   \n",
              "61912                        2                     5       2       0.0  ...   \n",
              "\n",
              "       deposit_type  agent days_in_waiting_list    customer_type     adr  \\\n",
              "0        No Deposit    9.0                    0        Transient  115.50   \n",
              "1        No Deposit    NaN                    0        Transient   42.00   \n",
              "2        No Deposit    9.0                    0        Transient  229.00   \n",
              "3        Non Refund  154.0                    0        Transient   75.00   \n",
              "4        No Deposit   20.0                    0  Transient-Party   75.00   \n",
              "...             ...    ...                  ...              ...     ...   \n",
              "61908    No Deposit  240.0                    0        Transient   48.00   \n",
              "61909    No Deposit    NaN                    0        Transient  149.00   \n",
              "61910    No Deposit    NaN                    0        Transient   95.00   \n",
              "61911    Non Refund   96.0                    0        Transient   36.05   \n",
              "61912    No Deposit    9.0                    0        Transient  143.29   \n",
              "\n",
              "       required_car_parking_spaces  total_of_special_requests  \\\n",
              "0                                0                          1   \n",
              "1                                1                          0   \n",
              "2                                0                          2   \n",
              "3                                0                          0   \n",
              "4                                0                          1   \n",
              "...                            ...                        ...   \n",
              "61908                            0                          1   \n",
              "61909                            0                          0   \n",
              "61910                            0                          0   \n",
              "61911                            0                          0   \n",
              "61912                            0                          0   \n",
              "\n",
              "       reservation_status_date                                    id  \\\n",
              "0                   2016-08-25  7aa4cc6b-b92c-4061-b21d-4f9e0cac4689   \n",
              "1                   2015-11-01  b1428f80-c56c-4ae4-91a9-6962edae08b1   \n",
              "2                   2016-10-14  2226c018-ea20-4c4e-8f71-ea66aee70d7c   \n",
              "3                   2016-11-29  314f56dc-2e4d-4298-9bdd-27bb008bffff   \n",
              "4                   2017-03-26  28c75445-c603-413a-babf-ad377018b592   \n",
              "...                        ...                                   ...   \n",
              "61908               2017-01-23  32bffef5-5404-4e86-9f39-fd2282e1ad7f   \n",
              "61909               2016-09-03  cc922a1c-356e-42a5-a984-0b1af03c2f5c   \n",
              "61910               2017-05-11  76fb0e83-59df-43ee-9c33-aec51030ed45   \n",
              "61911               2015-07-08  01906859-1094-4e37-b13e-b015b594d159   \n",
              "61912               2016-04-09  7137e599-4442-41fb-b147-4aba9f344e38   \n",
              "\n",
              "      is_canceled  \n",
              "0               1  \n",
              "1               0  \n",
              "2               0  \n",
              "3               1  \n",
              "4               0  \n",
              "...           ...  \n",
              "61908           1  \n",
              "61909           0  \n",
              "61910           0  \n",
              "61911           1  \n",
              "61912           1  \n",
              "\n",
              "[61913 rows x 31 columns]"
            ],
            "text/html": [
              "\n",
              "  <div id=\"df-735dc2e1-61b9-4be5-9d9a-de6fdd45ab5d\">\n",
              "    <div class=\"colab-df-container\">\n",
              "      <div>\n",
              "<style scoped>\n",
              "    .dataframe tbody tr th:only-of-type {\n",
              "        vertical-align: middle;\n",
              "    }\n",
              "\n",
              "    .dataframe tbody tr th {\n",
              "        vertical-align: top;\n",
              "    }\n",
              "\n",
              "    .dataframe thead th {\n",
              "        text-align: right;\n",
              "    }\n",
              "</style>\n",
              "<table border=\"1\" class=\"dataframe\">\n",
              "  <thead>\n",
              "    <tr style=\"text-align: right;\">\n",
              "      <th></th>\n",
              "      <th>hotel</th>\n",
              "      <th>lead_time</th>\n",
              "      <th>arrival_date_year</th>\n",
              "      <th>arrival_date_month</th>\n",
              "      <th>arrival_date_week_number</th>\n",
              "      <th>arrival_date_day_of_month</th>\n",
              "      <th>stays_in_weekend_nights</th>\n",
              "      <th>stays_in_week_nights</th>\n",
              "      <th>adults</th>\n",
              "      <th>children</th>\n",
              "      <th>...</th>\n",
              "      <th>deposit_type</th>\n",
              "      <th>agent</th>\n",
              "      <th>days_in_waiting_list</th>\n",
              "      <th>customer_type</th>\n",
              "      <th>adr</th>\n",
              "      <th>required_car_parking_spaces</th>\n",
              "      <th>total_of_special_requests</th>\n",
              "      <th>reservation_status_date</th>\n",
              "      <th>id</th>\n",
              "      <th>is_canceled</th>\n",
              "    </tr>\n",
              "  </thead>\n",
              "  <tbody>\n",
              "    <tr>\n",
              "      <th>0</th>\n",
              "      <td>City Hotel</td>\n",
              "      <td>49</td>\n",
              "      <td>2016</td>\n",
              "      <td>September</td>\n",
              "      <td>37</td>\n",
              "      <td>5</td>\n",
              "      <td>1</td>\n",
              "      <td>2</td>\n",
              "      <td>1</td>\n",
              "      <td>0.0</td>\n",
              "      <td>...</td>\n",
              "      <td>No Deposit</td>\n",
              "      <td>9.0</td>\n",
              "      <td>0</td>\n",
              "      <td>Transient</td>\n",
              "      <td>115.50</td>\n",
              "      <td>0</td>\n",
              "      <td>1</td>\n",
              "      <td>2016-08-25</td>\n",
              "      <td>7aa4cc6b-b92c-4061-b21d-4f9e0cac4689</td>\n",
              "      <td>1</td>\n",
              "    </tr>\n",
              "    <tr>\n",
              "      <th>1</th>\n",
              "      <td>Resort Hotel</td>\n",
              "      <td>4</td>\n",
              "      <td>2015</td>\n",
              "      <td>October</td>\n",
              "      <td>44</td>\n",
              "      <td>31</td>\n",
              "      <td>0</td>\n",
              "      <td>1</td>\n",
              "      <td>2</td>\n",
              "      <td>0.0</td>\n",
              "      <td>...</td>\n",
              "      <td>No Deposit</td>\n",
              "      <td>NaN</td>\n",
              "      <td>0</td>\n",
              "      <td>Transient</td>\n",
              "      <td>42.00</td>\n",
              "      <td>1</td>\n",
              "      <td>0</td>\n",
              "      <td>2015-11-01</td>\n",
              "      <td>b1428f80-c56c-4ae4-91a9-6962edae08b1</td>\n",
              "      <td>0</td>\n",
              "    </tr>\n",
              "    <tr>\n",
              "      <th>2</th>\n",
              "      <td>City Hotel</td>\n",
              "      <td>25</td>\n",
              "      <td>2016</td>\n",
              "      <td>October</td>\n",
              "      <td>42</td>\n",
              "      <td>13</td>\n",
              "      <td>0</td>\n",
              "      <td>1</td>\n",
              "      <td>2</td>\n",
              "      <td>2.0</td>\n",
              "      <td>...</td>\n",
              "      <td>No Deposit</td>\n",
              "      <td>9.0</td>\n",
              "      <td>0</td>\n",
              "      <td>Transient</td>\n",
              "      <td>229.00</td>\n",
              "      <td>0</td>\n",
              "      <td>2</td>\n",
              "      <td>2016-10-14</td>\n",
              "      <td>2226c018-ea20-4c4e-8f71-ea66aee70d7c</td>\n",
              "      <td>0</td>\n",
              "    </tr>\n",
              "    <tr>\n",
              "      <th>3</th>\n",
              "      <td>City Hotel</td>\n",
              "      <td>26</td>\n",
              "      <td>2016</td>\n",
              "      <td>December</td>\n",
              "      <td>51</td>\n",
              "      <td>12</td>\n",
              "      <td>2</td>\n",
              "      <td>5</td>\n",
              "      <td>2</td>\n",
              "      <td>0.0</td>\n",
              "      <td>...</td>\n",
              "      <td>Non Refund</td>\n",
              "      <td>154.0</td>\n",
              "      <td>0</td>\n",
              "      <td>Transient</td>\n",
              "      <td>75.00</td>\n",
              "      <td>0</td>\n",
              "      <td>0</td>\n",
              "      <td>2016-11-29</td>\n",
              "      <td>314f56dc-2e4d-4298-9bdd-27bb008bffff</td>\n",
              "      <td>1</td>\n",
              "    </tr>\n",
              "    <tr>\n",
              "      <th>4</th>\n",
              "      <td>City Hotel</td>\n",
              "      <td>104</td>\n",
              "      <td>2017</td>\n",
              "      <td>March</td>\n",
              "      <td>12</td>\n",
              "      <td>19</td>\n",
              "      <td>2</td>\n",
              "      <td>5</td>\n",
              "      <td>2</td>\n",
              "      <td>0.0</td>\n",
              "      <td>...</td>\n",
              "      <td>No Deposit</td>\n",
              "      <td>20.0</td>\n",
              "      <td>0</td>\n",
              "      <td>Transient-Party</td>\n",
              "      <td>75.00</td>\n",
              "      <td>0</td>\n",
              "      <td>1</td>\n",
              "      <td>2017-03-26</td>\n",
              "      <td>28c75445-c603-413a-babf-ad377018b592</td>\n",
              "      <td>0</td>\n",
              "    </tr>\n",
              "    <tr>\n",
              "      <th>...</th>\n",
              "      <td>...</td>\n",
              "      <td>...</td>\n",
              "      <td>...</td>\n",
              "      <td>...</td>\n",
              "      <td>...</td>\n",
              "      <td>...</td>\n",
              "      <td>...</td>\n",
              "      <td>...</td>\n",
              "      <td>...</td>\n",
              "      <td>...</td>\n",
              "      <td>...</td>\n",
              "      <td>...</td>\n",
              "      <td>...</td>\n",
              "      <td>...</td>\n",
              "      <td>...</td>\n",
              "      <td>...</td>\n",
              "      <td>...</td>\n",
              "      <td>...</td>\n",
              "      <td>...</td>\n",
              "      <td>...</td>\n",
              "      <td>...</td>\n",
              "    </tr>\n",
              "    <tr>\n",
              "      <th>61908</th>\n",
              "      <td>Resort Hotel</td>\n",
              "      <td>24</td>\n",
              "      <td>2017</td>\n",
              "      <td>January</td>\n",
              "      <td>4</td>\n",
              "      <td>27</td>\n",
              "      <td>0</td>\n",
              "      <td>2</td>\n",
              "      <td>2</td>\n",
              "      <td>0.0</td>\n",
              "      <td>...</td>\n",
              "      <td>No Deposit</td>\n",
              "      <td>240.0</td>\n",
              "      <td>0</td>\n",
              "      <td>Transient</td>\n",
              "      <td>48.00</td>\n",
              "      <td>0</td>\n",
              "      <td>1</td>\n",
              "      <td>2017-01-23</td>\n",
              "      <td>32bffef5-5404-4e86-9f39-fd2282e1ad7f</td>\n",
              "      <td>1</td>\n",
              "    </tr>\n",
              "    <tr>\n",
              "      <th>61909</th>\n",
              "      <td>City Hotel</td>\n",
              "      <td>0</td>\n",
              "      <td>2016</td>\n",
              "      <td>September</td>\n",
              "      <td>36</td>\n",
              "      <td>2</td>\n",
              "      <td>0</td>\n",
              "      <td>1</td>\n",
              "      <td>1</td>\n",
              "      <td>0.0</td>\n",
              "      <td>...</td>\n",
              "      <td>No Deposit</td>\n",
              "      <td>NaN</td>\n",
              "      <td>0</td>\n",
              "      <td>Transient</td>\n",
              "      <td>149.00</td>\n",
              "      <td>0</td>\n",
              "      <td>0</td>\n",
              "      <td>2016-09-03</td>\n",
              "      <td>cc922a1c-356e-42a5-a984-0b1af03c2f5c</td>\n",
              "      <td>0</td>\n",
              "    </tr>\n",
              "    <tr>\n",
              "      <th>61910</th>\n",
              "      <td>City Hotel</td>\n",
              "      <td>10</td>\n",
              "      <td>2017</td>\n",
              "      <td>May</td>\n",
              "      <td>19</td>\n",
              "      <td>8</td>\n",
              "      <td>1</td>\n",
              "      <td>2</td>\n",
              "      <td>1</td>\n",
              "      <td>0.0</td>\n",
              "      <td>...</td>\n",
              "      <td>No Deposit</td>\n",
              "      <td>NaN</td>\n",
              "      <td>0</td>\n",
              "      <td>Transient</td>\n",
              "      <td>95.00</td>\n",
              "      <td>0</td>\n",
              "      <td>0</td>\n",
              "      <td>2017-05-11</td>\n",
              "      <td>76fb0e83-59df-43ee-9c33-aec51030ed45</td>\n",
              "      <td>0</td>\n",
              "    </tr>\n",
              "    <tr>\n",
              "      <th>61911</th>\n",
              "      <td>Resort Hotel</td>\n",
              "      <td>143</td>\n",
              "      <td>2015</td>\n",
              "      <td>October</td>\n",
              "      <td>41</td>\n",
              "      <td>10</td>\n",
              "      <td>2</td>\n",
              "      <td>5</td>\n",
              "      <td>2</td>\n",
              "      <td>0.0</td>\n",
              "      <td>...</td>\n",
              "      <td>Non Refund</td>\n",
              "      <td>96.0</td>\n",
              "      <td>0</td>\n",
              "      <td>Transient</td>\n",
              "      <td>36.05</td>\n",
              "      <td>0</td>\n",
              "      <td>0</td>\n",
              "      <td>2015-07-08</td>\n",
              "      <td>01906859-1094-4e37-b13e-b015b594d159</td>\n",
              "      <td>1</td>\n",
              "    </tr>\n",
              "    <tr>\n",
              "      <th>61912</th>\n",
              "      <td>City Hotel</td>\n",
              "      <td>57</td>\n",
              "      <td>2016</td>\n",
              "      <td>April</td>\n",
              "      <td>17</td>\n",
              "      <td>17</td>\n",
              "      <td>2</td>\n",
              "      <td>5</td>\n",
              "      <td>2</td>\n",
              "      <td>0.0</td>\n",
              "      <td>...</td>\n",
              "      <td>No Deposit</td>\n",
              "      <td>9.0</td>\n",
              "      <td>0</td>\n",
              "      <td>Transient</td>\n",
              "      <td>143.29</td>\n",
              "      <td>0</td>\n",
              "      <td>0</td>\n",
              "      <td>2016-04-09</td>\n",
              "      <td>7137e599-4442-41fb-b147-4aba9f344e38</td>\n",
              "      <td>1</td>\n",
              "    </tr>\n",
              "  </tbody>\n",
              "</table>\n",
              "<p>61913 rows × 31 columns</p>\n",
              "</div>\n",
              "      <button class=\"colab-df-convert\" onclick=\"convertToInteractive('df-735dc2e1-61b9-4be5-9d9a-de6fdd45ab5d')\"\n",
              "              title=\"Convert this dataframe to an interactive table.\"\n",
              "              style=\"display:none;\">\n",
              "        \n",
              "  <svg xmlns=\"http://www.w3.org/2000/svg\" height=\"24px\"viewBox=\"0 0 24 24\"\n",
              "       width=\"24px\">\n",
              "    <path d=\"M0 0h24v24H0V0z\" fill=\"none\"/>\n",
              "    <path d=\"M18.56 5.44l.94 2.06.94-2.06 2.06-.94-2.06-.94-.94-2.06-.94 2.06-2.06.94zm-11 1L8.5 8.5l.94-2.06 2.06-.94-2.06-.94L8.5 2.5l-.94 2.06-2.06.94zm10 10l.94 2.06.94-2.06 2.06-.94-2.06-.94-.94-2.06-.94 2.06-2.06.94z\"/><path d=\"M17.41 7.96l-1.37-1.37c-.4-.4-.92-.59-1.43-.59-.52 0-1.04.2-1.43.59L10.3 9.45l-7.72 7.72c-.78.78-.78 2.05 0 2.83L4 21.41c.39.39.9.59 1.41.59.51 0 1.02-.2 1.41-.59l7.78-7.78 2.81-2.81c.8-.78.8-2.07 0-2.86zM5.41 20L4 18.59l7.72-7.72 1.47 1.35L5.41 20z\"/>\n",
              "  </svg>\n",
              "      </button>\n",
              "      \n",
              "  <style>\n",
              "    .colab-df-container {\n",
              "      display:flex;\n",
              "      flex-wrap:wrap;\n",
              "      gap: 12px;\n",
              "    }\n",
              "\n",
              "    .colab-df-convert {\n",
              "      background-color: #E8F0FE;\n",
              "      border: none;\n",
              "      border-radius: 50%;\n",
              "      cursor: pointer;\n",
              "      display: none;\n",
              "      fill: #1967D2;\n",
              "      height: 32px;\n",
              "      padding: 0 0 0 0;\n",
              "      width: 32px;\n",
              "    }\n",
              "\n",
              "    .colab-df-convert:hover {\n",
              "      background-color: #E2EBFA;\n",
              "      box-shadow: 0px 1px 2px rgba(60, 64, 67, 0.3), 0px 1px 3px 1px rgba(60, 64, 67, 0.15);\n",
              "      fill: #174EA6;\n",
              "    }\n",
              "\n",
              "    [theme=dark] .colab-df-convert {\n",
              "      background-color: #3B4455;\n",
              "      fill: #D2E3FC;\n",
              "    }\n",
              "\n",
              "    [theme=dark] .colab-df-convert:hover {\n",
              "      background-color: #434B5C;\n",
              "      box-shadow: 0px 1px 3px 1px rgba(0, 0, 0, 0.15);\n",
              "      filter: drop-shadow(0px 1px 2px rgba(0, 0, 0, 0.3));\n",
              "      fill: #FFFFFF;\n",
              "    }\n",
              "  </style>\n",
              "\n",
              "      <script>\n",
              "        const buttonEl =\n",
              "          document.querySelector('#df-735dc2e1-61b9-4be5-9d9a-de6fdd45ab5d button.colab-df-convert');\n",
              "        buttonEl.style.display =\n",
              "          google.colab.kernel.accessAllowed ? 'block' : 'none';\n",
              "\n",
              "        async function convertToInteractive(key) {\n",
              "          const element = document.querySelector('#df-735dc2e1-61b9-4be5-9d9a-de6fdd45ab5d');\n",
              "          const dataTable =\n",
              "            await google.colab.kernel.invokeFunction('convertToInteractive',\n",
              "                                                     [key], {});\n",
              "          if (!dataTable) return;\n",
              "\n",
              "          const docLinkHtml = 'Like what you see? Visit the ' +\n",
              "            '<a target=\"_blank\" href=https://colab.research.google.com/notebooks/data_table.ipynb>data table notebook</a>'\n",
              "            + ' to learn more about interactive tables.';\n",
              "          element.innerHTML = '';\n",
              "          dataTable['output_type'] = 'display_data';\n",
              "          await google.colab.output.renderOutput(dataTable, element);\n",
              "          const docLink = document.createElement('div');\n",
              "          docLink.innerHTML = docLinkHtml;\n",
              "          element.appendChild(docLink);\n",
              "        }\n",
              "      </script>\n",
              "    </div>\n",
              "  </div>\n",
              "  "
            ]
          },
          "metadata": {},
          "execution_count": 4
        }
      ]
    },
    {
      "cell_type": "code",
      "source": [
        "df.info()"
      ],
      "metadata": {
        "colab": {
          "base_uri": "https://localhost:8080/"
        },
        "id": "k3oaKOhnKVFn",
        "outputId": "ababb8fc-65ad-4338-90d7-b290accf3a90"
      },
      "execution_count": 5,
      "outputs": [
        {
          "output_type": "stream",
          "name": "stdout",
          "text": [
            "<class 'pandas.core.frame.DataFrame'>\n",
            "RangeIndex: 61913 entries, 0 to 61912\n",
            "Data columns (total 32 columns):\n",
            " #   Column                          Non-Null Count  Dtype  \n",
            "---  ------                          --------------  -----  \n",
            " 0   hotel                           61913 non-null  object \n",
            " 1   lead_time                       61913 non-null  int64  \n",
            " 2   arrival_date_year               61913 non-null  int64  \n",
            " 3   arrival_date_month              61913 non-null  object \n",
            " 4   arrival_date_week_number        61913 non-null  int64  \n",
            " 5   arrival_date_day_of_month       61913 non-null  int64  \n",
            " 6   stays_in_weekend_nights         61913 non-null  int64  \n",
            " 7   stays_in_week_nights            61913 non-null  int64  \n",
            " 8   adults                          61913 non-null  int64  \n",
            " 9   children                        61909 non-null  float64\n",
            " 10  babies                          61913 non-null  int64  \n",
            " 11  meal                            61913 non-null  object \n",
            " 12  country                         61692 non-null  object \n",
            " 13  market_segment                  61913 non-null  object \n",
            " 14  distribution_channel            61913 non-null  object \n",
            " 15  is_repeated_guest               61913 non-null  int64  \n",
            " 16  previous_cancellations          61913 non-null  int64  \n",
            " 17  previous_bookings_not_canceled  61913 non-null  int64  \n",
            " 18  reserved_room_type              61913 non-null  object \n",
            " 19  assigned_room_type              61913 non-null  object \n",
            " 20  booking_changes                 61913 non-null  int64  \n",
            " 21  deposit_type                    61913 non-null  object \n",
            " 22  agent                           54023 non-null  float64\n",
            " 23  company                         3152 non-null   float64\n",
            " 24  days_in_waiting_list            61913 non-null  int64  \n",
            " 25  customer_type                   61913 non-null  object \n",
            " 26  adr                             61913 non-null  float64\n",
            " 27  required_car_parking_spaces     61913 non-null  int64  \n",
            " 28  total_of_special_requests       61913 non-null  int64  \n",
            " 29  reservation_status_date         61913 non-null  object \n",
            " 30  id                              61913 non-null  object \n",
            " 31  is_canceled                     61913 non-null  int64  \n",
            "dtypes: float64(4), int64(16), object(12)\n",
            "memory usage: 15.1+ MB\n"
          ]
        }
      ]
    },
    {
      "cell_type": "markdown",
      "source": [
        "cambio los nulos por 0"
      ],
      "metadata": {
        "id": "RXghswfjMyGM"
      }
    },
    {
      "cell_type": "code",
      "source": [
        "df.fillna(0)"
      ],
      "metadata": {
        "colab": {
          "base_uri": "https://localhost:8080/",
          "height": 991
        },
        "id": "HGWna6SyMxlz",
        "outputId": "38687011-4790-4a8f-a76f-08b9953ed7e5"
      },
      "execution_count": 6,
      "outputs": [
        {
          "output_type": "execute_result",
          "data": {
            "text/plain": [
              "              hotel  lead_time  arrival_date_year arrival_date_month  \\\n",
              "0        City Hotel         49               2016          September   \n",
              "1      Resort Hotel          4               2015            October   \n",
              "2        City Hotel         25               2016            October   \n",
              "3        City Hotel         26               2016           December   \n",
              "4        City Hotel        104               2017              March   \n",
              "...             ...        ...                ...                ...   \n",
              "61908  Resort Hotel         24               2017            January   \n",
              "61909    City Hotel          0               2016          September   \n",
              "61910    City Hotel         10               2017                May   \n",
              "61911  Resort Hotel        143               2015            October   \n",
              "61912    City Hotel         57               2016              April   \n",
              "\n",
              "       arrival_date_week_number  arrival_date_day_of_month  \\\n",
              "0                            37                          5   \n",
              "1                            44                         31   \n",
              "2                            42                         13   \n",
              "3                            51                         12   \n",
              "4                            12                         19   \n",
              "...                         ...                        ...   \n",
              "61908                         4                         27   \n",
              "61909                        36                          2   \n",
              "61910                        19                          8   \n",
              "61911                        41                         10   \n",
              "61912                        17                         17   \n",
              "\n",
              "       stays_in_weekend_nights  stays_in_week_nights  adults  children  ...  \\\n",
              "0                            1                     2       1       0.0  ...   \n",
              "1                            0                     1       2       0.0  ...   \n",
              "2                            0                     1       2       2.0  ...   \n",
              "3                            2                     5       2       0.0  ...   \n",
              "4                            2                     5       2       0.0  ...   \n",
              "...                        ...                   ...     ...       ...  ...   \n",
              "61908                        0                     2       2       0.0  ...   \n",
              "61909                        0                     1       1       0.0  ...   \n",
              "61910                        1                     2       1       0.0  ...   \n",
              "61911                        2                     5       2       0.0  ...   \n",
              "61912                        2                     5       2       0.0  ...   \n",
              "\n",
              "       agent company days_in_waiting_list    customer_type     adr  \\\n",
              "0        9.0     0.0                    0        Transient  115.50   \n",
              "1        0.0     0.0                    0        Transient   42.00   \n",
              "2        9.0     0.0                    0        Transient  229.00   \n",
              "3      154.0     0.0                    0        Transient   75.00   \n",
              "4       20.0     0.0                    0  Transient-Party   75.00   \n",
              "...      ...     ...                  ...              ...     ...   \n",
              "61908  240.0     0.0                    0        Transient   48.00   \n",
              "61909    0.0     0.0                    0        Transient  149.00   \n",
              "61910    0.0   153.0                    0        Transient   95.00   \n",
              "61911   96.0     0.0                    0        Transient   36.05   \n",
              "61912    9.0     0.0                    0        Transient  143.29   \n",
              "\n",
              "       required_car_parking_spaces  total_of_special_requests  \\\n",
              "0                                0                          1   \n",
              "1                                1                          0   \n",
              "2                                0                          2   \n",
              "3                                0                          0   \n",
              "4                                0                          1   \n",
              "...                            ...                        ...   \n",
              "61908                            0                          1   \n",
              "61909                            0                          0   \n",
              "61910                            0                          0   \n",
              "61911                            0                          0   \n",
              "61912                            0                          0   \n",
              "\n",
              "       reservation_status_date                                    id  \\\n",
              "0                   2016-08-25  7aa4cc6b-b92c-4061-b21d-4f9e0cac4689   \n",
              "1                   2015-11-01  b1428f80-c56c-4ae4-91a9-6962edae08b1   \n",
              "2                   2016-10-14  2226c018-ea20-4c4e-8f71-ea66aee70d7c   \n",
              "3                   2016-11-29  314f56dc-2e4d-4298-9bdd-27bb008bffff   \n",
              "4                   2017-03-26  28c75445-c603-413a-babf-ad377018b592   \n",
              "...                        ...                                   ...   \n",
              "61908               2017-01-23  32bffef5-5404-4e86-9f39-fd2282e1ad7f   \n",
              "61909               2016-09-03  cc922a1c-356e-42a5-a984-0b1af03c2f5c   \n",
              "61910               2017-05-11  76fb0e83-59df-43ee-9c33-aec51030ed45   \n",
              "61911               2015-07-08  01906859-1094-4e37-b13e-b015b594d159   \n",
              "61912               2016-04-09  7137e599-4442-41fb-b147-4aba9f344e38   \n",
              "\n",
              "      is_canceled  \n",
              "0               1  \n",
              "1               0  \n",
              "2               0  \n",
              "3               1  \n",
              "4               0  \n",
              "...           ...  \n",
              "61908           1  \n",
              "61909           0  \n",
              "61910           0  \n",
              "61911           1  \n",
              "61912           1  \n",
              "\n",
              "[61913 rows x 32 columns]"
            ],
            "text/html": [
              "\n",
              "  <div id=\"df-a4d6791d-c13d-488e-98e4-ffff1ae34636\">\n",
              "    <div class=\"colab-df-container\">\n",
              "      <div>\n",
              "<style scoped>\n",
              "    .dataframe tbody tr th:only-of-type {\n",
              "        vertical-align: middle;\n",
              "    }\n",
              "\n",
              "    .dataframe tbody tr th {\n",
              "        vertical-align: top;\n",
              "    }\n",
              "\n",
              "    .dataframe thead th {\n",
              "        text-align: right;\n",
              "    }\n",
              "</style>\n",
              "<table border=\"1\" class=\"dataframe\">\n",
              "  <thead>\n",
              "    <tr style=\"text-align: right;\">\n",
              "      <th></th>\n",
              "      <th>hotel</th>\n",
              "      <th>lead_time</th>\n",
              "      <th>arrival_date_year</th>\n",
              "      <th>arrival_date_month</th>\n",
              "      <th>arrival_date_week_number</th>\n",
              "      <th>arrival_date_day_of_month</th>\n",
              "      <th>stays_in_weekend_nights</th>\n",
              "      <th>stays_in_week_nights</th>\n",
              "      <th>adults</th>\n",
              "      <th>children</th>\n",
              "      <th>...</th>\n",
              "      <th>agent</th>\n",
              "      <th>company</th>\n",
              "      <th>days_in_waiting_list</th>\n",
              "      <th>customer_type</th>\n",
              "      <th>adr</th>\n",
              "      <th>required_car_parking_spaces</th>\n",
              "      <th>total_of_special_requests</th>\n",
              "      <th>reservation_status_date</th>\n",
              "      <th>id</th>\n",
              "      <th>is_canceled</th>\n",
              "    </tr>\n",
              "  </thead>\n",
              "  <tbody>\n",
              "    <tr>\n",
              "      <th>0</th>\n",
              "      <td>City Hotel</td>\n",
              "      <td>49</td>\n",
              "      <td>2016</td>\n",
              "      <td>September</td>\n",
              "      <td>37</td>\n",
              "      <td>5</td>\n",
              "      <td>1</td>\n",
              "      <td>2</td>\n",
              "      <td>1</td>\n",
              "      <td>0.0</td>\n",
              "      <td>...</td>\n",
              "      <td>9.0</td>\n",
              "      <td>0.0</td>\n",
              "      <td>0</td>\n",
              "      <td>Transient</td>\n",
              "      <td>115.50</td>\n",
              "      <td>0</td>\n",
              "      <td>1</td>\n",
              "      <td>2016-08-25</td>\n",
              "      <td>7aa4cc6b-b92c-4061-b21d-4f9e0cac4689</td>\n",
              "      <td>1</td>\n",
              "    </tr>\n",
              "    <tr>\n",
              "      <th>1</th>\n",
              "      <td>Resort Hotel</td>\n",
              "      <td>4</td>\n",
              "      <td>2015</td>\n",
              "      <td>October</td>\n",
              "      <td>44</td>\n",
              "      <td>31</td>\n",
              "      <td>0</td>\n",
              "      <td>1</td>\n",
              "      <td>2</td>\n",
              "      <td>0.0</td>\n",
              "      <td>...</td>\n",
              "      <td>0.0</td>\n",
              "      <td>0.0</td>\n",
              "      <td>0</td>\n",
              "      <td>Transient</td>\n",
              "      <td>42.00</td>\n",
              "      <td>1</td>\n",
              "      <td>0</td>\n",
              "      <td>2015-11-01</td>\n",
              "      <td>b1428f80-c56c-4ae4-91a9-6962edae08b1</td>\n",
              "      <td>0</td>\n",
              "    </tr>\n",
              "    <tr>\n",
              "      <th>2</th>\n",
              "      <td>City Hotel</td>\n",
              "      <td>25</td>\n",
              "      <td>2016</td>\n",
              "      <td>October</td>\n",
              "      <td>42</td>\n",
              "      <td>13</td>\n",
              "      <td>0</td>\n",
              "      <td>1</td>\n",
              "      <td>2</td>\n",
              "      <td>2.0</td>\n",
              "      <td>...</td>\n",
              "      <td>9.0</td>\n",
              "      <td>0.0</td>\n",
              "      <td>0</td>\n",
              "      <td>Transient</td>\n",
              "      <td>229.00</td>\n",
              "      <td>0</td>\n",
              "      <td>2</td>\n",
              "      <td>2016-10-14</td>\n",
              "      <td>2226c018-ea20-4c4e-8f71-ea66aee70d7c</td>\n",
              "      <td>0</td>\n",
              "    </tr>\n",
              "    <tr>\n",
              "      <th>3</th>\n",
              "      <td>City Hotel</td>\n",
              "      <td>26</td>\n",
              "      <td>2016</td>\n",
              "      <td>December</td>\n",
              "      <td>51</td>\n",
              "      <td>12</td>\n",
              "      <td>2</td>\n",
              "      <td>5</td>\n",
              "      <td>2</td>\n",
              "      <td>0.0</td>\n",
              "      <td>...</td>\n",
              "      <td>154.0</td>\n",
              "      <td>0.0</td>\n",
              "      <td>0</td>\n",
              "      <td>Transient</td>\n",
              "      <td>75.00</td>\n",
              "      <td>0</td>\n",
              "      <td>0</td>\n",
              "      <td>2016-11-29</td>\n",
              "      <td>314f56dc-2e4d-4298-9bdd-27bb008bffff</td>\n",
              "      <td>1</td>\n",
              "    </tr>\n",
              "    <tr>\n",
              "      <th>4</th>\n",
              "      <td>City Hotel</td>\n",
              "      <td>104</td>\n",
              "      <td>2017</td>\n",
              "      <td>March</td>\n",
              "      <td>12</td>\n",
              "      <td>19</td>\n",
              "      <td>2</td>\n",
              "      <td>5</td>\n",
              "      <td>2</td>\n",
              "      <td>0.0</td>\n",
              "      <td>...</td>\n",
              "      <td>20.0</td>\n",
              "      <td>0.0</td>\n",
              "      <td>0</td>\n",
              "      <td>Transient-Party</td>\n",
              "      <td>75.00</td>\n",
              "      <td>0</td>\n",
              "      <td>1</td>\n",
              "      <td>2017-03-26</td>\n",
              "      <td>28c75445-c603-413a-babf-ad377018b592</td>\n",
              "      <td>0</td>\n",
              "    </tr>\n",
              "    <tr>\n",
              "      <th>...</th>\n",
              "      <td>...</td>\n",
              "      <td>...</td>\n",
              "      <td>...</td>\n",
              "      <td>...</td>\n",
              "      <td>...</td>\n",
              "      <td>...</td>\n",
              "      <td>...</td>\n",
              "      <td>...</td>\n",
              "      <td>...</td>\n",
              "      <td>...</td>\n",
              "      <td>...</td>\n",
              "      <td>...</td>\n",
              "      <td>...</td>\n",
              "      <td>...</td>\n",
              "      <td>...</td>\n",
              "      <td>...</td>\n",
              "      <td>...</td>\n",
              "      <td>...</td>\n",
              "      <td>...</td>\n",
              "      <td>...</td>\n",
              "      <td>...</td>\n",
              "    </tr>\n",
              "    <tr>\n",
              "      <th>61908</th>\n",
              "      <td>Resort Hotel</td>\n",
              "      <td>24</td>\n",
              "      <td>2017</td>\n",
              "      <td>January</td>\n",
              "      <td>4</td>\n",
              "      <td>27</td>\n",
              "      <td>0</td>\n",
              "      <td>2</td>\n",
              "      <td>2</td>\n",
              "      <td>0.0</td>\n",
              "      <td>...</td>\n",
              "      <td>240.0</td>\n",
              "      <td>0.0</td>\n",
              "      <td>0</td>\n",
              "      <td>Transient</td>\n",
              "      <td>48.00</td>\n",
              "      <td>0</td>\n",
              "      <td>1</td>\n",
              "      <td>2017-01-23</td>\n",
              "      <td>32bffef5-5404-4e86-9f39-fd2282e1ad7f</td>\n",
              "      <td>1</td>\n",
              "    </tr>\n",
              "    <tr>\n",
              "      <th>61909</th>\n",
              "      <td>City Hotel</td>\n",
              "      <td>0</td>\n",
              "      <td>2016</td>\n",
              "      <td>September</td>\n",
              "      <td>36</td>\n",
              "      <td>2</td>\n",
              "      <td>0</td>\n",
              "      <td>1</td>\n",
              "      <td>1</td>\n",
              "      <td>0.0</td>\n",
              "      <td>...</td>\n",
              "      <td>0.0</td>\n",
              "      <td>0.0</td>\n",
              "      <td>0</td>\n",
              "      <td>Transient</td>\n",
              "      <td>149.00</td>\n",
              "      <td>0</td>\n",
              "      <td>0</td>\n",
              "      <td>2016-09-03</td>\n",
              "      <td>cc922a1c-356e-42a5-a984-0b1af03c2f5c</td>\n",
              "      <td>0</td>\n",
              "    </tr>\n",
              "    <tr>\n",
              "      <th>61910</th>\n",
              "      <td>City Hotel</td>\n",
              "      <td>10</td>\n",
              "      <td>2017</td>\n",
              "      <td>May</td>\n",
              "      <td>19</td>\n",
              "      <td>8</td>\n",
              "      <td>1</td>\n",
              "      <td>2</td>\n",
              "      <td>1</td>\n",
              "      <td>0.0</td>\n",
              "      <td>...</td>\n",
              "      <td>0.0</td>\n",
              "      <td>153.0</td>\n",
              "      <td>0</td>\n",
              "      <td>Transient</td>\n",
              "      <td>95.00</td>\n",
              "      <td>0</td>\n",
              "      <td>0</td>\n",
              "      <td>2017-05-11</td>\n",
              "      <td>76fb0e83-59df-43ee-9c33-aec51030ed45</td>\n",
              "      <td>0</td>\n",
              "    </tr>\n",
              "    <tr>\n",
              "      <th>61911</th>\n",
              "      <td>Resort Hotel</td>\n",
              "      <td>143</td>\n",
              "      <td>2015</td>\n",
              "      <td>October</td>\n",
              "      <td>41</td>\n",
              "      <td>10</td>\n",
              "      <td>2</td>\n",
              "      <td>5</td>\n",
              "      <td>2</td>\n",
              "      <td>0.0</td>\n",
              "      <td>...</td>\n",
              "      <td>96.0</td>\n",
              "      <td>0.0</td>\n",
              "      <td>0</td>\n",
              "      <td>Transient</td>\n",
              "      <td>36.05</td>\n",
              "      <td>0</td>\n",
              "      <td>0</td>\n",
              "      <td>2015-07-08</td>\n",
              "      <td>01906859-1094-4e37-b13e-b015b594d159</td>\n",
              "      <td>1</td>\n",
              "    </tr>\n",
              "    <tr>\n",
              "      <th>61912</th>\n",
              "      <td>City Hotel</td>\n",
              "      <td>57</td>\n",
              "      <td>2016</td>\n",
              "      <td>April</td>\n",
              "      <td>17</td>\n",
              "      <td>17</td>\n",
              "      <td>2</td>\n",
              "      <td>5</td>\n",
              "      <td>2</td>\n",
              "      <td>0.0</td>\n",
              "      <td>...</td>\n",
              "      <td>9.0</td>\n",
              "      <td>0.0</td>\n",
              "      <td>0</td>\n",
              "      <td>Transient</td>\n",
              "      <td>143.29</td>\n",
              "      <td>0</td>\n",
              "      <td>0</td>\n",
              "      <td>2016-04-09</td>\n",
              "      <td>7137e599-4442-41fb-b147-4aba9f344e38</td>\n",
              "      <td>1</td>\n",
              "    </tr>\n",
              "  </tbody>\n",
              "</table>\n",
              "<p>61913 rows × 32 columns</p>\n",
              "</div>\n",
              "      <button class=\"colab-df-convert\" onclick=\"convertToInteractive('df-a4d6791d-c13d-488e-98e4-ffff1ae34636')\"\n",
              "              title=\"Convert this dataframe to an interactive table.\"\n",
              "              style=\"display:none;\">\n",
              "        \n",
              "  <svg xmlns=\"http://www.w3.org/2000/svg\" height=\"24px\"viewBox=\"0 0 24 24\"\n",
              "       width=\"24px\">\n",
              "    <path d=\"M0 0h24v24H0V0z\" fill=\"none\"/>\n",
              "    <path d=\"M18.56 5.44l.94 2.06.94-2.06 2.06-.94-2.06-.94-.94-2.06-.94 2.06-2.06.94zm-11 1L8.5 8.5l.94-2.06 2.06-.94-2.06-.94L8.5 2.5l-.94 2.06-2.06.94zm10 10l.94 2.06.94-2.06 2.06-.94-2.06-.94-.94-2.06-.94 2.06-2.06.94z\"/><path d=\"M17.41 7.96l-1.37-1.37c-.4-.4-.92-.59-1.43-.59-.52 0-1.04.2-1.43.59L10.3 9.45l-7.72 7.72c-.78.78-.78 2.05 0 2.83L4 21.41c.39.39.9.59 1.41.59.51 0 1.02-.2 1.41-.59l7.78-7.78 2.81-2.81c.8-.78.8-2.07 0-2.86zM5.41 20L4 18.59l7.72-7.72 1.47 1.35L5.41 20z\"/>\n",
              "  </svg>\n",
              "      </button>\n",
              "      \n",
              "  <style>\n",
              "    .colab-df-container {\n",
              "      display:flex;\n",
              "      flex-wrap:wrap;\n",
              "      gap: 12px;\n",
              "    }\n",
              "\n",
              "    .colab-df-convert {\n",
              "      background-color: #E8F0FE;\n",
              "      border: none;\n",
              "      border-radius: 50%;\n",
              "      cursor: pointer;\n",
              "      display: none;\n",
              "      fill: #1967D2;\n",
              "      height: 32px;\n",
              "      padding: 0 0 0 0;\n",
              "      width: 32px;\n",
              "    }\n",
              "\n",
              "    .colab-df-convert:hover {\n",
              "      background-color: #E2EBFA;\n",
              "      box-shadow: 0px 1px 2px rgba(60, 64, 67, 0.3), 0px 1px 3px 1px rgba(60, 64, 67, 0.15);\n",
              "      fill: #174EA6;\n",
              "    }\n",
              "\n",
              "    [theme=dark] .colab-df-convert {\n",
              "      background-color: #3B4455;\n",
              "      fill: #D2E3FC;\n",
              "    }\n",
              "\n",
              "    [theme=dark] .colab-df-convert:hover {\n",
              "      background-color: #434B5C;\n",
              "      box-shadow: 0px 1px 3px 1px rgba(0, 0, 0, 0.15);\n",
              "      filter: drop-shadow(0px 1px 2px rgba(0, 0, 0, 0.3));\n",
              "      fill: #FFFFFF;\n",
              "    }\n",
              "  </style>\n",
              "\n",
              "      <script>\n",
              "        const buttonEl =\n",
              "          document.querySelector('#df-a4d6791d-c13d-488e-98e4-ffff1ae34636 button.colab-df-convert');\n",
              "        buttonEl.style.display =\n",
              "          google.colab.kernel.accessAllowed ? 'block' : 'none';\n",
              "\n",
              "        async function convertToInteractive(key) {\n",
              "          const element = document.querySelector('#df-a4d6791d-c13d-488e-98e4-ffff1ae34636');\n",
              "          const dataTable =\n",
              "            await google.colab.kernel.invokeFunction('convertToInteractive',\n",
              "                                                     [key], {});\n",
              "          if (!dataTable) return;\n",
              "\n",
              "          const docLinkHtml = 'Like what you see? Visit the ' +\n",
              "            '<a target=\"_blank\" href=https://colab.research.google.com/notebooks/data_table.ipynb>data table notebook</a>'\n",
              "            + ' to learn more about interactive tables.';\n",
              "          element.innerHTML = '';\n",
              "          dataTable['output_type'] = 'display_data';\n",
              "          await google.colab.output.renderOutput(dataTable, element);\n",
              "          const docLink = document.createElement('div');\n",
              "          docLink.innerHTML = docLinkHtml;\n",
              "          element.appendChild(docLink);\n",
              "        }\n",
              "      </script>\n",
              "    </div>\n",
              "  </div>\n",
              "  "
            ]
          },
          "metadata": {},
          "execution_count": 6
        }
      ]
    },
    {
      "cell_type": "code",
      "source": [
        "df.info()"
      ],
      "metadata": {
        "colab": {
          "base_uri": "https://localhost:8080/"
        },
        "id": "ViGIOqcHOVSS",
        "outputId": "abc8dbb0-9365-4c2a-9a4a-2403a6648942"
      },
      "execution_count": 7,
      "outputs": [
        {
          "output_type": "stream",
          "name": "stdout",
          "text": [
            "<class 'pandas.core.frame.DataFrame'>\n",
            "RangeIndex: 61913 entries, 0 to 61912\n",
            "Data columns (total 32 columns):\n",
            " #   Column                          Non-Null Count  Dtype  \n",
            "---  ------                          --------------  -----  \n",
            " 0   hotel                           61913 non-null  object \n",
            " 1   lead_time                       61913 non-null  int64  \n",
            " 2   arrival_date_year               61913 non-null  int64  \n",
            " 3   arrival_date_month              61913 non-null  object \n",
            " 4   arrival_date_week_number        61913 non-null  int64  \n",
            " 5   arrival_date_day_of_month       61913 non-null  int64  \n",
            " 6   stays_in_weekend_nights         61913 non-null  int64  \n",
            " 7   stays_in_week_nights            61913 non-null  int64  \n",
            " 8   adults                          61913 non-null  int64  \n",
            " 9   children                        61909 non-null  float64\n",
            " 10  babies                          61913 non-null  int64  \n",
            " 11  meal                            61913 non-null  object \n",
            " 12  country                         61692 non-null  object \n",
            " 13  market_segment                  61913 non-null  object \n",
            " 14  distribution_channel            61913 non-null  object \n",
            " 15  is_repeated_guest               61913 non-null  int64  \n",
            " 16  previous_cancellations          61913 non-null  int64  \n",
            " 17  previous_bookings_not_canceled  61913 non-null  int64  \n",
            " 18  reserved_room_type              61913 non-null  object \n",
            " 19  assigned_room_type              61913 non-null  object \n",
            " 20  booking_changes                 61913 non-null  int64  \n",
            " 21  deposit_type                    61913 non-null  object \n",
            " 22  agent                           54023 non-null  float64\n",
            " 23  company                         3152 non-null   float64\n",
            " 24  days_in_waiting_list            61913 non-null  int64  \n",
            " 25  customer_type                   61913 non-null  object \n",
            " 26  adr                             61913 non-null  float64\n",
            " 27  required_car_parking_spaces     61913 non-null  int64  \n",
            " 28  total_of_special_requests       61913 non-null  int64  \n",
            " 29  reservation_status_date         61913 non-null  object \n",
            " 30  id                              61913 non-null  object \n",
            " 31  is_canceled                     61913 non-null  int64  \n",
            "dtypes: float64(4), int64(16), object(12)\n",
            "memory usage: 15.1+ MB\n"
          ]
        }
      ]
    },
    {
      "cell_type": "markdown",
      "source": [
        "#VARIABLES CUALITATIVAS\n",
        "* variable Hotel"
      ],
      "metadata": {
        "id": "UW7rrVEx0veq"
      }
    },
    {
      "cell_type": "code",
      "source": [
        "df['hotel'].value_counts(normalize = True)"
      ],
      "metadata": {
        "colab": {
          "base_uri": "https://localhost:8080/"
        },
        "id": "oXZqLXGVO_yD",
        "outputId": "3507791a-1a86-46e0-8b29-3043776566a9"
      },
      "execution_count": 8,
      "outputs": [
        {
          "output_type": "execute_result",
          "data": {
            "text/plain": [
              "City Hotel      0.680455\n",
              "Resort Hotel    0.319545\n",
              "Name: hotel, dtype: float64"
            ]
          },
          "metadata": {},
          "execution_count": 8
        }
      ]
    },
    {
      "cell_type": "markdown",
      "source": [
        "* variable Meal"
      ],
      "metadata": {
        "id": "lGrwRzm4PL3Z"
      }
    },
    {
      "cell_type": "code",
      "source": [
        "df['meal'].value_counts(normalize = True)"
      ],
      "metadata": {
        "id": "E-ssUn9Y0iLt",
        "colab": {
          "base_uri": "https://localhost:8080/"
        },
        "outputId": "bc7e9735-d737-41f9-c8a6-9cb82701f41e"
      },
      "execution_count": 9,
      "outputs": [
        {
          "output_type": "execute_result",
          "data": {
            "text/plain": [
              "BB           0.772649\n",
              "HB           0.120362\n",
              "SC           0.089739\n",
              "Undefined    0.009546\n",
              "FB           0.007704\n",
              "Name: meal, dtype: float64"
            ]
          },
          "metadata": {},
          "execution_count": 9
        }
      ]
    },
    {
      "cell_type": "markdown",
      "source": [
        "* variable Country"
      ],
      "metadata": {
        "id": "67KE8o-CPaYR"
      }
    },
    {
      "cell_type": "code",
      "source": [
        "df['country'].value_counts(normalize = True)"
      ],
      "metadata": {
        "id": "Y062CxKr1SNa",
        "colab": {
          "base_uri": "https://localhost:8080/"
        },
        "outputId": "7842017c-d4d9-4104-b8f6-1aedabac7345"
      },
      "execution_count": 10,
      "outputs": [
        {
          "output_type": "execute_result",
          "data": {
            "text/plain": [
              "PRT    0.453057\n",
              "GBR    0.092929\n",
              "FRA    0.077952\n",
              "ESP    0.068242\n",
              "DEU    0.053686\n",
              "         ...   \n",
              "HND    0.000016\n",
              "FJI    0.000016\n",
              "LIE    0.000016\n",
              "ATA    0.000016\n",
              "RWA    0.000016\n",
              "Name: country, Length: 149, dtype: float64"
            ]
          },
          "metadata": {},
          "execution_count": 10
        }
      ]
    },
    {
      "cell_type": "markdown",
      "source": [
        "* variable market segment"
      ],
      "metadata": {
        "id": "L3RXpgS8PwFx"
      }
    },
    {
      "cell_type": "code",
      "source": [
        "df['market_segment'].value_counts(normalize = True)"
      ],
      "metadata": {
        "id": "GfqbgRIT1aYt",
        "colab": {
          "base_uri": "https://localhost:8080/"
        },
        "outputId": "b18da689-cca9-43c3-df4a-758e4343a029"
      },
      "execution_count": 11,
      "outputs": [
        {
          "output_type": "execute_result",
          "data": {
            "text/plain": [
              "Online TA        0.472744\n",
              "Offline TA/TO    0.200023\n",
              "Groups           0.186471\n",
              "Direct           0.092985\n",
              "Corporate        0.040121\n",
              "Complementary    0.005798\n",
              "Aviation         0.001825\n",
              "Undefined        0.000032\n",
              "Name: market_segment, dtype: float64"
            ]
          },
          "metadata": {},
          "execution_count": 11
        }
      ]
    },
    {
      "cell_type": "markdown",
      "source": [
        "#Variables cuantitativas\n"
      ],
      "metadata": {
        "id": "EEZ0Q9QaYq27"
      }
    },
    {
      "cell_type": "code",
      "source": [
        "df['children'].describe()"
      ],
      "metadata": {
        "id": "E9Z_mIu2xsHI",
        "colab": {
          "base_uri": "https://localhost:8080/"
        },
        "outputId": "3b792cdb-d7a4-4b37-cbf2-ec91e99797da"
      },
      "execution_count": 12,
      "outputs": [
        {
          "output_type": "execute_result",
          "data": {
            "text/plain": [
              "count    61909.000000\n",
              "mean         0.104896\n",
              "std          0.402847\n",
              "min          0.000000\n",
              "25%          0.000000\n",
              "50%          0.000000\n",
              "75%          0.000000\n",
              "max         10.000000\n",
              "Name: children, dtype: float64"
            ]
          },
          "metadata": {},
          "execution_count": 12
        }
      ]
    },
    {
      "cell_type": "markdown",
      "source": [
        "Se decide rellenar los 4 registros de children con 0 ya que es cercana a la media y se pasa a int para que lo interprete de manera correcta"
      ],
      "metadata": {
        "id": "7ntd3-m_yU3j"
      }
    },
    {
      "cell_type": "code",
      "source": [
        "df['children'] = df['children'].fillna(0).astype(int)"
      ],
      "metadata": {
        "id": "Hxg80MIxxen4"
      },
      "execution_count": 13,
      "outputs": []
    },
    {
      "cell_type": "markdown",
      "source": [
        "Veo como distribuyen todas las variables"
      ],
      "metadata": {
        "id": "F6dredVAZ2pF"
      }
    },
    {
      "cell_type": "code",
      "source": [
        "df.describe()"
      ],
      "metadata": {
        "id": "JulVS35e1TOS",
        "colab": {
          "base_uri": "https://localhost:8080/",
          "height": 364
        },
        "outputId": "2369ccd2-e2ad-4a6f-ae1c-a57805047dc9"
      },
      "execution_count": 14,
      "outputs": [
        {
          "output_type": "execute_result",
          "data": {
            "text/plain": [
              "          lead_time  arrival_date_year  arrival_date_week_number  \\\n",
              "count  61913.000000       61913.000000               61913.00000   \n",
              "mean     112.248187        2016.154749                  27.21808   \n",
              "std      110.717953           0.708389                  13.52601   \n",
              "min        0.000000        2015.000000                   1.00000   \n",
              "25%       23.000000        2016.000000                  16.00000   \n",
              "50%       78.000000        2016.000000                  28.00000   \n",
              "75%      172.000000        2017.000000                  38.00000   \n",
              "max      629.000000        2017.000000                  53.00000   \n",
              "\n",
              "       arrival_date_day_of_month  stays_in_weekend_nights  \\\n",
              "count               61913.000000             61913.000000   \n",
              "mean                   15.785812                 0.924135   \n",
              "std                     8.795489                 0.993101   \n",
              "min                     1.000000                 0.000000   \n",
              "25%                     8.000000                 0.000000   \n",
              "50%                    16.000000                 1.000000   \n",
              "75%                    23.000000                 2.000000   \n",
              "max                    31.000000                16.000000   \n",
              "\n",
              "       stays_in_week_nights        adults      children        babies  \\\n",
              "count          61913.000000  61913.000000  61913.000000  61913.000000   \n",
              "mean               2.510054      1.862791      0.104889      0.007155   \n",
              "std                1.884926      0.589066      0.402835      0.092158   \n",
              "min                0.000000      0.000000      0.000000      0.000000   \n",
              "25%                1.000000      2.000000      0.000000      0.000000   \n",
              "50%                2.000000      2.000000      0.000000      0.000000   \n",
              "75%                3.000000      2.000000      0.000000      0.000000   \n",
              "max               40.000000     55.000000     10.000000      9.000000   \n",
              "\n",
              "       is_repeated_guest  previous_cancellations  \\\n",
              "count       61913.000000            61913.000000   \n",
              "mean            0.027991                0.114790   \n",
              "std             0.164948                0.993723   \n",
              "min             0.000000                0.000000   \n",
              "25%             0.000000                0.000000   \n",
              "50%             0.000000                0.000000   \n",
              "75%             0.000000                0.000000   \n",
              "max             1.000000               26.000000   \n",
              "\n",
              "       previous_bookings_not_canceled  booking_changes         agent  \\\n",
              "count                    61913.000000     61913.000000  54023.000000   \n",
              "mean                         0.115420         0.195952     84.541010   \n",
              "std                          1.396359         0.610519    109.523772   \n",
              "min                          0.000000         0.000000      1.000000   \n",
              "25%                          0.000000         0.000000      9.000000   \n",
              "50%                          0.000000         0.000000     12.000000   \n",
              "75%                          0.000000         0.000000    208.000000   \n",
              "max                         70.000000        17.000000    535.000000   \n",
              "\n",
              "           company  days_in_waiting_list           adr  \\\n",
              "count  3152.000000          61913.000000  61913.000000   \n",
              "mean    188.539340              2.638977    102.383773   \n",
              "std     129.457025             18.619092     47.757640   \n",
              "min       9.000000              0.000000     -6.380000   \n",
              "25%      67.000000              0.000000     70.000000   \n",
              "50%     179.000000              0.000000     95.000000   \n",
              "75%     270.000000              0.000000    126.000000   \n",
              "max     543.000000            391.000000    510.000000   \n",
              "\n",
              "       required_car_parking_spaces  total_of_special_requests   is_canceled  \n",
              "count                 61913.000000               61913.000000  61913.000000  \n",
              "mean                      0.049957                   0.523703      0.499750  \n",
              "std                       0.221023                   0.775412      0.500004  \n",
              "min                       0.000000                   0.000000      0.000000  \n",
              "25%                       0.000000                   0.000000      0.000000  \n",
              "50%                       0.000000                   0.000000      0.000000  \n",
              "75%                       0.000000                   1.000000      1.000000  \n",
              "max                       8.000000                   5.000000      1.000000  "
            ],
            "text/html": [
              "\n",
              "  <div id=\"df-10d24cfa-09c9-4d60-b12a-d7b52e94603d\">\n",
              "    <div class=\"colab-df-container\">\n",
              "      <div>\n",
              "<style scoped>\n",
              "    .dataframe tbody tr th:only-of-type {\n",
              "        vertical-align: middle;\n",
              "    }\n",
              "\n",
              "    .dataframe tbody tr th {\n",
              "        vertical-align: top;\n",
              "    }\n",
              "\n",
              "    .dataframe thead th {\n",
              "        text-align: right;\n",
              "    }\n",
              "</style>\n",
              "<table border=\"1\" class=\"dataframe\">\n",
              "  <thead>\n",
              "    <tr style=\"text-align: right;\">\n",
              "      <th></th>\n",
              "      <th>lead_time</th>\n",
              "      <th>arrival_date_year</th>\n",
              "      <th>arrival_date_week_number</th>\n",
              "      <th>arrival_date_day_of_month</th>\n",
              "      <th>stays_in_weekend_nights</th>\n",
              "      <th>stays_in_week_nights</th>\n",
              "      <th>adults</th>\n",
              "      <th>children</th>\n",
              "      <th>babies</th>\n",
              "      <th>is_repeated_guest</th>\n",
              "      <th>previous_cancellations</th>\n",
              "      <th>previous_bookings_not_canceled</th>\n",
              "      <th>booking_changes</th>\n",
              "      <th>agent</th>\n",
              "      <th>company</th>\n",
              "      <th>days_in_waiting_list</th>\n",
              "      <th>adr</th>\n",
              "      <th>required_car_parking_spaces</th>\n",
              "      <th>total_of_special_requests</th>\n",
              "      <th>is_canceled</th>\n",
              "    </tr>\n",
              "  </thead>\n",
              "  <tbody>\n",
              "    <tr>\n",
              "      <th>count</th>\n",
              "      <td>61913.000000</td>\n",
              "      <td>61913.000000</td>\n",
              "      <td>61913.00000</td>\n",
              "      <td>61913.000000</td>\n",
              "      <td>61913.000000</td>\n",
              "      <td>61913.000000</td>\n",
              "      <td>61913.000000</td>\n",
              "      <td>61913.000000</td>\n",
              "      <td>61913.000000</td>\n",
              "      <td>61913.000000</td>\n",
              "      <td>61913.000000</td>\n",
              "      <td>61913.000000</td>\n",
              "      <td>61913.000000</td>\n",
              "      <td>54023.000000</td>\n",
              "      <td>3152.000000</td>\n",
              "      <td>61913.000000</td>\n",
              "      <td>61913.000000</td>\n",
              "      <td>61913.000000</td>\n",
              "      <td>61913.000000</td>\n",
              "      <td>61913.000000</td>\n",
              "    </tr>\n",
              "    <tr>\n",
              "      <th>mean</th>\n",
              "      <td>112.248187</td>\n",
              "      <td>2016.154749</td>\n",
              "      <td>27.21808</td>\n",
              "      <td>15.785812</td>\n",
              "      <td>0.924135</td>\n",
              "      <td>2.510054</td>\n",
              "      <td>1.862791</td>\n",
              "      <td>0.104889</td>\n",
              "      <td>0.007155</td>\n",
              "      <td>0.027991</td>\n",
              "      <td>0.114790</td>\n",
              "      <td>0.115420</td>\n",
              "      <td>0.195952</td>\n",
              "      <td>84.541010</td>\n",
              "      <td>188.539340</td>\n",
              "      <td>2.638977</td>\n",
              "      <td>102.383773</td>\n",
              "      <td>0.049957</td>\n",
              "      <td>0.523703</td>\n",
              "      <td>0.499750</td>\n",
              "    </tr>\n",
              "    <tr>\n",
              "      <th>std</th>\n",
              "      <td>110.717953</td>\n",
              "      <td>0.708389</td>\n",
              "      <td>13.52601</td>\n",
              "      <td>8.795489</td>\n",
              "      <td>0.993101</td>\n",
              "      <td>1.884926</td>\n",
              "      <td>0.589066</td>\n",
              "      <td>0.402835</td>\n",
              "      <td>0.092158</td>\n",
              "      <td>0.164948</td>\n",
              "      <td>0.993723</td>\n",
              "      <td>1.396359</td>\n",
              "      <td>0.610519</td>\n",
              "      <td>109.523772</td>\n",
              "      <td>129.457025</td>\n",
              "      <td>18.619092</td>\n",
              "      <td>47.757640</td>\n",
              "      <td>0.221023</td>\n",
              "      <td>0.775412</td>\n",
              "      <td>0.500004</td>\n",
              "    </tr>\n",
              "    <tr>\n",
              "      <th>min</th>\n",
              "      <td>0.000000</td>\n",
              "      <td>2015.000000</td>\n",
              "      <td>1.00000</td>\n",
              "      <td>1.000000</td>\n",
              "      <td>0.000000</td>\n",
              "      <td>0.000000</td>\n",
              "      <td>0.000000</td>\n",
              "      <td>0.000000</td>\n",
              "      <td>0.000000</td>\n",
              "      <td>0.000000</td>\n",
              "      <td>0.000000</td>\n",
              "      <td>0.000000</td>\n",
              "      <td>0.000000</td>\n",
              "      <td>1.000000</td>\n",
              "      <td>9.000000</td>\n",
              "      <td>0.000000</td>\n",
              "      <td>-6.380000</td>\n",
              "      <td>0.000000</td>\n",
              "      <td>0.000000</td>\n",
              "      <td>0.000000</td>\n",
              "    </tr>\n",
              "    <tr>\n",
              "      <th>25%</th>\n",
              "      <td>23.000000</td>\n",
              "      <td>2016.000000</td>\n",
              "      <td>16.00000</td>\n",
              "      <td>8.000000</td>\n",
              "      <td>0.000000</td>\n",
              "      <td>1.000000</td>\n",
              "      <td>2.000000</td>\n",
              "      <td>0.000000</td>\n",
              "      <td>0.000000</td>\n",
              "      <td>0.000000</td>\n",
              "      <td>0.000000</td>\n",
              "      <td>0.000000</td>\n",
              "      <td>0.000000</td>\n",
              "      <td>9.000000</td>\n",
              "      <td>67.000000</td>\n",
              "      <td>0.000000</td>\n",
              "      <td>70.000000</td>\n",
              "      <td>0.000000</td>\n",
              "      <td>0.000000</td>\n",
              "      <td>0.000000</td>\n",
              "    </tr>\n",
              "    <tr>\n",
              "      <th>50%</th>\n",
              "      <td>78.000000</td>\n",
              "      <td>2016.000000</td>\n",
              "      <td>28.00000</td>\n",
              "      <td>16.000000</td>\n",
              "      <td>1.000000</td>\n",
              "      <td>2.000000</td>\n",
              "      <td>2.000000</td>\n",
              "      <td>0.000000</td>\n",
              "      <td>0.000000</td>\n",
              "      <td>0.000000</td>\n",
              "      <td>0.000000</td>\n",
              "      <td>0.000000</td>\n",
              "      <td>0.000000</td>\n",
              "      <td>12.000000</td>\n",
              "      <td>179.000000</td>\n",
              "      <td>0.000000</td>\n",
              "      <td>95.000000</td>\n",
              "      <td>0.000000</td>\n",
              "      <td>0.000000</td>\n",
              "      <td>0.000000</td>\n",
              "    </tr>\n",
              "    <tr>\n",
              "      <th>75%</th>\n",
              "      <td>172.000000</td>\n",
              "      <td>2017.000000</td>\n",
              "      <td>38.00000</td>\n",
              "      <td>23.000000</td>\n",
              "      <td>2.000000</td>\n",
              "      <td>3.000000</td>\n",
              "      <td>2.000000</td>\n",
              "      <td>0.000000</td>\n",
              "      <td>0.000000</td>\n",
              "      <td>0.000000</td>\n",
              "      <td>0.000000</td>\n",
              "      <td>0.000000</td>\n",
              "      <td>0.000000</td>\n",
              "      <td>208.000000</td>\n",
              "      <td>270.000000</td>\n",
              "      <td>0.000000</td>\n",
              "      <td>126.000000</td>\n",
              "      <td>0.000000</td>\n",
              "      <td>1.000000</td>\n",
              "      <td>1.000000</td>\n",
              "    </tr>\n",
              "    <tr>\n",
              "      <th>max</th>\n",
              "      <td>629.000000</td>\n",
              "      <td>2017.000000</td>\n",
              "      <td>53.00000</td>\n",
              "      <td>31.000000</td>\n",
              "      <td>16.000000</td>\n",
              "      <td>40.000000</td>\n",
              "      <td>55.000000</td>\n",
              "      <td>10.000000</td>\n",
              "      <td>9.000000</td>\n",
              "      <td>1.000000</td>\n",
              "      <td>26.000000</td>\n",
              "      <td>70.000000</td>\n",
              "      <td>17.000000</td>\n",
              "      <td>535.000000</td>\n",
              "      <td>543.000000</td>\n",
              "      <td>391.000000</td>\n",
              "      <td>510.000000</td>\n",
              "      <td>8.000000</td>\n",
              "      <td>5.000000</td>\n",
              "      <td>1.000000</td>\n",
              "    </tr>\n",
              "  </tbody>\n",
              "</table>\n",
              "</div>\n",
              "      <button class=\"colab-df-convert\" onclick=\"convertToInteractive('df-10d24cfa-09c9-4d60-b12a-d7b52e94603d')\"\n",
              "              title=\"Convert this dataframe to an interactive table.\"\n",
              "              style=\"display:none;\">\n",
              "        \n",
              "  <svg xmlns=\"http://www.w3.org/2000/svg\" height=\"24px\"viewBox=\"0 0 24 24\"\n",
              "       width=\"24px\">\n",
              "    <path d=\"M0 0h24v24H0V0z\" fill=\"none\"/>\n",
              "    <path d=\"M18.56 5.44l.94 2.06.94-2.06 2.06-.94-2.06-.94-.94-2.06-.94 2.06-2.06.94zm-11 1L8.5 8.5l.94-2.06 2.06-.94-2.06-.94L8.5 2.5l-.94 2.06-2.06.94zm10 10l.94 2.06.94-2.06 2.06-.94-2.06-.94-.94-2.06-.94 2.06-2.06.94z\"/><path d=\"M17.41 7.96l-1.37-1.37c-.4-.4-.92-.59-1.43-.59-.52 0-1.04.2-1.43.59L10.3 9.45l-7.72 7.72c-.78.78-.78 2.05 0 2.83L4 21.41c.39.39.9.59 1.41.59.51 0 1.02-.2 1.41-.59l7.78-7.78 2.81-2.81c.8-.78.8-2.07 0-2.86zM5.41 20L4 18.59l7.72-7.72 1.47 1.35L5.41 20z\"/>\n",
              "  </svg>\n",
              "      </button>\n",
              "      \n",
              "  <style>\n",
              "    .colab-df-container {\n",
              "      display:flex;\n",
              "      flex-wrap:wrap;\n",
              "      gap: 12px;\n",
              "    }\n",
              "\n",
              "    .colab-df-convert {\n",
              "      background-color: #E8F0FE;\n",
              "      border: none;\n",
              "      border-radius: 50%;\n",
              "      cursor: pointer;\n",
              "      display: none;\n",
              "      fill: #1967D2;\n",
              "      height: 32px;\n",
              "      padding: 0 0 0 0;\n",
              "      width: 32px;\n",
              "    }\n",
              "\n",
              "    .colab-df-convert:hover {\n",
              "      background-color: #E2EBFA;\n",
              "      box-shadow: 0px 1px 2px rgba(60, 64, 67, 0.3), 0px 1px 3px 1px rgba(60, 64, 67, 0.15);\n",
              "      fill: #174EA6;\n",
              "    }\n",
              "\n",
              "    [theme=dark] .colab-df-convert {\n",
              "      background-color: #3B4455;\n",
              "      fill: #D2E3FC;\n",
              "    }\n",
              "\n",
              "    [theme=dark] .colab-df-convert:hover {\n",
              "      background-color: #434B5C;\n",
              "      box-shadow: 0px 1px 3px 1px rgba(0, 0, 0, 0.15);\n",
              "      filter: drop-shadow(0px 1px 2px rgba(0, 0, 0, 0.3));\n",
              "      fill: #FFFFFF;\n",
              "    }\n",
              "  </style>\n",
              "\n",
              "      <script>\n",
              "        const buttonEl =\n",
              "          document.querySelector('#df-10d24cfa-09c9-4d60-b12a-d7b52e94603d button.colab-df-convert');\n",
              "        buttonEl.style.display =\n",
              "          google.colab.kernel.accessAllowed ? 'block' : 'none';\n",
              "\n",
              "        async function convertToInteractive(key) {\n",
              "          const element = document.querySelector('#df-10d24cfa-09c9-4d60-b12a-d7b52e94603d');\n",
              "          const dataTable =\n",
              "            await google.colab.kernel.invokeFunction('convertToInteractive',\n",
              "                                                     [key], {});\n",
              "          if (!dataTable) return;\n",
              "\n",
              "          const docLinkHtml = 'Like what you see? Visit the ' +\n",
              "            '<a target=\"_blank\" href=https://colab.research.google.com/notebooks/data_table.ipynb>data table notebook</a>'\n",
              "            + ' to learn more about interactive tables.';\n",
              "          element.innerHTML = '';\n",
              "          dataTable['output_type'] = 'display_data';\n",
              "          await google.colab.output.renderOutput(dataTable, element);\n",
              "          const docLink = document.createElement('div');\n",
              "          docLink.innerHTML = docLinkHtml;\n",
              "          element.appendChild(docLink);\n",
              "        }\n",
              "      </script>\n",
              "    </div>\n",
              "  </div>\n",
              "  "
            ]
          },
          "metadata": {},
          "execution_count": 14
        }
      ]
    },
    {
      "cell_type": "markdown",
      "source": [
        "#Estudio de las variables\n",
        "\n",
        "Cantidad de registros de la variable a predecir"
      ],
      "metadata": {
        "id": "_p5_ERQmcRnJ"
      }
    },
    {
      "cell_type": "code",
      "source": [
        "df['is_canceled'].value_counts()"
      ],
      "metadata": {
        "colab": {
          "base_uri": "https://localhost:8080/"
        },
        "id": "boAShjsGegYe",
        "outputId": "3bec0ad4-bd78-4ff2-f158-27dbca22b560"
      },
      "execution_count": 15,
      "outputs": [
        {
          "output_type": "execute_result",
          "data": {
            "text/plain": [
              "0    30972\n",
              "1    30941\n",
              "Name: is_canceled, dtype: int64"
            ]
          },
          "metadata": {},
          "execution_count": 15
        }
      ]
    },
    {
      "cell_type": "markdown",
      "source": [
        "# Análisis de Correlacion entre Variables"
      ],
      "metadata": {
        "id": "tZxu14tWo0tm"
      }
    },
    {
      "cell_type": "markdown",
      "source": [
        "para ello se buscara hallar la covarianza del dataset con cada variable\n",
        "y se usara el siguiente rango de correlacion\n",
        "Se emplean como medida de la fuerza de asociación entre dos variables (tamaño del efecto):\n",
        "* 0.0: asociación nula.\n",
        "* 0.1: asociación pequeña.\n",
        "* 0.3: asociación mediana.\n",
        "* 0.5: asociación moderada.\n",
        "* 0.7: asociación alta.\n",
        "* 0.9: asociación muy alta.\n",
        "\n",
        "respecto del signo:\n",
        "Con este estadístico medimos el signo de la relación lineal entre X\n",
        " e Y:\n",
        "\n",
        "* Si SXY=0: Entonces no existe relación lineal entre X  e Y\n",
        "* Si SXY>0: Entonces existe una relación lineal directa o positiva entre X e Y. Esto es, a mayores valores de X, en promedio tenemos mayores valores de Y\n",
        " y viceversa.\n",
        "* Si SXY<0: entonces existe una relación lineal inversa o negativa entre X\n",
        " e Y. Esto es, a mayores valores de X, en promedio tenemos menores valores de Y\n",
        " y viceversa.\n"
      ],
      "metadata": {
        "id": "fLE46tcqgmQX"
      }
    },
    {
      "cell_type": "code",
      "source": [
        "matriz_correlacion = df.cov(numeric_only= True )\n",
        "matriz_correlacion"
      ],
      "metadata": {
        "colab": {
          "base_uri": "https://localhost:8080/",
          "height": 740
        },
        "id": "TiPXRT2ngAGb",
        "outputId": "920a7267-ef1f-4aad-a411-5ea7c5fcc3f7"
      },
      "execution_count": 16,
      "outputs": [
        {
          "output_type": "execute_result",
          "data": {
            "text/plain": [
              "                                   lead_time  arrival_date_year  \\\n",
              "lead_time                       12258.465118           1.818502   \n",
              "arrival_date_year                   1.818502           0.501815   \n",
              "arrival_date_week_number          201.862627          -5.179294   \n",
              "arrival_date_day_of_month          -6.755375           0.014490   \n",
              "stays_in_weekend_nights             6.538163           0.019041   \n",
              "stays_in_week_nights               29.240236           0.054483   \n",
              "adults                              7.235679           0.011090   \n",
              "children                           -2.053442           0.016960   \n",
              "babies                             -0.233379          -0.000897   \n",
              "is_repeated_guest                  -1.972980          -0.000536   \n",
              "previous_cancellations             10.411942          -0.100123   \n",
              "previous_bookings_not_canceled    -10.528775           0.026815   \n",
              "booking_changes                    -1.334055           0.011800   \n",
              "agent                            -962.055439           6.317823   \n",
              "company                          1655.706735          22.581197   \n",
              "days_in_waiting_list              343.075082          -0.771887   \n",
              "adr                              -499.994682           7.355174   \n",
              "required_car_parking_spaces        -2.784139          -0.001819   \n",
              "total_of_special_requests         -10.539204           0.059268   \n",
              "is_canceled                        16.265487           0.007057   \n",
              "\n",
              "                                arrival_date_week_number  \\\n",
              "lead_time                                     201.862627   \n",
              "arrival_date_year                              -5.179294   \n",
              "arrival_date_week_number                      182.952957   \n",
              "arrival_date_day_of_month                       6.868022   \n",
              "stays_in_weekend_nights                         0.189758   \n",
              "stays_in_week_nights                            0.311042   \n",
              "adults                                          0.206254   \n",
              "children                                        0.034594   \n",
              "babies                                          0.020212   \n",
              "is_repeated_guest                              -0.049165   \n",
              "previous_cancellations                          0.611967   \n",
              "previous_bookings_not_canceled                 -0.451341   \n",
              "booking_changes                                 0.099807   \n",
              "agent                                         -63.737370   \n",
              "company                                       -81.997347   \n",
              "days_in_waiting_list                            4.867659   \n",
              "adr                                            48.723868   \n",
              "required_car_parking_spaces                     0.004256   \n",
              "total_of_special_requests                       0.307129   \n",
              "is_canceled                                     0.056522   \n",
              "\n",
              "                                arrival_date_day_of_month  \\\n",
              "lead_time                                       -6.755375   \n",
              "arrival_date_year                                0.014490   \n",
              "arrival_date_week_number                         6.868022   \n",
              "arrival_date_day_of_month                       77.360619   \n",
              "stays_in_weekend_nights                         -0.135548   \n",
              "stays_in_week_nights                            -0.438496   \n",
              "adults                                           0.012687   \n",
              "children                                         0.049634   \n",
              "babies                                           0.002082   \n",
              "is_repeated_guest                               -0.007588   \n",
              "previous_cancellations                          -0.301683   \n",
              "previous_bookings_not_canceled                  -0.024881   \n",
              "booking_changes                                  0.051129   \n",
              "agent                                            2.509370   \n",
              "company                                         53.962390   \n",
              "days_in_waiting_list                             4.545072   \n",
              "adr                                             14.153569   \n",
              "required_car_parking_spaces                      0.000573   \n",
              "total_of_special_requests                        0.052814   \n",
              "is_canceled                                     -0.032414   \n",
              "\n",
              "                                stays_in_weekend_nights  stays_in_week_nights  \\\n",
              "lead_time                                      6.538163             29.240236   \n",
              "arrival_date_year                              0.019041              0.054483   \n",
              "arrival_date_week_number                       0.189758              0.311042   \n",
              "arrival_date_day_of_month                     -0.135548             -0.438496   \n",
              "stays_in_weekend_nights                        0.986249              0.914826   \n",
              "stays_in_week_nights                           0.914826              3.552946   \n",
              "adults                                         0.048787              0.097702   \n",
              "children                                       0.020798              0.044252   \n",
              "babies                                         0.002013              0.003716   \n",
              "is_repeated_guest                             -0.013172             -0.027473   \n",
              "previous_cancellations                        -0.010964             -0.025132   \n",
              "previous_bookings_not_canceled                -0.052637             -0.118941   \n",
              "booking_changes                                0.026528              0.080663   \n",
              "agent                                         16.571829             40.993838   \n",
              "company                                        6.628608             44.734971   \n",
              "days_in_waiting_list                          -1.063376             -0.145275   \n",
              "adr                                            2.899560              7.463522   \n",
              "required_car_parking_spaces                   -0.003123             -0.009022   \n",
              "total_of_special_requests                      0.055560              0.107217   \n",
              "is_canceled                                    0.000635              0.026803   \n",
              "\n",
              "                                   adults  children    babies  \\\n",
              "lead_time                        7.235679 -2.053442 -0.233379   \n",
              "arrival_date_year                0.011090  0.016960 -0.000897   \n",
              "arrival_date_week_number         0.206254  0.034594  0.020212   \n",
              "arrival_date_day_of_month        0.012687  0.049634  0.002082   \n",
              "stays_in_weekend_nights          0.048787  0.020798  0.002013   \n",
              "stays_in_week_nights             0.097702  0.044252  0.003716   \n",
              "adults                           0.346999  0.006930  0.000804   \n",
              "children                         0.006930  0.162276  0.001075   \n",
              "babies                           0.000804  0.001075  0.008493   \n",
              "is_repeated_guest               -0.012554 -0.001983 -0.000136   \n",
              "previous_cancellations          -0.001871 -0.010926 -0.000708   \n",
              "previous_bookings_not_canceled  -0.079702 -0.011073 -0.000745   \n",
              "booking_changes                 -0.016320  0.014480  0.004962   \n",
              "agent                           -1.643773  2.563255  0.367992   \n",
              "company                         11.496075  0.726397  0.199641   \n",
              "days_in_waiting_list            -0.103322 -0.266096 -0.018640   \n",
              "adr                              6.232389  6.742633  0.148478   \n",
              "required_car_parking_spaces      0.001379  0.004031  0.000741   \n",
              "total_of_special_requests        0.049148  0.024988  0.006671   \n",
              "is_canceled                      0.017725  0.001254 -0.001476   \n",
              "\n",
              "                                is_repeated_guest  previous_cancellations  \\\n",
              "lead_time                               -1.972980               10.411942   \n",
              "arrival_date_year                       -0.000536               -0.100123   \n",
              "arrival_date_week_number                -0.049165                0.611967   \n",
              "arrival_date_day_of_month               -0.007588               -0.301683   \n",
              "stays_in_weekend_nights                 -0.013172               -0.010964   \n",
              "stays_in_week_nights                    -0.027473               -0.025132   \n",
              "adults                                  -0.012554               -0.001871   \n",
              "children                                -0.001983               -0.010926   \n",
              "babies                                  -0.000136               -0.000708   \n",
              "is_repeated_guest                        0.027208                0.012454   \n",
              "previous_cancellations                   0.012454                0.987485   \n",
              "previous_bookings_not_canceled           0.093519                0.181802   \n",
              "booking_changes                          0.000847               -0.017939   \n",
              "agent                                    0.237319               -0.972086   \n",
              "company                                -12.651371              -15.691098   \n",
              "days_in_waiting_list                    -0.067036                0.075491   \n",
              "adr                                     -1.041904               -3.805764   \n",
              "required_car_parking_spaces              0.002688               -0.004297   \n",
              "total_of_special_requests                0.002042               -0.040411   \n",
              "is_canceled                             -0.007463                0.049494   \n",
              "\n",
              "                                previous_bookings_not_canceled  \\\n",
              "lead_time                                           -10.528775   \n",
              "arrival_date_year                                     0.026815   \n",
              "arrival_date_week_number                             -0.451341   \n",
              "arrival_date_day_of_month                            -0.024881   \n",
              "stays_in_weekend_nights                              -0.052637   \n",
              "stays_in_week_nights                                 -0.118941   \n",
              "adults                                               -0.079702   \n",
              "children                                             -0.011073   \n",
              "babies                                               -0.000745   \n",
              "is_repeated_guest                                     0.093519   \n",
              "previous_cancellations                                0.181802   \n",
              "previous_bookings_not_canceled                        1.949819   \n",
              "booking_changes                                       0.010882   \n",
              "agent                                                 1.008332   \n",
              "company                                            -142.765669   \n",
              "days_in_waiting_list                                 -0.226146   \n",
              "adr                                                  -4.519831   \n",
              "required_car_parking_spaces                           0.017380   \n",
              "total_of_special_requests                             0.044476   \n",
              "is_canceled                                          -0.045988   \n",
              "\n",
              "                                booking_changes         agent       company  \\\n",
              "lead_time                             -1.334055   -962.055439   1655.706735   \n",
              "arrival_date_year                      0.011800      6.317823     22.581197   \n",
              "arrival_date_week_number               0.099807    -63.737370    -81.997347   \n",
              "arrival_date_day_of_month              0.051129      2.509370     53.962390   \n",
              "stays_in_weekend_nights                0.026528     16.571829      6.628608   \n",
              "stays_in_week_nights                   0.080663     40.993838     44.734971   \n",
              "adults                                -0.016320     -1.643773     11.496075   \n",
              "children                               0.014480      2.563255      0.726397   \n",
              "babies                                 0.004962      0.367992      0.199641   \n",
              "is_repeated_guest                      0.000847      0.237319    -12.651371   \n",
              "previous_cancellations                -0.017939     -0.972086    -15.691098   \n",
              "previous_bookings_not_canceled         0.010882      1.008332   -142.765669   \n",
              "booking_changes                        0.372734      4.605859     16.184398   \n",
              "agent                                  4.605859  11995.456534   5695.037607   \n",
              "company                               16.184398   5695.037607  16759.121270   \n",
              "days_in_waiting_list                  -0.167384   -133.352942     -4.142477   \n",
              "adr                                    0.857223     -5.858117    360.954749   \n",
              "required_car_parking_spaces            0.010271      3.656032      0.250527   \n",
              "total_of_special_requests              0.032618      4.272896     -6.607540   \n",
              "is_canceled                           -0.048633     -4.715104     -2.282511   \n",
              "\n",
              "                                days_in_waiting_list          adr  \\\n",
              "lead_time                                 343.075082  -499.994682   \n",
              "arrival_date_year                          -0.771887     7.355174   \n",
              "arrival_date_week_number                    4.867659    48.723868   \n",
              "arrival_date_day_of_month                   4.545072    14.153569   \n",
              "stays_in_weekend_nights                    -1.063376     2.899560   \n",
              "stays_in_week_nights                       -0.145275     7.463522   \n",
              "adults                                     -0.103322     6.232389   \n",
              "children                                   -0.266096     6.742633   \n",
              "babies                                     -0.018640     0.148478   \n",
              "is_repeated_guest                          -0.067036    -1.041904   \n",
              "previous_cancellations                      0.075491    -3.805764   \n",
              "previous_bookings_not_canceled             -0.226146    -4.519831   \n",
              "booking_changes                            -0.167384     0.857223   \n",
              "agent                                    -133.352942    -5.858117   \n",
              "company                                    -4.142477   360.954749   \n",
              "days_in_waiting_list                      346.670604   -40.429728   \n",
              "adr                                       -40.429728  2280.792177   \n",
              "required_car_parking_spaces                -0.109984     0.549243   \n",
              "total_of_special_requests                  -1.254493     6.491401   \n",
              "is_canceled                                 0.473178     1.174992   \n",
              "\n",
              "                                required_car_parking_spaces  \\\n",
              "lead_time                                         -2.784139   \n",
              "arrival_date_year                                 -0.001819   \n",
              "arrival_date_week_number                           0.004256   \n",
              "arrival_date_day_of_month                          0.000573   \n",
              "stays_in_weekend_nights                           -0.003123   \n",
              "stays_in_week_nights                              -0.009022   \n",
              "adults                                             0.001379   \n",
              "children                                           0.004031   \n",
              "babies                                             0.000741   \n",
              "is_repeated_guest                                  0.002688   \n",
              "previous_cancellations                            -0.004297   \n",
              "previous_bookings_not_canceled                     0.017380   \n",
              "booking_changes                                    0.010271   \n",
              "agent                                              3.656032   \n",
              "company                                            0.250527   \n",
              "days_in_waiting_list                              -0.109984   \n",
              "adr                                                0.549243   \n",
              "required_car_parking_spaces                        0.048851   \n",
              "total_of_special_requests                          0.015719   \n",
              "is_canceled                                       -0.024966   \n",
              "\n",
              "                                total_of_special_requests  is_canceled  \n",
              "lead_time                                      -10.539204    16.265487  \n",
              "arrival_date_year                                0.059268     0.007057  \n",
              "arrival_date_week_number                         0.307129     0.056522  \n",
              "arrival_date_day_of_month                        0.052814    -0.032414  \n",
              "stays_in_weekend_nights                          0.055560     0.000635  \n",
              "stays_in_week_nights                             0.107217     0.026803  \n",
              "adults                                           0.049148     0.017725  \n",
              "children                                         0.024988     0.001254  \n",
              "babies                                           0.006671    -0.001476  \n",
              "is_repeated_guest                                0.002042    -0.007463  \n",
              "previous_cancellations                          -0.040411     0.049494  \n",
              "previous_bookings_not_canceled                   0.044476    -0.045988  \n",
              "booking_changes                                  0.032618    -0.048633  \n",
              "agent                                            4.272896    -4.715104  \n",
              "company                                         -6.607540    -2.282511  \n",
              "days_in_waiting_list                            -1.254493     0.473178  \n",
              "adr                                              6.491401     1.174992  \n",
              "required_car_parking_spaces                      0.015719    -0.024966  \n",
              "total_of_special_requests                        0.601264    -0.094988  \n",
              "is_canceled                                     -0.094988     0.250004  "
            ],
            "text/html": [
              "\n",
              "  <div id=\"df-6a4e124c-a0cd-4850-a6f1-f26d6a8741e5\">\n",
              "    <div class=\"colab-df-container\">\n",
              "      <div>\n",
              "<style scoped>\n",
              "    .dataframe tbody tr th:only-of-type {\n",
              "        vertical-align: middle;\n",
              "    }\n",
              "\n",
              "    .dataframe tbody tr th {\n",
              "        vertical-align: top;\n",
              "    }\n",
              "\n",
              "    .dataframe thead th {\n",
              "        text-align: right;\n",
              "    }\n",
              "</style>\n",
              "<table border=\"1\" class=\"dataframe\">\n",
              "  <thead>\n",
              "    <tr style=\"text-align: right;\">\n",
              "      <th></th>\n",
              "      <th>lead_time</th>\n",
              "      <th>arrival_date_year</th>\n",
              "      <th>arrival_date_week_number</th>\n",
              "      <th>arrival_date_day_of_month</th>\n",
              "      <th>stays_in_weekend_nights</th>\n",
              "      <th>stays_in_week_nights</th>\n",
              "      <th>adults</th>\n",
              "      <th>children</th>\n",
              "      <th>babies</th>\n",
              "      <th>is_repeated_guest</th>\n",
              "      <th>previous_cancellations</th>\n",
              "      <th>previous_bookings_not_canceled</th>\n",
              "      <th>booking_changes</th>\n",
              "      <th>agent</th>\n",
              "      <th>company</th>\n",
              "      <th>days_in_waiting_list</th>\n",
              "      <th>adr</th>\n",
              "      <th>required_car_parking_spaces</th>\n",
              "      <th>total_of_special_requests</th>\n",
              "      <th>is_canceled</th>\n",
              "    </tr>\n",
              "  </thead>\n",
              "  <tbody>\n",
              "    <tr>\n",
              "      <th>lead_time</th>\n",
              "      <td>12258.465118</td>\n",
              "      <td>1.818502</td>\n",
              "      <td>201.862627</td>\n",
              "      <td>-6.755375</td>\n",
              "      <td>6.538163</td>\n",
              "      <td>29.240236</td>\n",
              "      <td>7.235679</td>\n",
              "      <td>-2.053442</td>\n",
              "      <td>-0.233379</td>\n",
              "      <td>-1.972980</td>\n",
              "      <td>10.411942</td>\n",
              "      <td>-10.528775</td>\n",
              "      <td>-1.334055</td>\n",
              "      <td>-962.055439</td>\n",
              "      <td>1655.706735</td>\n",
              "      <td>343.075082</td>\n",
              "      <td>-499.994682</td>\n",
              "      <td>-2.784139</td>\n",
              "      <td>-10.539204</td>\n",
              "      <td>16.265487</td>\n",
              "    </tr>\n",
              "    <tr>\n",
              "      <th>arrival_date_year</th>\n",
              "      <td>1.818502</td>\n",
              "      <td>0.501815</td>\n",
              "      <td>-5.179294</td>\n",
              "      <td>0.014490</td>\n",
              "      <td>0.019041</td>\n",
              "      <td>0.054483</td>\n",
              "      <td>0.011090</td>\n",
              "      <td>0.016960</td>\n",
              "      <td>-0.000897</td>\n",
              "      <td>-0.000536</td>\n",
              "      <td>-0.100123</td>\n",
              "      <td>0.026815</td>\n",
              "      <td>0.011800</td>\n",
              "      <td>6.317823</td>\n",
              "      <td>22.581197</td>\n",
              "      <td>-0.771887</td>\n",
              "      <td>7.355174</td>\n",
              "      <td>-0.001819</td>\n",
              "      <td>0.059268</td>\n",
              "      <td>0.007057</td>\n",
              "    </tr>\n",
              "    <tr>\n",
              "      <th>arrival_date_week_number</th>\n",
              "      <td>201.862627</td>\n",
              "      <td>-5.179294</td>\n",
              "      <td>182.952957</td>\n",
              "      <td>6.868022</td>\n",
              "      <td>0.189758</td>\n",
              "      <td>0.311042</td>\n",
              "      <td>0.206254</td>\n",
              "      <td>0.034594</td>\n",
              "      <td>0.020212</td>\n",
              "      <td>-0.049165</td>\n",
              "      <td>0.611967</td>\n",
              "      <td>-0.451341</td>\n",
              "      <td>0.099807</td>\n",
              "      <td>-63.737370</td>\n",
              "      <td>-81.997347</td>\n",
              "      <td>4.867659</td>\n",
              "      <td>48.723868</td>\n",
              "      <td>0.004256</td>\n",
              "      <td>0.307129</td>\n",
              "      <td>0.056522</td>\n",
              "    </tr>\n",
              "    <tr>\n",
              "      <th>arrival_date_day_of_month</th>\n",
              "      <td>-6.755375</td>\n",
              "      <td>0.014490</td>\n",
              "      <td>6.868022</td>\n",
              "      <td>77.360619</td>\n",
              "      <td>-0.135548</td>\n",
              "      <td>-0.438496</td>\n",
              "      <td>0.012687</td>\n",
              "      <td>0.049634</td>\n",
              "      <td>0.002082</td>\n",
              "      <td>-0.007588</td>\n",
              "      <td>-0.301683</td>\n",
              "      <td>-0.024881</td>\n",
              "      <td>0.051129</td>\n",
              "      <td>2.509370</td>\n",
              "      <td>53.962390</td>\n",
              "      <td>4.545072</td>\n",
              "      <td>14.153569</td>\n",
              "      <td>0.000573</td>\n",
              "      <td>0.052814</td>\n",
              "      <td>-0.032414</td>\n",
              "    </tr>\n",
              "    <tr>\n",
              "      <th>stays_in_weekend_nights</th>\n",
              "      <td>6.538163</td>\n",
              "      <td>0.019041</td>\n",
              "      <td>0.189758</td>\n",
              "      <td>-0.135548</td>\n",
              "      <td>0.986249</td>\n",
              "      <td>0.914826</td>\n",
              "      <td>0.048787</td>\n",
              "      <td>0.020798</td>\n",
              "      <td>0.002013</td>\n",
              "      <td>-0.013172</td>\n",
              "      <td>-0.010964</td>\n",
              "      <td>-0.052637</td>\n",
              "      <td>0.026528</td>\n",
              "      <td>16.571829</td>\n",
              "      <td>6.628608</td>\n",
              "      <td>-1.063376</td>\n",
              "      <td>2.899560</td>\n",
              "      <td>-0.003123</td>\n",
              "      <td>0.055560</td>\n",
              "      <td>0.000635</td>\n",
              "    </tr>\n",
              "    <tr>\n",
              "      <th>stays_in_week_nights</th>\n",
              "      <td>29.240236</td>\n",
              "      <td>0.054483</td>\n",
              "      <td>0.311042</td>\n",
              "      <td>-0.438496</td>\n",
              "      <td>0.914826</td>\n",
              "      <td>3.552946</td>\n",
              "      <td>0.097702</td>\n",
              "      <td>0.044252</td>\n",
              "      <td>0.003716</td>\n",
              "      <td>-0.027473</td>\n",
              "      <td>-0.025132</td>\n",
              "      <td>-0.118941</td>\n",
              "      <td>0.080663</td>\n",
              "      <td>40.993838</td>\n",
              "      <td>44.734971</td>\n",
              "      <td>-0.145275</td>\n",
              "      <td>7.463522</td>\n",
              "      <td>-0.009022</td>\n",
              "      <td>0.107217</td>\n",
              "      <td>0.026803</td>\n",
              "    </tr>\n",
              "    <tr>\n",
              "      <th>adults</th>\n",
              "      <td>7.235679</td>\n",
              "      <td>0.011090</td>\n",
              "      <td>0.206254</td>\n",
              "      <td>0.012687</td>\n",
              "      <td>0.048787</td>\n",
              "      <td>0.097702</td>\n",
              "      <td>0.346999</td>\n",
              "      <td>0.006930</td>\n",
              "      <td>0.000804</td>\n",
              "      <td>-0.012554</td>\n",
              "      <td>-0.001871</td>\n",
              "      <td>-0.079702</td>\n",
              "      <td>-0.016320</td>\n",
              "      <td>-1.643773</td>\n",
              "      <td>11.496075</td>\n",
              "      <td>-0.103322</td>\n",
              "      <td>6.232389</td>\n",
              "      <td>0.001379</td>\n",
              "      <td>0.049148</td>\n",
              "      <td>0.017725</td>\n",
              "    </tr>\n",
              "    <tr>\n",
              "      <th>children</th>\n",
              "      <td>-2.053442</td>\n",
              "      <td>0.016960</td>\n",
              "      <td>0.034594</td>\n",
              "      <td>0.049634</td>\n",
              "      <td>0.020798</td>\n",
              "      <td>0.044252</td>\n",
              "      <td>0.006930</td>\n",
              "      <td>0.162276</td>\n",
              "      <td>0.001075</td>\n",
              "      <td>-0.001983</td>\n",
              "      <td>-0.010926</td>\n",
              "      <td>-0.011073</td>\n",
              "      <td>0.014480</td>\n",
              "      <td>2.563255</td>\n",
              "      <td>0.726397</td>\n",
              "      <td>-0.266096</td>\n",
              "      <td>6.742633</td>\n",
              "      <td>0.004031</td>\n",
              "      <td>0.024988</td>\n",
              "      <td>0.001254</td>\n",
              "    </tr>\n",
              "    <tr>\n",
              "      <th>babies</th>\n",
              "      <td>-0.233379</td>\n",
              "      <td>-0.000897</td>\n",
              "      <td>0.020212</td>\n",
              "      <td>0.002082</td>\n",
              "      <td>0.002013</td>\n",
              "      <td>0.003716</td>\n",
              "      <td>0.000804</td>\n",
              "      <td>0.001075</td>\n",
              "      <td>0.008493</td>\n",
              "      <td>-0.000136</td>\n",
              "      <td>-0.000708</td>\n",
              "      <td>-0.000745</td>\n",
              "      <td>0.004962</td>\n",
              "      <td>0.367992</td>\n",
              "      <td>0.199641</td>\n",
              "      <td>-0.018640</td>\n",
              "      <td>0.148478</td>\n",
              "      <td>0.000741</td>\n",
              "      <td>0.006671</td>\n",
              "      <td>-0.001476</td>\n",
              "    </tr>\n",
              "    <tr>\n",
              "      <th>is_repeated_guest</th>\n",
              "      <td>-1.972980</td>\n",
              "      <td>-0.000536</td>\n",
              "      <td>-0.049165</td>\n",
              "      <td>-0.007588</td>\n",
              "      <td>-0.013172</td>\n",
              "      <td>-0.027473</td>\n",
              "      <td>-0.012554</td>\n",
              "      <td>-0.001983</td>\n",
              "      <td>-0.000136</td>\n",
              "      <td>0.027208</td>\n",
              "      <td>0.012454</td>\n",
              "      <td>0.093519</td>\n",
              "      <td>0.000847</td>\n",
              "      <td>0.237319</td>\n",
              "      <td>-12.651371</td>\n",
              "      <td>-0.067036</td>\n",
              "      <td>-1.041904</td>\n",
              "      <td>0.002688</td>\n",
              "      <td>0.002042</td>\n",
              "      <td>-0.007463</td>\n",
              "    </tr>\n",
              "    <tr>\n",
              "      <th>previous_cancellations</th>\n",
              "      <td>10.411942</td>\n",
              "      <td>-0.100123</td>\n",
              "      <td>0.611967</td>\n",
              "      <td>-0.301683</td>\n",
              "      <td>-0.010964</td>\n",
              "      <td>-0.025132</td>\n",
              "      <td>-0.001871</td>\n",
              "      <td>-0.010926</td>\n",
              "      <td>-0.000708</td>\n",
              "      <td>0.012454</td>\n",
              "      <td>0.987485</td>\n",
              "      <td>0.181802</td>\n",
              "      <td>-0.017939</td>\n",
              "      <td>-0.972086</td>\n",
              "      <td>-15.691098</td>\n",
              "      <td>0.075491</td>\n",
              "      <td>-3.805764</td>\n",
              "      <td>-0.004297</td>\n",
              "      <td>-0.040411</td>\n",
              "      <td>0.049494</td>\n",
              "    </tr>\n",
              "    <tr>\n",
              "      <th>previous_bookings_not_canceled</th>\n",
              "      <td>-10.528775</td>\n",
              "      <td>0.026815</td>\n",
              "      <td>-0.451341</td>\n",
              "      <td>-0.024881</td>\n",
              "      <td>-0.052637</td>\n",
              "      <td>-0.118941</td>\n",
              "      <td>-0.079702</td>\n",
              "      <td>-0.011073</td>\n",
              "      <td>-0.000745</td>\n",
              "      <td>0.093519</td>\n",
              "      <td>0.181802</td>\n",
              "      <td>1.949819</td>\n",
              "      <td>0.010882</td>\n",
              "      <td>1.008332</td>\n",
              "      <td>-142.765669</td>\n",
              "      <td>-0.226146</td>\n",
              "      <td>-4.519831</td>\n",
              "      <td>0.017380</td>\n",
              "      <td>0.044476</td>\n",
              "      <td>-0.045988</td>\n",
              "    </tr>\n",
              "    <tr>\n",
              "      <th>booking_changes</th>\n",
              "      <td>-1.334055</td>\n",
              "      <td>0.011800</td>\n",
              "      <td>0.099807</td>\n",
              "      <td>0.051129</td>\n",
              "      <td>0.026528</td>\n",
              "      <td>0.080663</td>\n",
              "      <td>-0.016320</td>\n",
              "      <td>0.014480</td>\n",
              "      <td>0.004962</td>\n",
              "      <td>0.000847</td>\n",
              "      <td>-0.017939</td>\n",
              "      <td>0.010882</td>\n",
              "      <td>0.372734</td>\n",
              "      <td>4.605859</td>\n",
              "      <td>16.184398</td>\n",
              "      <td>-0.167384</td>\n",
              "      <td>0.857223</td>\n",
              "      <td>0.010271</td>\n",
              "      <td>0.032618</td>\n",
              "      <td>-0.048633</td>\n",
              "    </tr>\n",
              "    <tr>\n",
              "      <th>agent</th>\n",
              "      <td>-962.055439</td>\n",
              "      <td>6.317823</td>\n",
              "      <td>-63.737370</td>\n",
              "      <td>2.509370</td>\n",
              "      <td>16.571829</td>\n",
              "      <td>40.993838</td>\n",
              "      <td>-1.643773</td>\n",
              "      <td>2.563255</td>\n",
              "      <td>0.367992</td>\n",
              "      <td>0.237319</td>\n",
              "      <td>-0.972086</td>\n",
              "      <td>1.008332</td>\n",
              "      <td>4.605859</td>\n",
              "      <td>11995.456534</td>\n",
              "      <td>5695.037607</td>\n",
              "      <td>-133.352942</td>\n",
              "      <td>-5.858117</td>\n",
              "      <td>3.656032</td>\n",
              "      <td>4.272896</td>\n",
              "      <td>-4.715104</td>\n",
              "    </tr>\n",
              "    <tr>\n",
              "      <th>company</th>\n",
              "      <td>1655.706735</td>\n",
              "      <td>22.581197</td>\n",
              "      <td>-81.997347</td>\n",
              "      <td>53.962390</td>\n",
              "      <td>6.628608</td>\n",
              "      <td>44.734971</td>\n",
              "      <td>11.496075</td>\n",
              "      <td>0.726397</td>\n",
              "      <td>0.199641</td>\n",
              "      <td>-12.651371</td>\n",
              "      <td>-15.691098</td>\n",
              "      <td>-142.765669</td>\n",
              "      <td>16.184398</td>\n",
              "      <td>5695.037607</td>\n",
              "      <td>16759.121270</td>\n",
              "      <td>-4.142477</td>\n",
              "      <td>360.954749</td>\n",
              "      <td>0.250527</td>\n",
              "      <td>-6.607540</td>\n",
              "      <td>-2.282511</td>\n",
              "    </tr>\n",
              "    <tr>\n",
              "      <th>days_in_waiting_list</th>\n",
              "      <td>343.075082</td>\n",
              "      <td>-0.771887</td>\n",
              "      <td>4.867659</td>\n",
              "      <td>4.545072</td>\n",
              "      <td>-1.063376</td>\n",
              "      <td>-0.145275</td>\n",
              "      <td>-0.103322</td>\n",
              "      <td>-0.266096</td>\n",
              "      <td>-0.018640</td>\n",
              "      <td>-0.067036</td>\n",
              "      <td>0.075491</td>\n",
              "      <td>-0.226146</td>\n",
              "      <td>-0.167384</td>\n",
              "      <td>-133.352942</td>\n",
              "      <td>-4.142477</td>\n",
              "      <td>346.670604</td>\n",
              "      <td>-40.429728</td>\n",
              "      <td>-0.109984</td>\n",
              "      <td>-1.254493</td>\n",
              "      <td>0.473178</td>\n",
              "    </tr>\n",
              "    <tr>\n",
              "      <th>adr</th>\n",
              "      <td>-499.994682</td>\n",
              "      <td>7.355174</td>\n",
              "      <td>48.723868</td>\n",
              "      <td>14.153569</td>\n",
              "      <td>2.899560</td>\n",
              "      <td>7.463522</td>\n",
              "      <td>6.232389</td>\n",
              "      <td>6.742633</td>\n",
              "      <td>0.148478</td>\n",
              "      <td>-1.041904</td>\n",
              "      <td>-3.805764</td>\n",
              "      <td>-4.519831</td>\n",
              "      <td>0.857223</td>\n",
              "      <td>-5.858117</td>\n",
              "      <td>360.954749</td>\n",
              "      <td>-40.429728</td>\n",
              "      <td>2280.792177</td>\n",
              "      <td>0.549243</td>\n",
              "      <td>6.491401</td>\n",
              "      <td>1.174992</td>\n",
              "    </tr>\n",
              "    <tr>\n",
              "      <th>required_car_parking_spaces</th>\n",
              "      <td>-2.784139</td>\n",
              "      <td>-0.001819</td>\n",
              "      <td>0.004256</td>\n",
              "      <td>0.000573</td>\n",
              "      <td>-0.003123</td>\n",
              "      <td>-0.009022</td>\n",
              "      <td>0.001379</td>\n",
              "      <td>0.004031</td>\n",
              "      <td>0.000741</td>\n",
              "      <td>0.002688</td>\n",
              "      <td>-0.004297</td>\n",
              "      <td>0.017380</td>\n",
              "      <td>0.010271</td>\n",
              "      <td>3.656032</td>\n",
              "      <td>0.250527</td>\n",
              "      <td>-0.109984</td>\n",
              "      <td>0.549243</td>\n",
              "      <td>0.048851</td>\n",
              "      <td>0.015719</td>\n",
              "      <td>-0.024966</td>\n",
              "    </tr>\n",
              "    <tr>\n",
              "      <th>total_of_special_requests</th>\n",
              "      <td>-10.539204</td>\n",
              "      <td>0.059268</td>\n",
              "      <td>0.307129</td>\n",
              "      <td>0.052814</td>\n",
              "      <td>0.055560</td>\n",
              "      <td>0.107217</td>\n",
              "      <td>0.049148</td>\n",
              "      <td>0.024988</td>\n",
              "      <td>0.006671</td>\n",
              "      <td>0.002042</td>\n",
              "      <td>-0.040411</td>\n",
              "      <td>0.044476</td>\n",
              "      <td>0.032618</td>\n",
              "      <td>4.272896</td>\n",
              "      <td>-6.607540</td>\n",
              "      <td>-1.254493</td>\n",
              "      <td>6.491401</td>\n",
              "      <td>0.015719</td>\n",
              "      <td>0.601264</td>\n",
              "      <td>-0.094988</td>\n",
              "    </tr>\n",
              "    <tr>\n",
              "      <th>is_canceled</th>\n",
              "      <td>16.265487</td>\n",
              "      <td>0.007057</td>\n",
              "      <td>0.056522</td>\n",
              "      <td>-0.032414</td>\n",
              "      <td>0.000635</td>\n",
              "      <td>0.026803</td>\n",
              "      <td>0.017725</td>\n",
              "      <td>0.001254</td>\n",
              "      <td>-0.001476</td>\n",
              "      <td>-0.007463</td>\n",
              "      <td>0.049494</td>\n",
              "      <td>-0.045988</td>\n",
              "      <td>-0.048633</td>\n",
              "      <td>-4.715104</td>\n",
              "      <td>-2.282511</td>\n",
              "      <td>0.473178</td>\n",
              "      <td>1.174992</td>\n",
              "      <td>-0.024966</td>\n",
              "      <td>-0.094988</td>\n",
              "      <td>0.250004</td>\n",
              "    </tr>\n",
              "  </tbody>\n",
              "</table>\n",
              "</div>\n",
              "      <button class=\"colab-df-convert\" onclick=\"convertToInteractive('df-6a4e124c-a0cd-4850-a6f1-f26d6a8741e5')\"\n",
              "              title=\"Convert this dataframe to an interactive table.\"\n",
              "              style=\"display:none;\">\n",
              "        \n",
              "  <svg xmlns=\"http://www.w3.org/2000/svg\" height=\"24px\"viewBox=\"0 0 24 24\"\n",
              "       width=\"24px\">\n",
              "    <path d=\"M0 0h24v24H0V0z\" fill=\"none\"/>\n",
              "    <path d=\"M18.56 5.44l.94 2.06.94-2.06 2.06-.94-2.06-.94-.94-2.06-.94 2.06-2.06.94zm-11 1L8.5 8.5l.94-2.06 2.06-.94-2.06-.94L8.5 2.5l-.94 2.06-2.06.94zm10 10l.94 2.06.94-2.06 2.06-.94-2.06-.94-.94-2.06-.94 2.06-2.06.94z\"/><path d=\"M17.41 7.96l-1.37-1.37c-.4-.4-.92-.59-1.43-.59-.52 0-1.04.2-1.43.59L10.3 9.45l-7.72 7.72c-.78.78-.78 2.05 0 2.83L4 21.41c.39.39.9.59 1.41.59.51 0 1.02-.2 1.41-.59l7.78-7.78 2.81-2.81c.8-.78.8-2.07 0-2.86zM5.41 20L4 18.59l7.72-7.72 1.47 1.35L5.41 20z\"/>\n",
              "  </svg>\n",
              "      </button>\n",
              "      \n",
              "  <style>\n",
              "    .colab-df-container {\n",
              "      display:flex;\n",
              "      flex-wrap:wrap;\n",
              "      gap: 12px;\n",
              "    }\n",
              "\n",
              "    .colab-df-convert {\n",
              "      background-color: #E8F0FE;\n",
              "      border: none;\n",
              "      border-radius: 50%;\n",
              "      cursor: pointer;\n",
              "      display: none;\n",
              "      fill: #1967D2;\n",
              "      height: 32px;\n",
              "      padding: 0 0 0 0;\n",
              "      width: 32px;\n",
              "    }\n",
              "\n",
              "    .colab-df-convert:hover {\n",
              "      background-color: #E2EBFA;\n",
              "      box-shadow: 0px 1px 2px rgba(60, 64, 67, 0.3), 0px 1px 3px 1px rgba(60, 64, 67, 0.15);\n",
              "      fill: #174EA6;\n",
              "    }\n",
              "\n",
              "    [theme=dark] .colab-df-convert {\n",
              "      background-color: #3B4455;\n",
              "      fill: #D2E3FC;\n",
              "    }\n",
              "\n",
              "    [theme=dark] .colab-df-convert:hover {\n",
              "      background-color: #434B5C;\n",
              "      box-shadow: 0px 1px 3px 1px rgba(0, 0, 0, 0.15);\n",
              "      filter: drop-shadow(0px 1px 2px rgba(0, 0, 0, 0.3));\n",
              "      fill: #FFFFFF;\n",
              "    }\n",
              "  </style>\n",
              "\n",
              "      <script>\n",
              "        const buttonEl =\n",
              "          document.querySelector('#df-6a4e124c-a0cd-4850-a6f1-f26d6a8741e5 button.colab-df-convert');\n",
              "        buttonEl.style.display =\n",
              "          google.colab.kernel.accessAllowed ? 'block' : 'none';\n",
              "\n",
              "        async function convertToInteractive(key) {\n",
              "          const element = document.querySelector('#df-6a4e124c-a0cd-4850-a6f1-f26d6a8741e5');\n",
              "          const dataTable =\n",
              "            await google.colab.kernel.invokeFunction('convertToInteractive',\n",
              "                                                     [key], {});\n",
              "          if (!dataTable) return;\n",
              "\n",
              "          const docLinkHtml = 'Like what you see? Visit the ' +\n",
              "            '<a target=\"_blank\" href=https://colab.research.google.com/notebooks/data_table.ipynb>data table notebook</a>'\n",
              "            + ' to learn more about interactive tables.';\n",
              "          element.innerHTML = '';\n",
              "          dataTable['output_type'] = 'display_data';\n",
              "          await google.colab.output.renderOutput(dataTable, element);\n",
              "          const docLink = document.createElement('div');\n",
              "          docLink.innerHTML = docLinkHtml;\n",
              "          element.appendChild(docLink);\n",
              "        }\n",
              "      </script>\n",
              "    </div>\n",
              "  </div>\n",
              "  "
            ]
          },
          "metadata": {},
          "execution_count": 16
        }
      ]
    },
    {
      "cell_type": "markdown",
      "source": [
        "#Analisis de cada variable:"
      ],
      "metadata": {
        "id": "qXu3RlXVQ9vQ"
      }
    },
    {
      "cell_type": "markdown",
      "source": [
        "**Lead_Time:**\n",
        "* `asociacion casi nula (0<cov<0,1)`:\n",
        "  * positiva: arrival_date_year, arrival_date_week_number, stays_in_weekend_nights, stays_in_week_nights, adults,days_in_waiting_list, is_canceled.\n",
        "  * negativa: arrival_date_day_of_month,children, babies,\n",
        "is_repeated_guest, previous_cancellations, previous_bookings_not_canceled,\n",
        "booking_changes, agent, adr, required_car_parking_spaces,total_of_special_requests.\n",
        "* `asociacion pequeña (0,1<cov<0,3):`\n",
        "  * positiva: company\n",
        "  * negativa: ninguna\n",
        "* `asociacion mediana (0,3<cov<0,5):`\n",
        "  * positiva: ninguna\n",
        "  * negativa: ninguna\n",
        "* `asociacion moderada (0,5<cov<0,7):`\n",
        "  * positiva: ninguna\n",
        "  * negativa: ninguna\n",
        "* `asociacion alta (0,7<cov<0,9):`\n",
        "  * positiva: ninguna\n",
        "  * negativa: ninguna\n",
        "* `asociacion muy alta (cov<0,9):`\n",
        "  * positiva: ninguna\n",
        "  * negativa: ninguna"
      ],
      "metadata": {
        "id": "aHYx18-dUHdn"
      }
    },
    {
      "cell_type": "code",
      "source": [
        "mlt=matriz_correlacion.loc[\"lead_time\"]\n",
        "varianza_lt=np.linalg.norm(mlt)\n",
        "mlt/varianza_lt"
      ],
      "metadata": {
        "colab": {
          "base_uri": "https://localhost:8080/"
        },
        "id": "6ZXruF_DIZFR",
        "outputId": "e92a4788-8d77-460a-a5de-aa52980a1646"
      },
      "execution_count": 18,
      "outputs": [
        {
          "output_type": "execute_result",
          "data": {
            "text/plain": [
              "lead_time                         0.986704\n",
              "arrival_date_year                 0.000146\n",
              "arrival_date_week_number          0.016248\n",
              "arrival_date_day_of_month        -0.000544\n",
              "stays_in_weekend_nights           0.000526\n",
              "stays_in_week_nights              0.002354\n",
              "adults                            0.000582\n",
              "children                         -0.000165\n",
              "babies                           -0.000019\n",
              "is_repeated_guest                -0.000159\n",
              "previous_cancellations            0.000838\n",
              "previous_bookings_not_canceled   -0.000847\n",
              "booking_changes                  -0.000107\n",
              "agent                            -0.077437\n",
              "company                           0.133271\n",
              "days_in_waiting_list              0.027615\n",
              "adr                              -0.040245\n",
              "required_car_parking_spaces      -0.000224\n",
              "total_of_special_requests        -0.000848\n",
              "is_canceled                       0.001309\n",
              "Name: lead_time, dtype: float64"
            ]
          },
          "metadata": {},
          "execution_count": 18
        }
      ]
    },
    {
      "cell_type": "markdown",
      "source": [
        "---\n",
        "#**Arrival_Date_Year:**\n",
        "* `asociacion casi nula (0<cov<0,1):`\n",
        "  * positiva: lead_time, arrival_date_day_of_month,\n",
        "stays_in_weekend_nights,stays_in_week_nights, adults, children, booking_changes, total_of_special_requests, is_canceled.\n",
        "  * negativa: babies, is_repeated_guest, previous_cancellations, days_in_waiting_list, required_car_parking_spaces.\n",
        "\n",
        "* `asociacion pequeña (0,1<cov<0,3):`\n",
        "  * positiva: agent, adr. \n",
        "  * negativa: arrival_date_week_number.\n",
        "* `asociacion mediana (0,3<cov<0,5):`\n",
        "  * positiva: ninguna\n",
        "  * negativa: ninguna\n",
        "* `asociacion moderada (0,5<cov<0,7):`\n",
        "  * positiva: ninguna\n",
        "  * negativa: ninguna \n",
        "* `asociacion alta (0,7<cov<0,9):`\n",
        "  * positiva: company.\n",
        "  * negativa: ninguna\n",
        "* `asociacion muy alta (cov<0,9):`\n",
        "  * positiva: ninguna\n",
        "  * negativa: ninguna\n"
      ],
      "metadata": {
        "id": "ooNI_JF7kIWR"
      }
    },
    {
      "cell_type": "code",
      "source": [
        "m_ady=matriz_correlacion.loc[\"arrival_date_year\"]\n",
        "varianza_ady=np.linalg.norm(m_ady)\n",
        "#varianza_ady=matriz_correlacion.loc[\"arrival_date_year\",\"arrival_date_year\"]\n",
        "m_ady/varianza_ady"
      ],
      "metadata": {
        "colab": {
          "base_uri": "https://localhost:8080/"
        },
        "id": "8AQfn_hcPe0w",
        "outputId": "73fad008-c7bd-4988-b57d-90416da3cff4"
      },
      "execution_count": 19,
      "outputs": [
        {
          "output_type": "execute_result",
          "data": {
            "text/plain": [
              "lead_time                         0.072169\n",
              "arrival_date_year                 0.019915\n",
              "arrival_date_week_number         -0.205547\n",
              "arrival_date_day_of_month         0.000575\n",
              "stays_in_weekend_nights           0.000756\n",
              "stays_in_week_nights              0.002162\n",
              "adults                            0.000440\n",
              "children                          0.000673\n",
              "babies                           -0.000036\n",
              "is_repeated_guest                -0.000021\n",
              "previous_cancellations           -0.003973\n",
              "previous_bookings_not_canceled    0.001064\n",
              "booking_changes                   0.000468\n",
              "agent                             0.250731\n",
              "company                           0.896163\n",
              "days_in_waiting_list             -0.030633\n",
              "adr                               0.291899\n",
              "required_car_parking_spaces      -0.000072\n",
              "total_of_special_requests         0.002352\n",
              "is_canceled                       0.000280\n",
              "Name: arrival_date_year, dtype: float64"
            ]
          },
          "metadata": {},
          "execution_count": 19
        }
      ]
    },
    {
      "cell_type": "markdown",
      "source": [
        "---\n",
        "#**arrival_date_week_number:**\n",
        "* `asociacion casi nula (0< cov <0,1):`\n",
        "  * positiva: arrival_date_day_of_month, stays_in_weekend_nights, \n",
        "stays_in_week_nights, adults, children, babies, previous_cancellations, days_in_waiting_list, required_car_parking_spaces, total_of_special_requests, \n",
        "is_canceled.\n",
        "  * negativa: arrival_date_year, is_repeated_guest, previous_bookings_not_canceled\n",
        "* `asociacion pequeña (0,1< cov <0,3):`\n",
        "  * positiva: adr\n",
        "  * negativa: agent, company   \n",
        "* `asociacion mediana (0,3 <cov< 0,5):`\n",
        "  * positiva: ninguna.\n",
        "  * negativa: ninguna.\n",
        "* `asociacion moderada (0,5 <cov< 0,7):`\n",
        "  * positiva: lead_time\n",
        "  * negativa: ninguna.\n",
        "* `asociacion alta (0,7 <cov< 0,9):`\n",
        "  * positiva: ninguna.\n",
        "  * negativa: ninguna.\n",
        "* `asociacion muy alta (cov< 0,9):`\n",
        "  * positiva: ninguna.\n",
        "  * negativa: ninguna."
      ],
      "metadata": {
        "id": "SkHGonWxkTMx"
      }
    },
    {
      "cell_type": "code",
      "source": [
        "m_adwn=matriz_correlacion.loc[\"arrival_date_week_number\"]\n",
        "varianza_adwn=np.linalg.norm(m_adwn)\n",
        "#varianza_adwn=matriz_correlacion.loc[\"arrival_date_year\",\"arrival_date_year\"]\n",
        "m_adwn/varianza_adwn"
      ],
      "metadata": {
        "colab": {
          "base_uri": "https://localhost:8080/"
        },
        "id": "qebiTAKXWJD6",
        "outputId": "6a06e458-a05c-4249-c0a0-e35453abc760"
      },
      "execution_count": 20,
      "outputs": [
        {
          "output_type": "execute_result",
          "data": {
            "text/plain": [
              "lead_time                         0.682503\n",
              "arrival_date_year                -0.017511\n",
              "arrival_date_week_number          0.618568\n",
              "arrival_date_day_of_month         0.023221\n",
              "stays_in_weekend_nights           0.000642\n",
              "stays_in_week_nights              0.001052\n",
              "adults                            0.000697\n",
              "children                          0.000117\n",
              "babies                            0.000068\n",
              "is_repeated_guest                -0.000166\n",
              "previous_cancellations            0.002069\n",
              "previous_bookings_not_canceled   -0.001526\n",
              "booking_changes                   0.000337\n",
              "agent                            -0.215498\n",
              "company                          -0.277235\n",
              "days_in_waiting_list              0.016458\n",
              "adr                               0.164737\n",
              "required_car_parking_spaces       0.000014\n",
              "total_of_special_requests         0.001038\n",
              "is_canceled                       0.000191\n",
              "Name: arrival_date_week_number, dtype: float64"
            ]
          },
          "metadata": {},
          "execution_count": 20
        }
      ]
    },
    {
      "cell_type": "markdown",
      "source": [
        "---\n",
        "#**arrival_date_day_of_month**\n",
        "* `asociacion casi nula (0< cov <0,1):`\n",
        "  * positiva: arrival_date_year, arrival_date_week_number, adults, children, babies, days_in_waiting_list, required_car_parking_spaces,\n",
        "total_of_special_requests.\n",
        "  * negativa: lead_time, stays_in_weekend_nights, stays_in_week_nights, is_repeated_guest, previous_cancellations, previous_bookings_not_canceled, is_canceled.\n",
        "* `asociacion pequeña (0,1< cov <0,3):`\n",
        "  * positiva: adr\n",
        "  * negativa: ninguna.\n",
        "* `asociacion mediana (0,3 <cov< 0,5):`\n",
        "  * positiva: ninguna. \n",
        "  * negativa: ninguna.\n",
        "* `asociacion moderada (0,5 <cov< 0,7):`\n",
        "  * positiva: company\n",
        "  * negativa: ninguna.\n",
        "* `asociacion alta (0,7 <cov< 0,9):`\n",
        "  * positiva: arrival_date_day_of_month.\n",
        "  * negativa: ninguna.\n",
        "* `asociacion muy alta (cov< 0,9):`\n",
        "  * positiva: ninguna.\n",
        "  * negativa: ninguna."
      ],
      "metadata": {
        "id": "7BGi7Pt5opBz"
      }
    },
    {
      "cell_type": "code",
      "source": [
        "m_addm=matriz_correlacion.loc[\"arrival_date_day_of_month\"]\n",
        "varianza_addm=np.linalg.norm(m_addm)\n",
        "#varianza_addm=matriz_correlacion.loc[\"arrival_date_day_of_month\",\"arrival_date_day_of_month\"]\n",
        "m_addm/varianza_addm"
      ],
      "metadata": {
        "colab": {
          "base_uri": "https://localhost:8080/"
        },
        "id": "cFnLoRKQaI8k",
        "outputId": "4e8ae8d0-e41c-4886-ef46-9bb365b7ff34"
      },
      "execution_count": 21,
      "outputs": [
        {
          "output_type": "execute_result",
          "data": {
            "text/plain": [
              "lead_time                        -0.070365\n",
              "arrival_date_year                 0.000151\n",
              "arrival_date_week_number          0.071538\n",
              "arrival_date_day_of_month         0.805796\n",
              "stays_in_weekend_nights          -0.001412\n",
              "stays_in_week_nights             -0.004567\n",
              "adults                            0.000132\n",
              "children                          0.000517\n",
              "babies                            0.000022\n",
              "is_repeated_guest                -0.000079\n",
              "previous_cancellations           -0.003142\n",
              "previous_bookings_not_canceled   -0.000259\n",
              "booking_changes                   0.000533\n",
              "agent                             0.026138\n",
              "company                           0.562078\n",
              "days_in_waiting_list              0.047342\n",
              "adr                               0.147425\n",
              "required_car_parking_spaces       0.000006\n",
              "total_of_special_requests         0.000550\n",
              "is_canceled                      -0.000338\n",
              "Name: arrival_date_day_of_month, dtype: float64"
            ]
          },
          "metadata": {},
          "execution_count": 21
        }
      ]
    },
    {
      "cell_type": "markdown",
      "source": [
        "---\n",
        "#**stays_in_weekend_nights:**\n",
        "* `asociacion casi nula (0< cov <0,1):`\n",
        "  * positiva: arrival_date_year, arrival_date_week_number, stays_in_weekend_nights, stays_in_week_nights,adults, children, babies, \n",
        "booking_changes, total_of_special_requests, is_canceled.\n",
        "  * negativa: arrival_date_day_of_month, is_repeated_guest, \n",
        "previous_cancellations, previous_bookings_not_canceled, days_in_waiting_list, required_car_parking_spaces.\n",
        "* `asociacion pequeña (0,1< cov <0,3):`\n",
        "  * positiva: adr.\n",
        "  * negativa: ninguna.\n",
        "* `asociacion mediana (0,3 <cov< 0,5):`\n",
        "  * positiva: lead_time, company. \n",
        "  * negativa: ninguna.\n",
        "* `asociacion moderada (0,5 <cov< 0,7):`\n",
        "  * positiva: agent\n",
        "  * negativa: ninguna.\n",
        "* `asociacion alta (0,7 <cov< 0,9):`\n",
        "  * positiva:\n",
        "  * negativa: ninguna.\n",
        "* `asociacion muy alta (cov< 0,9):`\n",
        "  * positiva: ninguna.\n",
        "  * negativa: ninguna."
      ],
      "metadata": {
        "id": "e12nv92krhZ2"
      }
    },
    {
      "cell_type": "code",
      "source": [
        "m_siwn=matriz_correlacion.loc[\"stays_in_weekend_nights\"]\n",
        "varianza_siwn=np.linalg.norm(m_siwn)\n",
        "#varianza_siwn=matriz_correlacion.loc[\"stays_in_weekend_nights\",\"stays_in_weekend_nights\"]\n",
        "m_siwn/varianza_siwn"
      ],
      "metadata": {
        "colab": {
          "base_uri": "https://localhost:8080/"
        },
        "id": "rE5FZRpPcANx",
        "outputId": "8ab6344b-52fc-4def-fd66-2c1ae3b994d9"
      },
      "execution_count": 22,
      "outputs": [
        {
          "output_type": "execute_result",
          "data": {
            "text/plain": [
              "lead_time                         0.338659\n",
              "arrival_date_year                 0.000986\n",
              "arrival_date_week_number          0.009829\n",
              "arrival_date_day_of_month        -0.007021\n",
              "stays_in_weekend_nights           0.051085\n",
              "stays_in_week_nights              0.047385\n",
              "adults                            0.002527\n",
              "children                          0.001077\n",
              "babies                            0.000104\n",
              "is_repeated_guest                -0.000682\n",
              "previous_cancellations           -0.000568\n",
              "previous_bookings_not_canceled   -0.002726\n",
              "booking_changes                   0.001374\n",
              "agent                             0.858375\n",
              "company                           0.343343\n",
              "days_in_waiting_list             -0.055080\n",
              "adr                               0.150189\n",
              "required_car_parking_spaces      -0.000162\n",
              "total_of_special_requests         0.002878\n",
              "is_canceled                       0.000033\n",
              "Name: stays_in_weekend_nights, dtype: float64"
            ]
          },
          "metadata": {},
          "execution_count": 22
        }
      ]
    },
    {
      "cell_type": "markdown",
      "source": [
        "---\n",
        "# **adults:**\n",
        "* `asociacion casi nula (0<cov<0,1)`\n",
        "  * positiva: arrival_date_year, arrival_date_week_number,\n",
        "arrival_date_day_of_month,stays_in_weekend_nights,\n",
        "stays_in_week_nights,children, babies, required_car_parking_spaces, total_of_special_requests, \n",
        "is_canceled.\n",
        "  * negativa: is_repeated_guest, previous_cancellations,\n",
        "previous_bookings_not_canceled, booking_changes, days_in_waiting_list.\n",
        "* `asociacion pequeña (0,1<cov<0,3):`\n",
        "  * positiva: ninguna.\n",
        "  * negativa: ninguna.\n",
        "* `asociacion mediana (0,3<cov<0,5):`\n",
        "  * positiva: lead_time, adr.\n",
        "  * negativa: ninguna.\n",
        "* `asociacion moderada (0,5<cov<0,7):`\n",
        "  * positiva: ninguna.\n",
        "  * negativa: ninguna.\n",
        "* `asociacion alta (0,7<cov<0,9):`\n",
        "  * positiva: company\n",
        "  * negativa: ninguna.\n",
        "* `asociacion muy alta (cov<0,9):`\n",
        "  * positiva: ninguna.\n",
        "  * negativa: ninguna."
      ],
      "metadata": {
        "id": "Dn71-qt7XO0u"
      }
    },
    {
      "cell_type": "code",
      "source": [
        "m_ad=matriz_correlacion.loc[\"adults\"]\n",
        "varianza_ad=np.linalg.norm(m_ad)\n",
        "#varianza_ad=matriz_correlacion.loc[\"adults\",\"adults\"]\n",
        "m_ad/varianza_ad"
      ],
      "metadata": {
        "colab": {
          "base_uri": "https://localhost:8080/"
        },
        "id": "fEbxtXpdCviP",
        "outputId": "6253b1be-7022-4b8a-821c-a474b2203973"
      },
      "execution_count": 23,
      "outputs": [
        {
          "output_type": "execute_result",
          "data": {
            "text/plain": [
              "lead_time                         0.481039\n",
              "arrival_date_year                 0.000737\n",
              "arrival_date_week_number          0.013712\n",
              "arrival_date_day_of_month         0.000843\n",
              "stays_in_weekend_nights           0.003243\n",
              "stays_in_week_nights              0.006495\n",
              "adults                            0.023069\n",
              "children                          0.000461\n",
              "babies                            0.000053\n",
              "is_repeated_guest                -0.000835\n",
              "previous_cancellations           -0.000124\n",
              "previous_bookings_not_canceled   -0.005299\n",
              "booking_changes                  -0.001085\n",
              "agent                            -0.109281\n",
              "company                           0.764277\n",
              "days_in_waiting_list             -0.006869\n",
              "adr                               0.414339\n",
              "required_car_parking_spaces       0.000092\n",
              "total_of_special_requests         0.003267\n",
              "is_canceled                       0.001178\n",
              "Name: adults, dtype: float64"
            ]
          },
          "metadata": {},
          "execution_count": 23
        }
      ]
    },
    {
      "cell_type": "markdown",
      "source": [
        "---\n",
        "# **children**\n",
        "* `asociacion casi nula (0<cov<0,1):`\n",
        "  * positiva: arrival_date_year, arrival_date_week_number, \n",
        "arrival_date_day_of_month, stays_in_weekend_nights,\n",
        "stays_in_week_nights, adults, children, babies, booking_changes, company, required_car_parking_spaces,\n",
        "total_of_special_requests, is_canceled.\n",
        "  * negativa: is_repeated_guest, previous_cancellations, \n",
        "previous_bookings_not_canceled, days_in_waiting_list.\n",
        "* `asociacion pequeña (0,1<cov<0,3):`\n",
        "  * positiva: ninguna.\n",
        "  * negativa: lead_time.\n",
        "* `asociacion mediana (0,3<cov<0,5):`\n",
        "  * positiva: agent.\n",
        "  * negativa: ninguna.\n",
        "* `asociacion moderada (0,5<cov<0,7):`\n",
        "  * positiva: ninguna.\n",
        "  * negativa: ninguna.\n",
        "* `asociacion alta (0,7<cov<0,9):`\n",
        "  * positiva: ninguna.\n",
        "  * negativa: ninguna.\n",
        "* `asociacion muy alta (cov<0,9):`\n",
        "  * positiva: days_in_waiting_list.\n",
        "  * negativa: ninguna.\n",
        "\n"
      ],
      "metadata": {
        "id": "ympivQk3JjeV"
      }
    },
    {
      "cell_type": "code",
      "source": [
        "m_ch=matriz_correlacion.loc[\"children\"]\n",
        "varianza_ch=np.linalg.norm(m_ch)\n",
        "#varianza_ch=matriz_correlacion.loc[\"children\",\"children\"]\n",
        "m_ch/varianza_ch"
      ],
      "metadata": {
        "colab": {
          "base_uri": "https://localhost:8080/"
        },
        "id": "wYVAlm5FLPOp",
        "outputId": "1b85e042-4cc9-4b32-ab0c-d96813ce644d"
      },
      "execution_count": 24,
      "outputs": [
        {
          "output_type": "execute_result",
          "data": {
            "text/plain": [
              "lead_time                        -0.272266\n",
              "arrival_date_year                 0.002249\n",
              "arrival_date_week_number          0.004587\n",
              "arrival_date_day_of_month         0.006581\n",
              "stays_in_weekend_nights           0.002758\n",
              "stays_in_week_nights              0.005867\n",
              "adults                            0.000919\n",
              "children                          0.021516\n",
              "babies                            0.000142\n",
              "is_repeated_guest                -0.000263\n",
              "previous_cancellations           -0.001449\n",
              "previous_bookings_not_canceled   -0.001468\n",
              "booking_changes                   0.001920\n",
              "agent                             0.339863\n",
              "company                           0.096313\n",
              "days_in_waiting_list             -0.035282\n",
              "adr                               0.894007\n",
              "required_car_parking_spaces       0.000534\n",
              "total_of_special_requests         0.003313\n",
              "is_canceled                       0.000166\n",
              "Name: children, dtype: float64"
            ]
          },
          "metadata": {},
          "execution_count": 24
        }
      ]
    },
    {
      "cell_type": "markdown",
      "source": [
        "---\n",
        "# **babies**\n",
        "* `asociacion casi nula (0<cov<0,1):`\n",
        "  * positiva: arrival_date_year, arrival_date_week_number, \n",
        "arrival_date_day_of_month, stays_in_weekend_nights,\n",
        "stays_in_week_nights, adults, children, babies, booking_changes, company, required_car_parking_spaces,\n",
        "total_of_special_requests, is_canceled. \n",
        "  * negativa: is_repeated_guest, previous_cancellations, \n",
        "previous_bookings_not_canceled, days_in_waiting_list.\n",
        "* `asociacion pequeña (0,1<cov<0,3):`\n",
        "  * positiva: ninguna.\n",
        "  * negativa: lead_time, \n",
        "* `asociacion mediana (0,3<cov<0,5):`\n",
        "  * positiva: agent\n",
        "  * negativa: ninguna.\n",
        "* `asociacion moderada (0,5<cov<0,7):`\n",
        "  * positiva: ninguna.\n",
        "  * negativa: ninguna.\n",
        "* `asociacion alta (0,7<cov<0,9):`\n",
        "  * positiva: ninguna.\n",
        "  * negativa: ninguna.\n",
        "* `asociacion muy alta (cov<0,9):`\n",
        "  * positiva: adr\n",
        "  * negativa: ninguna.\n",
        "\n"
      ],
      "metadata": {
        "id": "geHyJML-LVb9"
      }
    },
    {
      "cell_type": "code",
      "source": [
        "m_b=matriz_correlacion.loc[\"babies\"]\n",
        "varianza_b=np.linalg.norm(m_b)\n",
        "#varianza_b=matriz_correlacion.loc[\"babies\",\"babies\"]\n",
        "m_b/varianza_b"
      ],
      "metadata": {
        "colab": {
          "base_uri": "https://localhost:8080/"
        },
        "id": "g_-VbNjlOtu2",
        "outputId": "10d90311-bba5-4c12-b536-5693cb7d136b"
      },
      "execution_count": 25,
      "outputs": [
        {
          "output_type": "execute_result",
          "data": {
            "text/plain": [
              "lead_time                        -0.464247\n",
              "arrival_date_year                -0.001785\n",
              "arrival_date_week_number          0.040207\n",
              "arrival_date_day_of_month         0.004141\n",
              "stays_in_weekend_nights           0.004004\n",
              "stays_in_week_nights              0.007391\n",
              "adults                            0.001600\n",
              "children                          0.002138\n",
              "babies                            0.016895\n",
              "is_repeated_guest                -0.000270\n",
              "previous_cancellations           -0.001409\n",
              "previous_bookings_not_canceled   -0.001482\n",
              "booking_changes                   0.009870\n",
              "agent                             0.732025\n",
              "company                           0.397133\n",
              "days_in_waiting_list             -0.037080\n",
              "adr                               0.295359\n",
              "required_car_parking_spaces       0.001474\n",
              "total_of_special_requests         0.013270\n",
              "is_canceled                      -0.002936\n",
              "Name: babies, dtype: float64"
            ]
          },
          "metadata": {},
          "execution_count": 25
        }
      ]
    },
    {
      "cell_type": "markdown",
      "source": [
        "---\n",
        "# **previous_cancellations**\n",
        "* `asociacion casi nula (0<cov<0,1):`\n",
        "  * positiva: arrival_date_week_number, is_repeated_guest, previous_cancellations, previous_bookings_not_canceled, days_in_waiting_list, is_canceled.\n",
        "  * negativa: arrival_date_year, arrival_date_day_of_month, stays_in_weekend_nights, stays_in_week_nights, adults, \n",
        "children, babies, booking_changes, agent,adr ,required_car_parking_spaces,\n",
        "total_of_special_requests.\n",
        "* `asociacion pequeña (0,1<cov<0,3):`\n",
        "  * positiva: adr.\n",
        "  * negativa: ninguna\n",
        "* `asociacion mediana (0,3<cov<0,5):`\n",
        "  * positiva: lead_time. \n",
        "  * negativa: ninguna.\n",
        "* `asociacion moderada (0,5<cov<0,7):`\n",
        "  * positiva: ninguna.\n",
        "  * negativa: ninguna.\n",
        "* `asociacion alta (0,7<cov<0,9):`\n",
        "  * positiva: ninguna.\n",
        "  * negativa: company.\n",
        "* `asociacion muy alta (cov<0,9):`\n",
        "  * positiva: ninguna.\n",
        "  * negativa: ninguna."
      ],
      "metadata": {
        "id": "23b9AFi8ZhP-"
      }
    },
    {
      "cell_type": "code",
      "source": [
        "m_pc=matriz_correlacion.loc[\"previous_cancellations\"]\n",
        "varianza_pc=np.linalg.norm(m_pc)\n",
        "#varianza_pc=matriz_correlacion.loc[\"previous_cancellations\",\"previous_cancellations\"]\n",
        "m_pc/varianza_pc"
      ],
      "metadata": {
        "colab": {
          "base_uri": "https://localhost:8080/"
        },
        "outputId": "2f501a62-cb60-4fca-a8d2-b6f65ced74c6",
        "id": "9EI1xAaaYQu8"
      },
      "execution_count": 26,
      "outputs": [
        {
          "output_type": "execute_result",
          "data": {
            "text/plain": [
              "lead_time                         0.540166\n",
              "arrival_date_year                -0.005194\n",
              "arrival_date_week_number          0.031749\n",
              "arrival_date_day_of_month        -0.015651\n",
              "stays_in_weekend_nights          -0.000569\n",
              "stays_in_week_nights             -0.001304\n",
              "adults                           -0.000097\n",
              "children                         -0.000567\n",
              "babies                           -0.000037\n",
              "is_repeated_guest                 0.000646\n",
              "previous_cancellations            0.051230\n",
              "previous_bookings_not_canceled    0.009432\n",
              "booking_changes                  -0.000931\n",
              "agent                            -0.050431\n",
              "company                          -0.814046\n",
              "days_in_waiting_list              0.003916\n",
              "adr                              -0.197441\n",
              "required_car_parking_spaces      -0.000223\n",
              "total_of_special_requests        -0.002097\n",
              "is_canceled                       0.002568\n",
              "Name: previous_cancellations, dtype: float64"
            ]
          },
          "metadata": {},
          "execution_count": 26
        }
      ]
    },
    {
      "cell_type": "markdown",
      "source": [
        "---\n",
        "# **previous_bookings_not_canceled**\n",
        "* `asociacion casi nula (0<cov<0,1):`\n",
        "  * positiva: arrival_date_year, is_repeated_guest, previous_cancellations, \n",
        "previous_bookings_not_canceled, booking_changes, agent, required_car_parking_spaces, total_of_special_requests .\n",
        "  * negativa: lead_time, arrival_date_week_number, arrival_date_day_of_month, \n",
        "stays_in_weekend_nights, stays_in_week_nights, adults, children, babies, \n",
        "days_in_waiting_list, adr, is_canceled.\n",
        "* `asociacion pequeña (0,1<cov<0,3):`\n",
        "  * positiva: ninguna.\n",
        "  * negativa: ninguna.\n",
        "* `asociacion mediana (0,3<cov<0,5):`\n",
        "  * positiva: ninguna.\n",
        "  * negativa: ninguna.\n",
        "* `asociacion moderada (0,5<cov<0,7):`\n",
        "  * positiva: ninguna.\n",
        "  * negativa: ninguna.\n",
        "* `asociacion alta (0,7<cov<0,9):`\n",
        "  * positiva: ninguna.\n",
        "  * negativa: ninguna.\n",
        "* `asociacion muy alta (cov<0,9):`\n",
        "  * positiva: ninguna.\n",
        "  * negativa: company"
      ],
      "metadata": {
        "id": "Q2C5P8F-Z6tj"
      }
    },
    {
      "cell_type": "code",
      "source": [
        "m_pbnc=matriz_correlacion.loc[\"previous_bookings_not_canceled\"]\n",
        "varianza_pbnc=np.linalg.norm(m_pbnc)\n",
        "#varianza_pbnc=matriz_correlacion.loc[\"previous_bookings_not_canceled\",\"previous_bookings_not_canceled\"]\n",
        "m_pbnc/varianza_pbnc"
      ],
      "metadata": {
        "colab": {
          "base_uri": "https://localhost:8080/"
        },
        "outputId": "bd7aba2c-075f-488c-bfaf-92ef1a95daa8",
        "id": "qW3-szGiYmO0"
      },
      "execution_count": 27,
      "outputs": [
        {
          "output_type": "execute_result",
          "data": {
            "text/plain": [
              "lead_time                        -0.073503\n",
              "arrival_date_year                 0.000187\n",
              "arrival_date_week_number         -0.003151\n",
              "arrival_date_day_of_month        -0.000174\n",
              "stays_in_weekend_nights          -0.000367\n",
              "stays_in_week_nights             -0.000830\n",
              "adults                           -0.000556\n",
              "children                         -0.000077\n",
              "babies                           -0.000005\n",
              "is_repeated_guest                 0.000653\n",
              "previous_cancellations            0.001269\n",
              "previous_bookings_not_canceled    0.013612\n",
              "booking_changes                   0.000076\n",
              "agent                             0.007039\n",
              "company                          -0.996670\n",
              "days_in_waiting_list             -0.001579\n",
              "adr                              -0.031554\n",
              "required_car_parking_spaces       0.000121\n",
              "total_of_special_requests         0.000310\n",
              "is_canceled                      -0.000321\n",
              "Name: previous_bookings_not_canceled, dtype: float64"
            ]
          },
          "metadata": {},
          "execution_count": 27
        }
      ]
    },
    {
      "cell_type": "markdown",
      "source": [
        "---\n",
        "# **booking_changes**\n",
        "* `asociacion casi nula (0<cov<0,1):`\n",
        "  * positiva: arrival_date_year, arrival_date_week_number, arrival_date_day_of_month, stays_in_weekend_nights, stays_in_week_nights, children, babies, is_repeated_guest, previous_bookings_not_canceled, booking_changes, adr, required_car_parking_spaces, total_of_special_requests.\n",
        "  * negativa: lead_time, adults, previous_cancellations, days_in_waiting_list,\n",
        "is_canceled.\n",
        "* `asociacion pequeña (0,1<cov<0,3):`\n",
        "  * positiva: agent.\n",
        "  * negativa: ninguna.\n",
        "* `asociacion mediana (0,3<cov<0,5):`\n",
        "  * positiva: ninguna.\n",
        "  * negativa: ninguna.\n",
        "* `asociacion moderada (0,5<cov<0,7):`\n",
        "  * positiva: ninguna.\n",
        "  * negativa: ninguna.\n",
        "* `asociacion alta (0,7<cov<0,9):`\n",
        "  * positiva: ninguna.\n",
        "  * negativa: ninguna.\n",
        "* `asociacion muy alta (cov<0,9):`\n",
        "  * positiva: company\n",
        "  * negativa: ninguna.\n",
        "\n",
        "\n",
        "\n",
        "\n",
        "\n",
        "\n",
        "\n",
        "\n",
        "\n",
        "\n",
        "\n"
      ],
      "metadata": {
        "id": "erMqzsjRQF5U"
      }
    },
    {
      "cell_type": "code",
      "source": [
        "m_bch=matriz_correlacion.loc[\"booking_changes\"]\n",
        "varianza_bch=np.linalg.norm(m_bch)\n",
        "#varianza_bch=matriz_correlacion.loc[\"booking_changes\",\"booking_changes\"]\n",
        "m_bch/varianza_bch"
      ],
      "metadata": {
        "colab": {
          "base_uri": "https://localhost:8080/"
        },
        "id": "Ih5Nk4MdSAtH",
        "outputId": "c89cf52c-7804-42cf-aa04-bd5b30a45a6e"
      },
      "execution_count": 28,
      "outputs": [
        {
          "output_type": "execute_result",
          "data": {
            "text/plain": [
              "lead_time                        -0.078904\n",
              "arrival_date_year                 0.000698\n",
              "arrival_date_week_number          0.005903\n",
              "arrival_date_day_of_month         0.003024\n",
              "stays_in_weekend_nights           0.001569\n",
              "stays_in_week_nights              0.004771\n",
              "adults                           -0.000965\n",
              "children                          0.000856\n",
              "babies                            0.000293\n",
              "is_repeated_guest                 0.000050\n",
              "previous_cancellations           -0.001061\n",
              "previous_bookings_not_canceled    0.000644\n",
              "booking_changes                   0.022046\n",
              "agent                             0.272419\n",
              "company                           0.957247\n",
              "days_in_waiting_list             -0.009900\n",
              "adr                               0.050702\n",
              "required_car_parking_spaces       0.000608\n",
              "total_of_special_requests         0.001929\n",
              "is_canceled                      -0.002876\n",
              "Name: booking_changes, dtype: float64"
            ]
          },
          "metadata": {},
          "execution_count": 28
        }
      ]
    },
    {
      "cell_type": "markdown",
      "source": [
        "---\n",
        "#**agent**\n",
        "* `asociacion casi nula (0<cov<0,1):`\n",
        "  * positiva: arrival_date_year, arrival_date_day_of_month, stays_in_weekend_nights, stays_in_week_nights, children, \n",
        "babies, is_repeated_guest, previous_bookings_not_canceled, booking_changes, \n",
        "required_car_parking_spaces, total_of_special_requests.\n",
        "  * negativa: lead_time, arrival_date_week_number, adults, previous_cancellations, days_in_waiting_list, adr, is_canceled.\n",
        "* `asociacion pequeña (0,1<cov<0,3):`\n",
        "  * positiva: ninguna.\n",
        "  * negativa: ninguna.\n",
        "* `asociacion mediana (0,3<cov<0,5):`\n",
        "  * positiva: company\n",
        "  * negativa: ninguna.\n",
        "* `asociacion moderada (0,5<cov<0,7):`\n",
        "  * positiva: ninguna.\n",
        "  * negativa: ninguna.\n",
        "* `asociacion alta (0,7<cov<0,9):`\n",
        "  * positiva: ninguna.\n",
        "  * negativa: ninguna.\n",
        "* `asociacion muy alta (cov<0,9):`\n",
        "  * positiva: agent\n",
        "  * negativa: ninguna."
      ],
      "metadata": {
        "id": "fqpGVnMDR1sh"
      }
    },
    {
      "cell_type": "code",
      "source": [
        "m_ag=matriz_correlacion.loc[\"agent\"]\n",
        "varianza_ag=np.linalg.norm(m_ag)\n",
        "#varianza_pbnc=matriz_correlacion.loc[\"agent\",\"agent\"]\n",
        "m_ag/varianza_ag"
      ],
      "metadata": {
        "colab": {
          "base_uri": "https://localhost:8080/"
        },
        "id": "_Vf9LmIWSWbC",
        "outputId": "cf15bab9-a1a6-4b83-f9c5-4793fcf78484"
      },
      "execution_count": 29,
      "outputs": [
        {
          "output_type": "execute_result",
          "data": {
            "text/plain": [
              "lead_time                        -0.072257\n",
              "arrival_date_year                 0.000475\n",
              "arrival_date_week_number         -0.004787\n",
              "arrival_date_day_of_month         0.000188\n",
              "stays_in_weekend_nights           0.001245\n",
              "stays_in_week_nights              0.003079\n",
              "adults                           -0.000123\n",
              "children                          0.000193\n",
              "babies                            0.000028\n",
              "is_repeated_guest                 0.000018\n",
              "previous_cancellations           -0.000073\n",
              "previous_bookings_not_canceled    0.000076\n",
              "booking_changes                   0.000346\n",
              "agent                             0.900937\n",
              "company                           0.427734\n",
              "days_in_waiting_list             -0.010016\n",
              "adr                              -0.000440\n",
              "required_car_parking_spaces       0.000275\n",
              "total_of_special_requests         0.000321\n",
              "is_canceled                      -0.000354\n",
              "Name: agent, dtype: float64"
            ]
          },
          "metadata": {},
          "execution_count": 29
        }
      ]
    },
    {
      "cell_type": "markdown",
      "source": [
        "---\n",
        "#**days_in_waiting_list**\n",
        "\n",
        "* `asociacion casi nula (0<cov<0,1):`\n",
        "  * positiva: arrival_date_week_number, arrival_date_day_of_month, \n",
        "previous_cancellations, is_canceled.\n",
        "  * negativa: arrival_date_year, stays_in_weekend_nights, \n",
        "stays_in_week_nights, adults, children, babies, \n",
        "is_repeated_guest, previous_bookings_not_canceled, booking_changes, \n",
        "company, adr, required_car_parking_spaces, total_of_special_requests.\n",
        "* `asociacion pequeña (0,1<cov<0,3):`\n",
        "  * positiva: ninguna.\n",
        "  * negativa: agent\n",
        "* `asociacion mediana (0,3<cov<0,5):`\n",
        "  * positiva: ninguna.\n",
        "  * negativa: ninguna.\n",
        "* `asociacion moderada (0,5<cov<0,7):`\n",
        "  * positiva: lead_time, days_in_waiting_list\n",
        "  * negativa: ninguna.\n",
        "* `asociacion alta (0,7<cov<0,9):`\n",
        "  * positiva: ninguna.\n",
        "  * negativa: ninguna.\n",
        "* `asociacion muy alta (cov<0,9):`\n",
        "  * positiva: ninguna.\n",
        "  * negativa: ninguna."
      ],
      "metadata": {
        "id": "wFNg2u5ofNw9"
      }
    },
    {
      "cell_type": "code",
      "source": [
        "m_diwl=matriz_correlacion.loc[\"days_in_waiting_list\"]\n",
        "varianza_diwl=np.linalg.norm(m_diwl)\n",
        "#varianza_adr=matriz_correlacion.loc[\"days_in_waiting_list\",\"days_in_waiting_list\"]\n",
        "m_diwl/varianza_diwl"
      ],
      "metadata": {
        "colab": {
          "base_uri": "https://localhost:8080/"
        },
        "id": "I3EhqE86fOtb",
        "outputId": "6f88f496-6124-4065-e039-7d616ec3018f"
      },
      "execution_count": 30,
      "outputs": [
        {
          "output_type": "execute_result",
          "data": {
            "text/plain": [
              "lead_time                         0.676263\n",
              "arrival_date_year                -0.001522\n",
              "arrival_date_week_number          0.009595\n",
              "arrival_date_day_of_month         0.008959\n",
              "stays_in_weekend_nights          -0.002096\n",
              "stays_in_week_nights             -0.000286\n",
              "adults                           -0.000204\n",
              "children                         -0.000525\n",
              "babies                           -0.000037\n",
              "is_repeated_guest                -0.000132\n",
              "previous_cancellations            0.000149\n",
              "previous_bookings_not_canceled   -0.000446\n",
              "booking_changes                  -0.000330\n",
              "agent                            -0.262863\n",
              "company                          -0.008166\n",
              "days_in_waiting_list              0.683350\n",
              "adr                              -0.079694\n",
              "required_car_parking_spaces      -0.000217\n",
              "total_of_special_requests        -0.002473\n",
              "is_canceled                       0.000933\n",
              "Name: days_in_waiting_list, dtype: float64"
            ]
          },
          "metadata": {},
          "execution_count": 30
        }
      ]
    },
    {
      "cell_type": "markdown",
      "source": [
        "---\n",
        "#**adr**\n",
        "* `asociacion casi nula (0<cov<0,1):`\n",
        "  * positiva: arrival_date_year, arrival_date_week_number, arrival_date_day_of_month, stays_in_weekend_nights, stays_in_week_nights, adults, children, babies, booking_changes, required_car_parking_spaces, \n",
        "total_of_special_requests, is_canceled.\n",
        "  * negativa: is_repeated_guest, previous_cancellations, previous_bookings_not_canceled, agent, days_in_waiting_list.\n",
        "* `asociacion pequeña (0,1<cov<0,3):`\n",
        "  * positiva: company\n",
        "  * negativa: lead_time\n",
        "* `asociacion mediana (0,3<cov<0,5):`\n",
        "  * positiva: ninguna.\n",
        "  * negativa: ninguna.\n",
        "* `asociacion moderada (0,5<cov<0,7):`\n",
        "  * positiva: ninguna.\n",
        "  * negativa: ninguna.\n",
        "* `asociacion alta (0,7<cov<0,9):`\n",
        "  * positiva: ninguna.\n",
        "  * negativa: ninguna.\n",
        "* `asociacion muy alta (cov<0,9):`\n",
        "  * positiva: adr\n",
        "  * negativa: ninguna."
      ],
      "metadata": {
        "id": "3tZ8YobWeYon"
      }
    },
    {
      "cell_type": "code",
      "source": [
        "m_adr=matriz_correlacion.loc[\"adr\"]\n",
        "varianza_adr=np.linalg.norm(m_adr)\n",
        "#varianza_adr=matriz_correlacion.loc[\"adr\",\"adr\"]\n",
        "m_adr/varianza_adr"
      ],
      "metadata": {
        "colab": {
          "base_uri": "https://localhost:8080/"
        },
        "id": "maSknrN1eVEe",
        "outputId": "f4759b01-184a-4062-f58f-7c34940d6734"
      },
      "execution_count": null,
      "outputs": [
        {
          "output_type": "execute_result",
          "data": {
            "text/plain": [
              "lead_time                        -0.211535\n",
              "arrival_date_year                 0.003112\n",
              "arrival_date_week_number          0.020614\n",
              "arrival_date_day_of_month         0.005988\n",
              "stays_in_weekend_nights           0.001227\n",
              "stays_in_week_nights              0.003158\n",
              "adults                            0.002637\n",
              "children                          0.002853\n",
              "babies                            0.000063\n",
              "is_repeated_guest                -0.000441\n",
              "previous_cancellations           -0.001610\n",
              "previous_bookings_not_canceled   -0.001912\n",
              "booking_changes                   0.000363\n",
              "agent                            -0.002478\n",
              "company                           0.152711\n",
              "days_in_waiting_list             -0.017105\n",
              "adr                               0.964947\n",
              "required_car_parking_spaces       0.000232\n",
              "total_of_special_requests         0.002746\n",
              "is_canceled                       0.000497\n",
              "Name: adr, dtype: float64"
            ]
          },
          "metadata": {},
          "execution_count": 56
        }
      ]
    },
    {
      "cell_type": "markdown",
      "source": [
        "---\n",
        "#**required_car_parking_spaces**\n",
        "* `asociacion casi nula (0<cov<0,1):`\n",
        "  * positiva: arrival_date_week_number, arrival_date_day_of_month, adults, \n",
        "children, babies, is_repeated_guest, previous_bookings_not_canceled, booking_changes, required_car_parking_spaces, total_of_special_requests.\n",
        "  * negativa: arrival_date_year, stays_in_weekend_nights, stays_in_week_nights, \n",
        "previous_cancellations, days_in_waiting_list, is_canceled.\n",
        "* `asociacion pequeña (0,1<cov<0,3):`\n",
        "  * positiva: adr.\n",
        "  * negativa: ninguna.\n",
        "* `asociacion mediana (0,3<cov<0,5):`\n",
        "  * positiva: company\n",
        "  * negativa: ninguna.\n",
        "* `asociacion moderada (0,5<cov<0,7):`\n",
        "  * positiva: ninguna.\n",
        "  * negativa: lead_time\n",
        "* `asociacion alta (0,7<cov<0,9):`\n",
        "  * positiva: agent\n",
        "  * negativa: ninguna.\n",
        "* `asociacion muy alta (cov<0,9):`\n",
        "  * positiva: ninguna.\n",
        "  * negativa: ninguna."
      ],
      "metadata": {
        "id": "VguyN_ztcuWO"
      }
    },
    {
      "cell_type": "code",
      "source": [
        "m_rcps=matriz_correlacion.loc[\"required_car_parking_spaces\"]\n",
        "varianza_rcps=np.linalg.norm(m_rcps)\n",
        "#varianza_rcps=matriz_correlacion.loc[\"required_car_parking_spaces\",\"required_car_parking_spaces\"]\n",
        "m_rcps/varianza_rcps"
      ],
      "metadata": {
        "colab": {
          "base_uri": "https://localhost:8080/"
        },
        "id": "1St5Y0Kicsh2",
        "outputId": "7233edd7-845f-4af3-80cc-961f92006a02"
      },
      "execution_count": 31,
      "outputs": [
        {
          "output_type": "execute_result",
          "data": {
            "text/plain": [
              "lead_time                        -0.600466\n",
              "arrival_date_year                -0.000392\n",
              "arrival_date_week_number          0.000918\n",
              "arrival_date_day_of_month         0.000124\n",
              "stays_in_weekend_nights          -0.000674\n",
              "stays_in_week_nights             -0.001946\n",
              "adults                            0.000297\n",
              "children                          0.000869\n",
              "babies                            0.000160\n",
              "is_repeated_guest                 0.000580\n",
              "previous_cancellations           -0.000927\n",
              "previous_bookings_not_canceled    0.003748\n",
              "booking_changes                   0.002215\n",
              "agent                             0.788510\n",
              "company                           0.054032\n",
              "days_in_waiting_list             -0.023721\n",
              "adr                               0.118457\n",
              "required_car_parking_spaces       0.010536\n",
              "total_of_special_requests         0.003390\n",
              "is_canceled                      -0.005385\n",
              "Name: required_car_parking_spaces, dtype: float64"
            ]
          },
          "metadata": {},
          "execution_count": 31
        }
      ]
    },
    {
      "cell_type": "markdown",
      "source": [
        "---\n",
        "#**total_of_special_requests**\n",
        "* `asociacion casi nula (0<cov<0,1):`\n",
        "  * positiva: arrival_date_year, arrival_date_week_number, arrival_date_day_of_month, stays_in_weekend_nights, stays_in_week_nights, adults, children, babies, is_repeated_guest, previous_bookings_not_canceled, \n",
        "booking_changes, required_car_parking_spaces, total_of_special_requests.\n",
        "  * negativa: previous_cancellations, days_in_waiting_list, is_canceled.\n",
        "* `asociacion pequeña (0,1<cov<0,3):`\n",
        "  * positiva: agent.\n",
        "  * negativa: ninguna.\n",
        "* `asociacion mediana (0,3<cov<0,5):`\n",
        "  * positiva: adr.\n",
        "  * negativa: company.\n",
        "* `asociacion moderada (0,5<cov<0,7):`\n",
        "  * positiva: ninguna.\n",
        "  * negativa: ninguna.\n",
        "* `asociacion alta (0,7<cov<0,9):`\n",
        "  * positiva: ninguna.\n",
        "  * negativa: lead_time.\n",
        "* `asociacion muy alta (cov<0,9):`\n",
        "  * positiva: ninguna.\n",
        "  * negativa: ninguna."
      ],
      "metadata": {
        "id": "gwqLBIamcCpM"
      }
    },
    {
      "cell_type": "code",
      "source": [
        "m_tosr=matriz_correlacion.loc[\"total_of_special_requests\"]\n",
        "varianza_tosr=np.linalg.norm(m_tosr)\n",
        "#varianza_b=matriz_correlacion.loc[\"total_of_special_requests\",\"total_of_special_requests\"]\n",
        "m_tosr/varianza_tosr"
      ],
      "metadata": {
        "colab": {
          "base_uri": "https://localhost:8080/"
        },
        "outputId": "a71a8c86-af48-4904-8832-258a281c137a",
        "id": "WWzHd4C_YfdL"
      },
      "execution_count": 32,
      "outputs": [
        {
          "output_type": "execute_result",
          "data": {
            "text/plain": [
              "lead_time                        -0.715122\n",
              "arrival_date_year                 0.004022\n",
              "arrival_date_week_number          0.020840\n",
              "arrival_date_day_of_month         0.003584\n",
              "stays_in_weekend_nights           0.003770\n",
              "stays_in_week_nights              0.007275\n",
              "adults                            0.003335\n",
              "children                          0.001696\n",
              "babies                            0.000453\n",
              "is_repeated_guest                 0.000139\n",
              "previous_cancellations           -0.002742\n",
              "previous_bookings_not_canceled    0.003018\n",
              "booking_changes                   0.002213\n",
              "agent                             0.289931\n",
              "company                          -0.448345\n",
              "days_in_waiting_list             -0.085122\n",
              "adr                               0.440464\n",
              "required_car_parking_spaces       0.001067\n",
              "total_of_special_requests         0.040798\n",
              "is_canceled                      -0.006445\n",
              "Name: total_of_special_requests, dtype: float64"
            ]
          },
          "metadata": {},
          "execution_count": 32
        }
      ]
    },
    {
      "cell_type": "markdown",
      "source": [
        "#relacion de las variables con el target\n"
      ],
      "metadata": {
        "id": "VI6cz3v_iXv9"
      }
    },
    {
      "cell_type": "markdown",
      "source": [
        "---\n",
        "#**is_canceled:**\n",
        "* `asociacion casi nula (0<cov<0,1):`\n",
        "  * positiva: arrival_date_year, arrival_date_week_number, stays_in_weekend_nights, stays_in_week_nights, adults, children, \n",
        "previous_cancellations, days_in_waiting_list, adr, is_canceled.\n",
        "  * negativa: arrival_date_day_of_month, babies, is_repeated_guest, \n",
        "previous_bookings_not_canceled, booking_changes, required_car_parking_spaces,\n",
        "total_of_special_requests.\n",
        "* `asociacion pequeña (0,1<cov<0,3):`\n",
        "  * positiva: ninguna.\n",
        "  * negativa: agent, company.\n",
        "* `asociacion mediana (0,3<cov<0,5):`\n",
        "  * positiva: ninguna.\n",
        "  * negativa: ninguna.\n",
        "* `asociacion moderada (0,5<cov<0,7):`\n",
        "  * positiva: ninguna.\n",
        "  * negativa: ninguna.\n",
        "* `asociacion alta (0,7<cov<0,9):`\n",
        "  * positiva: ninguna.\n",
        "  * negativa: ninguna.\n",
        "* `asociacion muy alta (cov<0,9):`\n",
        "  * positiva: lead_time.\n",
        "  * negativa: ninguna."
      ],
      "metadata": {
        "id": "rVmqb9dra71T"
      }
    },
    {
      "cell_type": "code",
      "source": [
        "m_ic=matriz_correlacion.loc[\"is_canceled\"]\n",
        "varianza_ic=np.linalg.norm(m_ic)\n",
        "#varianza_ch=matriz_correlacion.loc[\"is_canceled\",\"is_canceled\"]\n",
        "m_ic/varianza_ic"
      ],
      "metadata": {
        "colab": {
          "base_uri": "https://localhost:8080/"
        },
        "id": "9v_ib5T9RnEg",
        "outputId": "4760cb06-b4f3-4ed4-cc6b-a4e63dc8d27c"
      },
      "execution_count": 33,
      "outputs": [
        {
          "output_type": "execute_result",
          "data": {
            "text/plain": [
              "lead_time                         0.949112\n",
              "arrival_date_year                 0.000412\n",
              "arrival_date_week_number          0.003298\n",
              "arrival_date_day_of_month        -0.001891\n",
              "stays_in_weekend_nights           0.000037\n",
              "stays_in_week_nights              0.001564\n",
              "adults                            0.001034\n",
              "children                          0.000073\n",
              "babies                           -0.000086\n",
              "is_repeated_guest                -0.000435\n",
              "previous_cancellations            0.002888\n",
              "previous_bookings_not_canceled   -0.002683\n",
              "booking_changes                  -0.002838\n",
              "agent                            -0.275132\n",
              "company                          -0.133187\n",
              "days_in_waiting_list              0.027611\n",
              "adr                               0.068562\n",
              "required_car_parking_spaces      -0.001457\n",
              "total_of_special_requests        -0.005543\n",
              "is_canceled                       0.014588\n",
              "Name: is_canceled, dtype: float64"
            ]
          },
          "metadata": {},
          "execution_count": 33
        }
      ]
    },
    {
      "cell_type": "markdown",
      "source": [
        "#Graficos de visualizacion de datos"
      ],
      "metadata": {
        "id": "cyGDmcLNjvKj"
      }
    },
    {
      "cell_type": "code",
      "source": [
        "import pandas as pd\n",
        "import matplotlib. pyplot  as plt\n",
        "import seaborn as sns"
      ],
      "metadata": {
        "id": "_OJ2ts0Qjy8f"
      },
      "execution_count": 34,
      "outputs": []
    },
    {
      "cell_type": "markdown",
      "source": [
        "Variable country"
      ],
      "metadata": {
        "id": "oMRoUIGKkCqg"
      }
    },
    {
      "cell_type": "code",
      "source": [
        "df['country'].value_counts(normalize = True)"
      ],
      "metadata": {
        "colab": {
          "base_uri": "https://localhost:8080/"
        },
        "outputId": "ac567da0-d8c0-47fe-a6e4-81928f4f9047",
        "id": "7IxPqwjtkrue"
      },
      "execution_count": 35,
      "outputs": [
        {
          "output_type": "execute_result",
          "data": {
            "text/plain": [
              "PRT    0.453057\n",
              "GBR    0.092929\n",
              "FRA    0.077952\n",
              "ESP    0.068242\n",
              "DEU    0.053686\n",
              "         ...   \n",
              "HND    0.000016\n",
              "FJI    0.000016\n",
              "LIE    0.000016\n",
              "ATA    0.000016\n",
              "RWA    0.000016\n",
              "Name: country, Length: 149, dtype: float64"
            ]
          },
          "metadata": {},
          "execution_count": 35
        }
      ]
    },
    {
      "cell_type": "code",
      "source": [
        "y=df['country'].value_counts()"
      ],
      "metadata": {
        "id": "eyAmfL0Sky9P"
      },
      "execution_count": 36,
      "outputs": []
    },
    {
      "cell_type": "code",
      "source": [
        "country_values = df['country'].value_counts()\n",
        "country_values.describe()"
      ],
      "metadata": {
        "colab": {
          "base_uri": "https://localhost:8080/"
        },
        "id": "2FyuIj_0XsTj",
        "outputId": "f2bfa83c-40eb-443e-bd72-2aa7d97b65f3"
      },
      "execution_count": 38,
      "outputs": [
        {
          "output_type": "execute_result",
          "data": {
            "text/plain": [
              "count      149.000000\n",
              "mean       414.040268\n",
              "std       2402.160955\n",
              "min          1.000000\n",
              "25%          3.000000\n",
              "50%         12.000000\n",
              "75%         45.000000\n",
              "max      27950.000000\n",
              "Name: country, dtype: float64"
            ]
          },
          "metadata": {},
          "execution_count": 38
        }
      ]
    },
    {
      "cell_type": "code",
      "source": [
        "country_More_than_mean = country_values[country_values > country_values.mean()]\n",
        "country_More_than_mean"
      ],
      "metadata": {
        "colab": {
          "base_uri": "https://localhost:8080/"
        },
        "id": "zGxHvh7-Xvka",
        "outputId": "30330952-5666-4d3f-b44a-d0b7ad675b5e"
      },
      "execution_count": 39,
      "outputs": [
        {
          "output_type": "execute_result",
          "data": {
            "text/plain": [
              "PRT    27950\n",
              "GBR     5733\n",
              "FRA     4809\n",
              "ESP     4210\n",
              "DEU     3312\n",
              "ITA     1911\n",
              "IRL     1617\n",
              "BRA     1152\n",
              "BEL     1124\n",
              "USA     1021\n",
              "NLD      982\n",
              "CHE      847\n",
              "CN       597\n",
              "AUT      581\n",
              "CHN      545\n",
              "SWE      481\n",
              "POL      430\n",
              "Name: country, dtype: int64"
            ]
          },
          "metadata": {},
          "execution_count": 39
        }
      ]
    },
    {
      "cell_type": "code",
      "source": [
        "sns.barplot(data = country_More_than_mean.reset_index(),x = 'index' , y = 'country')\n",
        "plt.ylabel('numero de casos')\n",
        "plt.xlabel('pais')\n",
        "plt.title('cantidad de registros por pais')\n",
        "plt.show()\n"
      ],
      "metadata": {
        "colab": {
          "base_uri": "https://localhost:8080/",
          "height": 472
        },
        "outputId": "5c083be7-60d4-4c5f-fd82-33c320b9e88f",
        "id": "1S1MsGoPkzL1"
      },
      "execution_count": 40,
      "outputs": [
        {
          "output_type": "display_data",
          "data": {
            "text/plain": [
              "<Figure size 640x480 with 1 Axes>"
            ],
            "image/png": "[encoded data removed]"
          },
          "metadata": {}
        }
      ]
    },
    {
      "cell_type": "code",
      "source": [
        "adults_values = df['adults'].value_counts()\n",
        "adults_values.describe()"
      ],
      "metadata": {
        "colab": {
          "base_uri": "https://localhost:8080/"
        },
        "id": "OICskhbjX0IS",
        "outputId": "7f42553e-6008-4a38-8252-bdb33583536a"
      },
      "execution_count": 41,
      "outputs": [
        {
          "output_type": "execute_result",
          "data": {
            "text/plain": [
              "count       13.000000\n",
              "mean      4762.538462\n",
              "std      13083.056553\n",
              "min          1.000000\n",
              "25%          1.000000\n",
              "50%          2.000000\n",
              "75%        197.000000\n",
              "max      46962.000000\n",
              "Name: adults, dtype: float64"
            ]
          },
          "metadata": {},
          "execution_count": 41
        }
      ]
    },
    {
      "cell_type": "code",
      "source": [
        "adults_More_than_mean = adults_values[adults_values > adults_values.mean()]\n",
        "adults_More_than_mean"
      ],
      "metadata": {
        "colab": {
          "base_uri": "https://localhost:8080/"
        },
        "id": "9hKv3JAuX2lB",
        "outputId": "868c0b5c-fecc-4f72-ee73-7ab640cdb413"
      },
      "execution_count": 42,
      "outputs": [
        {
          "output_type": "execute_result",
          "data": {
            "text/plain": [
              "2    46962\n",
              "1    11549\n",
              "Name: adults, dtype: int64"
            ]
          },
          "metadata": {},
          "execution_count": 42
        }
      ]
    },
    {
      "cell_type": "code",
      "source": [
        "sns.barplot(data = adults_More_than_mean.reset_index(),x = 'index' , y = 'adults')\n",
        "plt.ylabel('numero de casos')\n",
        "plt.xlabel('adultos')\n",
        "plt.title('cantidad de adultos')\n",
        "plt.show()"
      ],
      "metadata": {
        "colab": {
          "base_uri": "https://localhost:8080/",
          "height": 472
        },
        "id": "pt32d8EtzBjb",
        "outputId": "641e64ee-4293-4d69-d75a-5f72dc6cdd3c"
      },
      "execution_count": 43,
      "outputs": [
        {
          "output_type": "display_data",
          "data": {
            "text/plain": [
              "<Figure size 640x480 with 1 Axes>"
            ],
            "image/png": "[encoded data removed]"
          },
          "metadata": {}
        }
      ]
    },
    {
      "cell_type": "markdown",
      "source": [
        "#Variable adultos, children y babies"
      ],
      "metadata": {
        "id": "6Obzid3Coj-U"
      }
    },
    {
      "cell_type": "code",
      "source": [
        "df['adults'].describe()"
      ],
      "metadata": {
        "colab": {
          "base_uri": "https://localhost:8080/"
        },
        "id": "II5wEpYFoabb",
        "outputId": "bfd09612-6796-4b88-b22b-13ae6dd369c3"
      },
      "execution_count": 44,
      "outputs": [
        {
          "output_type": "execute_result",
          "data": {
            "text/plain": [
              "count    61913.000000\n",
              "mean         1.862791\n",
              "std          0.589066\n",
              "min          0.000000\n",
              "25%          2.000000\n",
              "50%          2.000000\n",
              "75%          2.000000\n",
              "max         55.000000\n",
              "Name: adults, dtype: float64"
            ]
          },
          "metadata": {},
          "execution_count": 44
        }
      ]
    },
    {
      "cell_type": "code",
      "source": [
        "df['children'].describe()"
      ],
      "metadata": {
        "colab": {
          "base_uri": "https://localhost:8080/"
        },
        "id": "NvZdPeVfo0fo",
        "outputId": "a797693a-1200-44b4-e978-00461719bd4e"
      },
      "execution_count": 45,
      "outputs": [
        {
          "output_type": "execute_result",
          "data": {
            "text/plain": [
              "count    61913.000000\n",
              "mean         0.104889\n",
              "std          0.402835\n",
              "min          0.000000\n",
              "25%          0.000000\n",
              "50%          0.000000\n",
              "75%          0.000000\n",
              "max         10.000000\n",
              "Name: children, dtype: float64"
            ]
          },
          "metadata": {},
          "execution_count": 45
        }
      ]
    },
    {
      "cell_type": "code",
      "source": [
        "df['babies'].describe()"
      ],
      "metadata": {
        "id": "6VA8Un5rpCAw",
        "outputId": "aab75adb-00b4-472c-81b5-57f71d56b17b",
        "colab": {
          "base_uri": "https://localhost:8080/"
        }
      },
      "execution_count": 46,
      "outputs": [
        {
          "output_type": "execute_result",
          "data": {
            "text/plain": [
              "count    61913.000000\n",
              "mean         0.007155\n",
              "std          0.092158\n",
              "min          0.000000\n",
              "25%          0.000000\n",
              "50%          0.000000\n",
              "75%          0.000000\n",
              "max          9.000000\n",
              "Name: babies, dtype: float64"
            ]
          },
          "metadata": {},
          "execution_count": 46
        }
      ]
    },
    {
      "cell_type": "markdown",
      "source": [
        "se plantea funcion de deteccion de outliers"
      ],
      "metadata": {
        "id": "Nqvbomluwf8u"
      }
    },
    {
      "cell_type": "code",
      "source": [
        "def detect_outliers(data, col_name):\n",
        "    \"\"\"\n",
        "    Esta función detecta los outliers en una columna específica utilizando el rango intercuartílico (IQR).\n",
        "\n",
        "    Args:\n",
        "    data: Un DataFrame de pandas que contiene la columna a analizar.\n",
        "    col_name: El nombre de la columna a analizar.\n",
        "\n",
        "    Returns:\n",
        "    Un DataFrame que contiene los outliers detectados.\n",
        "    \"\"\"\n",
        "    # Se calcula el primer y tercer cuartil\n",
        "    q1 = data[col_name].quantile(0.25)\n",
        "    q3 = data[col_name].quantile(0.75)\n",
        "\n",
        "    # Se calcula el rango intercuartílico (IQR)\n",
        "    iqr = q3 - q1\n",
        "\n",
        "    # Se define un umbral para detectar los outliers\n",
        "    threshold = 1.5 * iqr\n",
        "\n",
        "    # Se encuentran los valores que se encuentran fuera del umbral\n",
        "    outliers = data[(data[col_name] < q1 - threshold) | (data[col_name] > q3 + threshold)]\n",
        "\n",
        "    return outliers"
      ],
      "metadata": {
        "id": "IhMh3gM8wZe3"
      },
      "execution_count": 47,
      "outputs": []
    },
    {
      "cell_type": "markdown",
      "source": [
        "se busca outliers en children, babies y adults"
      ],
      "metadata": {
        "id": "8ZfVts-OwmTX"
      }
    },
    {
      "cell_type": "code",
      "source": [
        "outliers_children=detect_outliers(df,'children')\n",
        "outliers_children['children']"
      ],
      "metadata": {
        "colab": {
          "base_uri": "https://localhost:8080/"
        },
        "id": "xKHnQuTNwlt-",
        "outputId": "45827a0b-64f5-4e63-8d09-38452b276a66"
      },
      "execution_count": 48,
      "outputs": [
        {
          "output_type": "execute_result",
          "data": {
            "text/plain": [
              "2        2\n",
              "53       1\n",
              "71       2\n",
              "93       1\n",
              "96       2\n",
              "        ..\n",
              "61886    1\n",
              "61889    2\n",
              "61902    1\n",
              "61903    3\n",
              "61906    1\n",
              "Name: children, Length: 4452, dtype: int64"
            ]
          },
          "metadata": {},
          "execution_count": 48
        }
      ]
    },
    {
      "cell_type": "markdown",
      "source": [
        "se ve que detecta como outliers los que tienen mas de 1 hijo, son 4452 casos"
      ],
      "metadata": {
        "id": "wdhN1WPzxaE3"
      }
    },
    {
      "cell_type": "code",
      "source": [
        "outliers_adults=detect_outliers(df,'adults')\n",
        "outliers_adults['adults']"
      ],
      "metadata": {
        "colab": {
          "base_uri": "https://localhost:8080/"
        },
        "id": "swpWO6e4xMgu",
        "outputId": "f4677495-e10f-487d-918d-c62bc8e33e45"
      },
      "execution_count": 49,
      "outputs": [
        {
          "output_type": "execute_result",
          "data": {
            "text/plain": [
              "0        1\n",
              "5        1\n",
              "11       1\n",
              "13       1\n",
              "25       1\n",
              "        ..\n",
              "61901    1\n",
              "61904    1\n",
              "61907    1\n",
              "61909    1\n",
              "61910    1\n",
              "Name: adults, Length: 14951, dtype: int64"
            ]
          },
          "metadata": {},
          "execution_count": 49
        }
      ]
    },
    {
      "cell_type": "markdown",
      "source": [
        "se ve que pone como outliers los que son 1 adulto o mas, son la gran mayoria"
      ],
      "metadata": {
        "id": "efSDECd3xst1"
      }
    },
    {
      "cell_type": "code",
      "source": [
        "outliers_babies=detect_outliers(df,'babies')\n",
        "outliers_babies['babies']"
      ],
      "metadata": {
        "colab": {
          "base_uri": "https://localhost:8080/"
        },
        "id": "0nasmxxvx3pJ",
        "outputId": "283f0154-9c49-40da-f4f6-20810cf7cdba"
      },
      "execution_count": 50,
      "outputs": [
        {
          "output_type": "execute_result",
          "data": {
            "text/plain": [
              "147      1\n",
              "184      1\n",
              "262      1\n",
              "621      1\n",
              "704      1\n",
              "        ..\n",
              "61454    1\n",
              "61597    1\n",
              "61632    1\n",
              "61637    1\n",
              "61729    1\n",
              "Name: babies, Length: 428, dtype: int64"
            ]
          },
          "metadata": {},
          "execution_count": 50
        }
      ]
    },
    {
      "cell_type": "markdown",
      "source": [
        "pone como outliers lo que tienen un hijo o mas, son 428 casis"
      ],
      "metadata": {
        "id": "zIfRDhXpyZEU"
      }
    },
    {
      "cell_type": "markdown",
      "source": [
        "#casos de los 3 campos en 0\n"
      ],
      "metadata": {
        "id": "BllkiQtXzfqv"
      }
    },
    {
      "cell_type": "code",
      "source": [
        "niños=df[(df['children']>0)==True]\n",
        "niños['id']"
      ],
      "metadata": {
        "colab": {
          "base_uri": "https://localhost:8080/"
        },
        "id": "oMcB09f9YNVp",
        "outputId": "3466e4e7-a1a1-4b9a-9995-8ee334bce02d"
      },
      "execution_count": 59,
      "outputs": [
        {
          "output_type": "execute_result",
          "data": {
            "text/plain": [
              "2        2226c018-ea20-4c4e-8f71-ea66aee70d7c\n",
              "53       564ca867-b9e2-4301-8f24-39c68d7b0ceb\n",
              "71       eb27eac0-9cf3-4eb1-bf24-3060feb44075\n",
              "93       84ab1029-8fd8-451f-9cde-06b5f07bd564\n",
              "96       dcaf076d-bd38-47dd-8d9d-16be09cd5b08\n",
              "                         ...                 \n",
              "61886    89e0eb21-64cd-44f2-930d-79b83115a683\n",
              "61889    c7981146-048c-4ec2-8c14-9df1ba8708af\n",
              "61902    9861c336-6b3d-4a35-83ef-9c7d8a18886c\n",
              "61903    a24e074b-8bbc-47ab-9154-70592f1fac09\n",
              "61906    8a4d1423-1343-4e9f-a6df-68adf4d173bf\n",
              "Name: id, Length: 4452, dtype: object"
            ]
          },
          "metadata": {},
          "execution_count": 59
        }
      ]
    },
    {
      "cell_type": "code",
      "source": [
        "bebes=df[(df['babies']>0)==True]\n",
        "bebes['id']"
      ],
      "metadata": {
        "colab": {
          "base_uri": "https://localhost:8080/"
        },
        "id": "5AsntZdXYvWi",
        "outputId": "7ef348b1-9c50-4a42-fdda-19e91d28c98c"
      },
      "execution_count": 61,
      "outputs": [
        {
          "output_type": "execute_result",
          "data": {
            "text/plain": [
              "147      c360712b-51f9-4cb2-ae99-c7318e329c1c\n",
              "184      031bae88-eab7-4711-8d3c-def23a756fd8\n",
              "262      02345d6b-4d87-4e93-8997-a6fc0903e1b9\n",
              "621      5a0d9f70-f093-48bd-a9de-f7cd1ec9e9df\n",
              "704      7229e2a7-3b45-41e8-bf5a-62323838c444\n",
              "                         ...                 \n",
              "61454    3606b7d1-0c1e-450f-b2fa-c4cb08768cac\n",
              "61597    34604620-080f-49b2-83e4-5d92cd95bfb8\n",
              "61632    edee08fa-4fe1-42e9-94db-b15746b89ea6\n",
              "61637    853d786b-05ed-4b6e-bce1-36be9d90500d\n",
              "61729    aae337cd-5ee2-4986-86e7-7769b4ae63ef\n",
              "Name: id, Length: 428, dtype: object"
            ]
          },
          "metadata": {},
          "execution_count": 61
        }
      ]
    },
    {
      "cell_type": "code",
      "source": [
        "from itertools import product"
      ],
      "metadata": {
        "id": "acL4TEZmZmiS"
      },
      "execution_count": 63,
      "outputs": []
    },
    {
      "cell_type": "code",
      "source": [
        "sinadultos=df[(df['adults']==0)==True]\n",
        "sinadultos['id']"
      ],
      "metadata": {
        "colab": {
          "base_uri": "https://localhost:8080/"
        },
        "id": "uHIrYCwhaFsB",
        "outputId": "a4f7994c-5939-4838-93c5-8ad8463a4a2b"
      },
      "execution_count": 68,
      "outputs": [
        {
          "output_type": "execute_result",
          "data": {
            "text/plain": [
              "96       dcaf076d-bd38-47dd-8d9d-16be09cd5b08\n",
              "212      55c9b5f9-b5d0-49a2-9348-c6476a0bd772\n",
              "270      6a48e05e-c36a-41d0-b7e0-5f8b92dab109\n",
              "326      74fe3153-e2ae-4650-a375-05fc52881a56\n",
              "464      cfe370c2-298a-4de8-82fd-f8d418febd7f\n",
              "                         ...                 \n",
              "59982    8b700cc2-903e-4400-9c68-aba04d69de38\n",
              "60837    070652d9-948b-47a3-bb96-113627bb5558\n",
              "60994    17552f62-53e5-4bdf-877d-c2b9769ec27a\n",
              "61003    c6b4f9bb-b1f7-4765-a4af-5846748c13f4\n",
              "61298    f2229afc-8196-4e61-8e5f-1a0affacd756\n",
              "Name: id, Length: 197, dtype: object"
            ]
          },
          "metadata": {},
          "execution_count": 68
        }
      ]
    },
    {
      "cell_type": "markdown",
      "source": [
        "la idea seria ver cuales cumplen las 3 condiciones a la vez"
      ],
      "metadata": {
        "id": "TrUt5gg_fjhJ"
      }
    }
  ]
}